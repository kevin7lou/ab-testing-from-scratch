{
 "cells": [
  {
   "cell_type": "code",
   "execution_count": 1,
   "id": "13f8e701",
   "metadata": {},
   "outputs": [],
   "source": [
    "from random import random\n",
    "from math import pi, e, sqrt, floor\n",
    "from scipy.constants import golden"
   ]
  },
  {
   "cell_type": "code",
   "execution_count": 2,
   "id": "5ad41813",
   "metadata": {},
   "outputs": [
    {
     "name": "stdout",
     "output_type": "stream",
     "text": [
      "actual:   1.41421\n",
      "estimate: 1.41421\n"
     ]
    }
   ],
   "source": [
    "# estimate sqrt(2) with Monte Carlo\n",
    "\n",
    "N = 1000*1000\n",
    "xs = sorted([(1.4 + random()/10) for _ in range(N)])\n",
    "for x in xs:\n",
    "    if x**2 > 2: break\n",
    "\n",
    "print('actual:   %.5f' % sqrt(2))\n",
    "print('estimate: %.5f' % x)"
   ]
  },
  {
   "cell_type": "code",
   "execution_count": 3,
   "id": "0b8c92c4",
   "metadata": {},
   "outputs": [
    {
     "name": "stdout",
     "output_type": "stream",
     "text": [
      "actual:   1.4142136\n",
      "estimate: 1.4142136\n"
     ]
    }
   ],
   "source": [
    "# estimate sqrt(2) without randomization\n",
    "\n",
    "eps = 0.00000001\n",
    "x = 1.4\n",
    "while True:\n",
    "    x += eps\n",
    "    if x**2 > 2:\n",
    "        break\n",
    "print('actual:   %.7f' % sqrt(2))\n",
    "print('estimate: %.7f' % x)"
   ]
  },
  {
   "cell_type": "code",
   "execution_count": 4,
   "id": "92af142c",
   "metadata": {},
   "outputs": [
    {
     "name": "stdout",
     "output_type": "stream",
     "text": [
      "actual:   1.61803\n",
      "estimate: 1.61803\n"
     ]
    }
   ],
   "source": [
    "# estimate the golden ratio ϕ with Monte Carlo\n",
    "\n",
    "N = 10*1000*1000\n",
    "gs = []\n",
    "for _ in range(N):\n",
    "    a, b = random(), random()\n",
    "    if a < b: continue\n",
    "    l, r = (a + b) / a, a / b\n",
    "    gs.append((l / r, r))\n",
    "gs.sort()\n",
    "for g in gs:\n",
    "    if g[0] > 1: break\n",
    "print('actual:   %.5f' % golden)\n",
    "print('estimate: %.5f' % g[1])"
   ]
  },
  {
   "cell_type": "code",
   "execution_count": 5,
   "id": "4ae10303",
   "metadata": {},
   "outputs": [
    {
     "name": "stdout",
     "output_type": "stream",
     "text": [
      "actual:   2.71828\n",
      "estimate: 2.71925\n"
     ]
    }
   ],
   "source": [
    "# estimate Euler's number e with Monte Carlo\n",
    "\n",
    "N, Ni = 10*1000*1000, 0\n",
    "ps = sorted([(1 + 3 * random(), random()) for _ in range(N)])\n",
    "for i, p in enumerate(ps):\n",
    "    if p[1] < 1 / p[0]: Ni += 1\n",
    "    if (p[0]-1) * Ni / (i+1) > 1: break\n",
    "\n",
    "print('actual:   %.5f' % e)\n",
    "print('estimate: %.5f' % p[0])"
   ]
  },
  {
   "cell_type": "code",
   "execution_count": 6,
   "id": "b52bae37",
   "metadata": {},
   "outputs": [
    {
     "name": "stdout",
     "output_type": "stream",
     "text": [
      "actual:   2.7182818\n",
      "estimate: 2.7182818\n"
     ]
    }
   ],
   "source": [
    "# estimate Euler's number e without randomization\n",
    "\n",
    "eps = 0.00000001\n",
    "x = 1\n",
    "integral = 0\n",
    "while True:\n",
    "    x += eps\n",
    "    integral += eps * 1/x\n",
    "    if integral > 1:\n",
    "        break\n",
    "print('actual:   %.7f' % e)\n",
    "print('estimate: %.7f' % x)"
   ]
  },
  {
   "cell_type": "code",
   "execution_count": 7,
   "id": "987b9ff1",
   "metadata": {},
   "outputs": [
    {
     "name": "stdout",
     "output_type": "stream",
     "text": [
      "actual:   1.41421\n",
      "estimate: 1.41421\n"
     ]
    }
   ],
   "source": [
    "# estimate sqrt(2)\n",
    "\n",
    "N = 1000*1000\n",
    "xs = sorted([(1.4 + random()/10) for _ in range(N)])\n",
    "for x in xs:\n",
    "    if x**2 > 2: break\n",
    "\n",
    "print('actual:   %.5f' % sqrt(2))\n",
    "print('estimate: %.5f' % x)"
   ]
  },
  {
   "cell_type": "code",
   "execution_count": 8,
   "id": "af30d382",
   "metadata": {},
   "outputs": [
    {
     "name": "stdout",
     "output_type": "stream",
     "text": [
      "actual:   1.4142136\n",
      "estimate: 1.4142136\n"
     ]
    }
   ],
   "source": [
    "# estimate sqrt(2) without randomization\n",
    "\n",
    "eps = 0.00000001\n",
    "x = 1.4\n",
    "while True:\n",
    "    x += eps\n",
    "    if x**2 > 2:\n",
    "        break\n",
    "print('actual:   %.7f' % sqrt(2))\n",
    "print('estimate: %.7f' % x)"
   ]
  },
  {
   "cell_type": "code",
   "execution_count": 9,
   "id": "1922d7c0",
   "metadata": {},
   "outputs": [
    {
     "name": "stdout",
     "output_type": "stream",
     "text": [
      "actual:   3.14159\n",
      "estimate: 3.14215\n"
     ]
    }
   ],
   "source": [
    "# estimate π with Monte Carlo\n",
    "\n",
    "N = 10*1000*1000\n",
    "Nc = sum([1 for _ in range(N) if random()**2 + random()**2 < 1])\n",
    "\n",
    "print('actual:   %.5f' % pi)\n",
    "print('estimate: %.5f' % (4 * Nc / N))"
   ]
  },
  {
   "cell_type": "code",
   "execution_count": 10,
   "id": "a81d2d0e",
   "metadata": {},
   "outputs": [
    {
     "name": "stdout",
     "output_type": "stream",
     "text": [
      "actual:   3.14159\n",
      "estimate: 3.14199\n"
     ]
    }
   ],
   "source": [
    "# estimate π without randomization\n",
    "\n",
    "eps = 0.0001\n",
    "x = y = 0\n",
    "Nc = N = 0\n",
    "for _ in range(floor(1/eps)):\n",
    "    for _ in range(floor(1/eps)):\n",
    "        if x**2 + y**2 < 1: Nc += 1\n",
    "        N += 1\n",
    "        y += eps\n",
    "    x += eps\n",
    "    y = 0\n",
    "print('actual:   %.5f' % pi)\n",
    "print('estimate: %.5f' % (4 * Nc / N))"
   ]
  }
 ],
 "metadata": {
  "kernelspec": {
   "display_name": "Python 3 (ipykernel)",
   "language": "python",
   "name": "python3"
  },
  "language_info": {
   "codemirror_mode": {
    "name": "ipython",
    "version": 3
   },
   "file_extension": ".py",
   "mimetype": "text/x-python",
   "name": "python",
   "nbconvert_exporter": "python",
   "pygments_lexer": "ipython3",
   "version": "3.9.7"
  }
 },
 "nbformat": 4,
 "nbformat_minor": 5
}
