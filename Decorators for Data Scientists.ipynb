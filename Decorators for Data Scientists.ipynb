{
 "cells": [
  {
   "cell_type": "code",
   "execution_count": 1,
   "id": "4cb57b11",
   "metadata": {},
   "outputs": [
    {
     "data": {
      "text/plain": [
       "'3.9.7 (default, Sep 16 2021, 08:50:36) \\n[Clang 10.0.0 ]'"
      ]
     },
     "execution_count": 1,
     "metadata": {},
     "output_type": "execute_result"
    }
   ],
   "source": [
    "import sys\n",
    "from typing import *\n",
    "from time import sleep, time\n",
    "from random import seed\n",
    "from io import StringIO\n",
    "from sys import settrace\n",
    "from sympy import isprime\n",
    "from random import randint\n",
    "from math import log, floor\n",
    "from itertools import chain\n",
    "from functools import reduce\n",
    "from socket import gethostname\n",
    "from joblib import Parallel, delayed\n",
    "from multiprocessing import cpu_count\n",
    "from contextlib import redirect_stdout\n",
    "from timeit import default_timer as timer\n",
    "from multiprocessing.pool import ThreadPool\n",
    "sys.version"
   ]
  },
  {
   "cell_type": "code",
   "execution_count": 2,
   "id": "3907eb54",
   "metadata": {},
   "outputs": [
    {
     "name": "stdout",
     "output_type": "stream",
     "text": [
      "77\n"
     ]
    }
   ],
   "source": [
    "def generate_primes(domain: int=1000*1000, num_attempts: int=1000) -> list[int]:\n",
    "    primes: set[int] = set()\n",
    "    seed(time())\n",
    "    for _ in range(num_attempts):\n",
    "        candidate: int = randint(4, domain)\n",
    "        if isprime(candidate):\n",
    "            primes.add(candidate)\n",
    "    return sorted(primes)\n",
    "\n",
    "print(len(generate_primes()))"
   ]
  },
  {
   "cell_type": "code",
   "execution_count": 3,
   "id": "a8a39aea",
   "metadata": {},
   "outputs": [
    {
     "name": "stdout",
     "output_type": "stream",
     "text": [
      "1233\n"
     ]
    }
   ],
   "source": [
    "# this version used thread parallelim,\n",
    "# which doesn't work very well because of Python\n",
    "# Global Interpreter Lock (GIL)\n",
    "# \n",
    "# def parallel(func=None, args=(), merge_func=lambda x:x, parallelism = cpu_count()):\n",
    "#     def decorator(func: Callable):\n",
    "#         def inner(*args, **kwargs):\n",
    "#             pool = ThreadPool(parallelism)\n",
    "#             results = [pool.apply_async(func, args, kwargs) for _ in range(parallelism)]\n",
    "#             results = [r.get() for r in results]\n",
    "#             pool.close()\n",
    "#             pool.join()\n",
    "#             return merge_func(results)\n",
    "#         return inner\n",
    "#     if func is None:\n",
    "#         # decorator was used like @parallel(...)\n",
    "#         return decorator\n",
    "#     else:\n",
    "#         # decorator was used like @parallel, without parens\n",
    "#         return decorator(func)\n",
    "\n",
    "# this version uses process parallelism,\n",
    "# so the GIL is not a problem, but it's more\n",
    "# expensive, it only makes sense for bigger jobs\n",
    "#\n",
    "def parallel(func=None, args=(), merge_func=lambda x:x, parallelism = cpu_count()):\n",
    "    def decorator(func: Callable):\n",
    "        def inner(*args, **kwargs):\n",
    "            results = Parallel(n_jobs=parallelism)(delayed(func)(*args, **kwargs) for i in range(parallelism))\n",
    "            return merge_func(results)\n",
    "        return inner\n",
    "    if func is None:\n",
    "        # decorator was used like @parallel(...)\n",
    "        return decorator\n",
    "    else:\n",
    "        # decorator was used like @parallel, without parens\n",
    "        return decorator(func)\n",
    "\n",
    "@parallel(merge_func=lambda li: sorted(set(chain(*li))))\n",
    "def generate_primes(domain: int=1000*1000, num_attempts: int=1000) -> list[int]:\n",
    "    primes: set[int] = set()\n",
    "    seed(time())\n",
    "    for _ in range(num_attempts):\n",
    "        candidate: int = randint(4, domain)\n",
    "        if isprime(candidate):\n",
    "            primes.add(candidate)\n",
    "    return sorted(primes)\n",
    "\n",
    "print(len(generate_primes()))"
   ]
  },
  {
   "cell_type": "code",
   "execution_count": 4,
   "id": "fbb07862",
   "metadata": {},
   "outputs": [
    {
     "name": "stdout",
     "output_type": "stream",
     "text": [
      "Running in production, touching databases!\n"
     ]
    }
   ],
   "source": [
    "def foo1():\n",
    "    print('Running in production, touching databases!')\n",
    "\n",
    "foo1()"
   ]
  },
  {
   "cell_type": "code",
   "execution_count": 5,
   "id": "04abfe1f",
   "metadata": {},
   "outputs": [
    {
     "name": "stdout",
     "output_type": "stream",
     "text": [
      "Running in production, touching databases!\n",
      "This host is a production server, skipping function decorated with @development...\n",
      "Skipping function decorated with @inactive...\n"
     ]
    }
   ],
   "source": [
    "# production_servers = []\n",
    "production_servers = ['Spacegray.lan'] # this is my hostname, for testing\n",
    "\n",
    "def production(func: Callable):\n",
    "    def inner(*args, **kwargs):\n",
    "        if gethostname() in production_servers:\n",
    "            return func(*args, **kwargs)\n",
    "        else:\n",
    "            print('This host is not a production server, skipping function decorated with @production...')\n",
    "    return inner\n",
    "\n",
    "def development(func: Callable):\n",
    "    def inner(*args, **kwargs):\n",
    "        if gethostname() not in production_servers:\n",
    "            return func(*args, **kwargs)\n",
    "        else:\n",
    "            print('This host is a production server, skipping function decorated with @development...')\n",
    "    return inner\n",
    "\n",
    "def inactive(func: Callable):\n",
    "    def inner(*args, **kwargs):\n",
    "        print('Skipping function decorated with @inactive...')\n",
    "    return inner\n",
    "\n",
    "@production\n",
    "def foo2():\n",
    "    print('Running in production, touching databases!')\n",
    "\n",
    "foo2()\n",
    "\n",
    "@development\n",
    "def foo3():\n",
    "    print('Running in production, touching databases!')\n",
    "    \n",
    "foo3()\n",
    "\n",
    "@inactive\n",
    "def foo4():\n",
    "    print('Running in production, touching databases!')\n",
    "    \n",
    "foo4()"
   ]
  },
  {
   "cell_type": "code",
   "execution_count": 6,
   "id": "43c22ce6",
   "metadata": {},
   "outputs": [
    {
     "name": "stdout",
     "output_type": "stream",
     "text": [
      "Running in production, touching databases!\n"
     ]
    }
   ],
   "source": [
    "def deployable(func):\n",
    "    def inner(*args, **kwargs):\n",
    "        if 'deploy' in kwargs:\n",
    "            if kwargs['deploy'].lower() in ['production', 'prod'] and gethostname() not in production_servers:\n",
    "                print('This host is not a production server, skipping...')\n",
    "                return\n",
    "            if kwargs['deploy'].lower() in ['development', 'dev'] and gethostname() not in development_servers:\n",
    "                print('This host is not a development server, skipping...')\n",
    "                return\n",
    "            if kwargs['deploy'].lower() in ['skip', 'none']:\n",
    "                print('Skipping...')\n",
    "                return\n",
    "            del kwargs['deploy'] # to avoid func() throwing an unexpected keyword exception\n",
    "        return func(*args, **kwargs)\n",
    "    return inner\n",
    "\n",
    "@deployable\n",
    "def foo_generic():\n",
    "    print('Running in production, touching databases!')\n",
    "\n",
    "foo_generic(deploy='prod')"
   ]
  },
  {
   "cell_type": "code",
   "execution_count": 7,
   "id": "04ec7be4",
   "metadata": {},
   "outputs": [
    {
     "name": "stdout",
     "output_type": "stream",
     "text": [
      "Line #1\n",
      "Line #2\n",
      "Line #3\n",
      "\n",
      "01: Line #1\n",
      "02: Line #2\n",
      "03: Line #3\n",
      "04: Line #4\n",
      "05: Line #5\n",
      "06: Line #6\n",
      "07: Line #7\n",
      "08: Line #8\n",
      "09: Line #9\n",
      "10: Line #10\n",
      "\n",
      "['Line #1', 'Line #2', 'Line #3']\n"
     ]
    }
   ],
   "source": [
    "def print_lines1(num_lines):\n",
    "    for i in range(num_lines):\n",
    "        print(f'Line #{i+1}')\n",
    "\n",
    "print_lines1(3)\n",
    "print()\n",
    "\n",
    "def redirect(func=None, line_print: Callable = None):\n",
    "    def decorator(func: Callable):\n",
    "        def inner(*args, **kwargs):\n",
    "            with StringIO() as buf, redirect_stdout(buf):\n",
    "                func(*args, **kwargs)\n",
    "                output = buf.getvalue()\n",
    "            lines = output.splitlines()\n",
    "            if line_print is not None:\n",
    "                for line in lines:\n",
    "                    line_print(line)\n",
    "            else:\n",
    "                width = floor(log(len(lines), 10)) + 1\n",
    "                for i, line in enumerate(lines):\n",
    "                    i += 1\n",
    "                    print(f'{i:0{width}}: {line}')\n",
    "        return inner\n",
    "    if func is None:\n",
    "        # decorator was used like @redirect(...)\n",
    "        return decorator\n",
    "    else:\n",
    "        # decorator was used like @redirect, without parens\n",
    "        return decorator(func)\n",
    "\n",
    "@redirect\n",
    "def print_lines2(num_lines):\n",
    "    for i in range(num_lines):\n",
    "        print(f'Line #{i+1}')\n",
    "\n",
    "print_lines2(10)\n",
    "print()\n",
    "\n",
    "lines = []\n",
    "def save_lines(line):\n",
    "    lines.append(line)\n",
    "    \n",
    "@redirect(line_print=save_lines)\n",
    "def print_lines3(num_lines):\n",
    "    for i in range(num_lines):\n",
    "        print(f'Line #{i+1}')\n",
    "\n",
    "print_lines3(3)\n",
    "print(lines)"
   ]
  },
  {
   "cell_type": "code",
   "execution_count": 8,
   "id": "a4255b2c",
   "metadata": {},
   "outputs": [
    {
     "name": "stdout",
     "output_type": "stream",
     "text": [
      "--> Executing: a('foo')\n",
      "foo\n",
      "--> Executing: b()\n",
      "...\n",
      "--> Returning: b() -> None\n",
      "--> Returning: a('foo') -> 'world'\n"
     ]
    }
   ],
   "source": [
    "def stacktrace(func=None, exclude_files=['anaconda']):\n",
    "    def tracer_func(frame, event, arg):\n",
    "        co = frame.f_code\n",
    "        func_name = co.co_name\n",
    "        caller_filename = frame.f_back.f_code.co_filename\n",
    "        if func_name == 'write':\n",
    "            return # ignore write() calls from print statements\n",
    "        for file in exclude_files:\n",
    "            if file in caller_filename:\n",
    "                return # ignore in ipython notebooks\n",
    "        args = str(tuple([frame.f_locals[arg] for arg in frame.f_code.co_varnames]))\n",
    "        if args.endswith(',)'):\n",
    "            args = args[:-2] + ')'\n",
    "        if event == 'call':\n",
    "            print(f'--> Executing: {func_name}{args}')\n",
    "            return tracer_func\n",
    "        elif event == 'return':\n",
    "            print(f'--> Returning: {func_name}{args} -> {repr(arg)}')\n",
    "        return\n",
    "    def decorator(func: Callable):\n",
    "        def inner(*args, **kwargs):\n",
    "            settrace(tracer_func)\n",
    "            func(*args, **kwargs)\n",
    "            settrace(None)\n",
    "        return inner\n",
    "    if func is None:\n",
    "        # decorator was used like @stacktrace(...)\n",
    "        return decorator\n",
    "    else:\n",
    "        # decorator was used like @stacktrace, without parens\n",
    "        return decorator(func)\n",
    "\n",
    "def b():\n",
    "    print('...')\n",
    "\n",
    "@stacktrace\n",
    "def a(arg):\n",
    "    print(arg)\n",
    "    b()\n",
    "    return 'world'\n",
    "\n",
    "a('foo')"
   ]
  },
  {
   "cell_type": "code",
   "execution_count": 9,
   "id": "cc51d952",
   "metadata": {},
   "outputs": [
    {
     "name": "stdout",
     "output_type": "stream",
     "text": [
      "--> Executing: Foo::__init__()\n",
      "--> Executing: Foo::__init__()\n",
      "--> Executing: Foo::increment()\n",
      "--> Executing: Foo::__str__()\n",
      "This is a Foo object with i = 1\n",
      "--> Executing: Foo::__str__()\n",
      "This is a Foo object with i = 4\n"
     ]
    }
   ],
   "source": [
    "def traceclass(cls: type):\n",
    "    def make_traced(cls: type, method_name: str, method: Callable):\n",
    "        def traced_method(*args, **kwargs):\n",
    "            print(f'--> Executing: {cls.__name__}::{method_name}()')\n",
    "            return method(*args, **kwargs)\n",
    "        return traced_method\n",
    "    for name in cls.__dict__.keys():\n",
    "        if callable(getattr(cls, name)) and name != '__class__':\n",
    "            setattr(cls, name, make_traced(cls, name, getattr(cls, name)))\n",
    "    return cls\n",
    "\n",
    "@traceclass\n",
    "class Foo:\n",
    "    i: int = 0\n",
    "    def __init__(self, i: int = 0):\n",
    "        self.i = i\n",
    "    def increment(self):\n",
    "        self.i += 1\n",
    "    def __str__(self):\n",
    "        return f'This is a {self.__class__.__name__} object with i = {self.i}'\n",
    "\n",
    "f1 = Foo()\n",
    "f2 = Foo(4)\n",
    "f1.increment()\n",
    "print(f1)\n",
    "print(f2)"
   ]
  },
  {
   "cell_type": "code",
   "execution_count": 10,
   "id": "6628950c",
   "metadata": {},
   "outputs": [
    {
     "name": "stdout",
     "output_type": "stream",
     "text": [
      "Going to sleep...\n",
      "Done!\n",
      "Elapsed: 3.003 secs\n"
     ]
    }
   ],
   "source": [
    "def measure(func: Callable):\n",
    "    def inner(*args, **kwargs):\n",
    "        start = timer()\n",
    "        func(*args, **kwargs)\n",
    "        elapsed_sec = timer() - start\n",
    "        print(f'Elapsed: {elapsed_sec:.3f} secs')\n",
    "    return inner\n",
    "\n",
    "@measure\n",
    "def sleeper(seconds: int = 0):\n",
    "    print('Going to sleep...')\n",
    "    sleep(seconds)\n",
    "    print('Done!')\n",
    "\n",
    "sleeper(3)"
   ]
  }
 ],
 "metadata": {
  "kernelspec": {
   "display_name": "Python 3 (ipykernel)",
   "language": "python",
   "name": "python3"
  },
  "language_info": {
   "codemirror_mode": {
    "name": "ipython",
    "version": 3
   },
   "file_extension": ".py",
   "mimetype": "text/x-python",
   "name": "python",
   "nbconvert_exporter": "python",
   "pygments_lexer": "ipython3",
   "version": "3.9.7"
  }
 },
 "nbformat": 4,
 "nbformat_minor": 5
}
