{
 "cells": [
  {
   "cell_type": "code",
   "execution_count": 29,
   "id": "224800f0",
   "metadata": {
    "ExecuteTime": {
     "end_time": "2022-03-20T13:39:22.420262Z",
     "start_time": "2022-03-20T13:39:22.417494Z"
    }
   },
   "outputs": [],
   "source": [
    "from time import time\n",
    "from random import random\n",
    "from statistics import mean, stdev"
   ]
  },
  {
   "cell_type": "code",
   "execution_count": 10,
   "id": "82a131b3",
   "metadata": {
    "ExecuteTime": {
     "end_time": "2022-03-20T13:25:42.190159Z",
     "start_time": "2022-03-20T13:25:42.181548Z"
    }
   },
   "outputs": [],
   "source": [
    "def coin_flip(bias=0.5):\n",
    "    if random() < bias:\n",
    "        return 1\n",
    "    else:\n",
    "        return 0\n",
    "\n",
    "def make_biased_coin(bias=None):\n",
    "    if bias is None:\n",
    "        bias = random()\n",
    "    print(f'Bias = {bias:.3f}')\n",
    "    return lambda: coin_flip(bias)\n",
    "\n",
    "def statistical(biased_coin, N):\n",
    "    if N < 2:\n",
    "        N = 2\n",
    "    while True:\n",
    "        num_flips = int(N/2.0)\n",
    "        s = sum([biased_coin() for _ in range(num_flips)])/num_flips\n",
    "        num_flips = N - num_flips\n",
    "        w = sum([biased_coin() for _ in range(num_flips)])/num_flips\n",
    "        if s < w:\n",
    "            return 1\n",
    "        elif s > w:\n",
    "            return 0\n",
    "\n",
    "def probabilistic(biased_coin):\n",
    "    while True:\n",
    "        s, w = biased_coin(), biased_coin()\n",
    "        if s == 0 and w == 1:\n",
    "            return 1\n",
    "        elif s == 1 and w == 0:\n",
    "            return 0\n",
    "\n",
    "def permutations(biased_coin, N):\n",
    "    while True:\n",
    "        inst = ''.join([str(biased_coin()) for _ in range(N)])\n",
    "        revr = inst[::-1]\n",
    "        if inst > revr:\n",
    "            return 1\n",
    "        elif inst < revr:\n",
    "            return 0"
   ]
  },
  {
   "cell_type": "code",
   "execution_count": 5,
   "id": "c026e684",
   "metadata": {
    "ExecuteTime": {
     "end_time": "2022-03-20T13:23:48.953819Z",
     "start_time": "2022-03-20T13:23:48.931238Z"
    }
   },
   "outputs": [
    {
     "name": "stdout",
     "output_type": "stream",
     "text": [
      "Bias = 0.226\n",
      "0.442\n",
      "0.485\n",
      "0.494\n",
      "0.497\n"
     ]
    }
   ],
   "source": [
    "num_flips = 1000\n",
    "N = 9\n",
    "biased_coin = make_biased_coin()\n",
    "print(mean([statistical(biased_coin, N) for _ in range(num_flips)]))\n",
    "print(mean([probabilistic(biased_coin) for _ in range(num_flips)]))\n",
    "print(mean([permutations(biased_coin, N) for _ in range(num_flips)]))\n",
    "print(mean([coin_flip() for _ in range(num_flips)]))"
   ]
  },
  {
   "cell_type": "code",
   "execution_count": 41,
   "id": "355a75ef",
   "metadata": {
    "ExecuteTime": {
     "end_time": "2022-03-20T13:50:33.520012Z",
     "start_time": "2022-03-20T13:48:49.684591Z"
    }
   },
   "outputs": [
    {
     "name": "stdout",
     "output_type": "stream",
     "text": [
      "Bias = 0.200\n",
      "Fair coin: mean = 0.501, stdev = 0.016, elapsed = 629 msec\n",
      "Probabilistic coin: mean = 0.500, stdev = 0.016, elapsed = 1815 msec\n",
      "Statistical coin (N=2): mean = 0.500, stdev = 0.016, elapsed = 5293 msec\n",
      "Statistical coin (N=50): mean = 0.500, stdev = 0.016, elapsed = 13198 msec\n",
      "Statistical coin (N=100): mean = 0.500, stdev = 0.015, elapsed = 24275 msec\n",
      "Permutations coin (N=2): mean = 0.500, stdev = 0.016, elapsed = 4569 msec\n",
      "Permutations coin (N=50): mean = 0.499, stdev = 0.016, elapsed = 18403 msec\n",
      "Permutations coin (N=100): mean = 0.499, stdev = 0.016, elapsed = 35645 msec\n"
     ]
    }
   ],
   "source": [
    "def experiment(num_flips, num_experiments, coin_type, coin_func):\n",
    "    start = time()\n",
    "    means = [mean([coin_func() for _ in range(num_flips)]) for _ in range(num_experiments)]\n",
    "    m, s = mean(means), stdev(means)\n",
    "    elapsed = (time() - start) * 1000\n",
    "    print(f'{coin_type}: mean = {m:.3f}, stdev = {s:.3f}, elapsed = {elapsed:.0f} msec')\n",
    "\n",
    "num_experiments = 1000\n",
    "num_flips = 1000\n",
    "biased_coin = make_biased_coin(0.2) # fix bias at 0.2 for measurement\n",
    "\n",
    "experiment(num_flips=num_flips, num_experiments=num_experiments, coin_type='Fair coin',\n",
    "           coin_func=lambda: coin_flip())\n",
    "\n",
    "experiment(num_flips=num_flips, num_experiments=num_experiments,\n",
    "           coin_type=f'Probabilistic coin',\n",
    "           coin_func=lambda: probabilistic(biased_coin))\n",
    "\n",
    "for N in [2, 50, 100]:\n",
    "    experiment(num_flips=num_flips, num_experiments=num_experiments,\n",
    "               coin_type=f'Statistical coin (N={N})',\n",
    "               coin_func=lambda: statistical(biased_coin, N=N))\n",
    "\n",
    "for N in [2, 50, 100]:\n",
    "    experiment(num_flips=num_flips, num_experiments=num_experiments,\n",
    "               coin_type=f'Permutations coin (N={N})',\n",
    "               coin_func=lambda: permutations(biased_coin, N=N))"
   ]
  },
  {
   "cell_type": "code",
   "execution_count": null,
   "id": "a122cfb5",
   "metadata": {},
   "outputs": [],
   "source": []
  }
 ],
 "metadata": {
  "kernelspec": {
   "display_name": "Python 3",
   "language": "python",
   "name": "python3"
  },
  "language_info": {
   "codemirror_mode": {
    "name": "ipython",
    "version": 3
   },
   "file_extension": ".py",
   "mimetype": "text/x-python",
   "name": "python",
   "nbconvert_exporter": "python",
   "pygments_lexer": "ipython3",
   "version": "3.7.11"
  },
  "varInspector": {
   "cols": {
    "lenName": 16,
    "lenType": 16,
    "lenVar": 40
   },
   "kernels_config": {
    "python": {
     "delete_cmd_postfix": "",
     "delete_cmd_prefix": "del ",
     "library": "var_list.py",
     "varRefreshCmd": "print(var_dic_list())"
    },
    "r": {
     "delete_cmd_postfix": ") ",
     "delete_cmd_prefix": "rm(",
     "library": "var_list.r",
     "varRefreshCmd": "cat(var_dic_list()) "
    }
   },
   "types_to_exclude": [
    "module",
    "function",
    "builtin_function_or_method",
    "instance",
    "_Feature"
   ],
   "window_display": false
  }
 },
 "nbformat": 4,
 "nbformat_minor": 5
}
