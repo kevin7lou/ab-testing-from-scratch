{
 "cells": [
  {
   "cell_type": "code",
   "execution_count": 2,
   "metadata": {},
   "outputs": [],
   "source": [
    "import sys\n",
    "import random\n",
    "import numpy as np\n",
    "import seaborn as sns\n",
    "from scipy.stats import beta\n",
    "from scipy.stats import fisher_exact\n",
    "import matplotlib.pyplot as plt"
   ]
  },
  {
   "cell_type": "code",
   "execution_count": 13,
   "metadata": {},
   "outputs": [],
   "source": [
    "def choice(ps):\n",
    "    return np.random.choice(len(ps), p=ps)\n",
    "\n",
    "def simulate_abtest_many(funnels, N, num_simulations, simulate_abtest_one, p_crit = 0.05):\n",
    "    ps = []\n",
    "    num_winning = 0\n",
    "    num_significant = 0\n",
    "    imbalances = []\n",
    "    for i in range(num_simulations):\n",
    "        print('Doing simulation run %d...' % i, end='\\r')\n",
    "        observations, funnels_chosen = simulate_abtest_one(funnels, N)\n",
    "        imbalance = abs(sum(funnels_chosen)/N - 0.5)\n",
    "        imbalances.append(imbalance)\n",
    "        p = fisher_exact(observations)[1]\n",
    "        ps.append(p)\n",
    "        if p < 0.05:\n",
    "            num_significant += 1\n",
    "    print('\\nDone!')\n",
    "    print('Avg imbalance: %.3f' % np.mean(imbalances))\n",
    "    print('Ratio of stat.sign.: %.3f' % (num_significant/num_simulations))\n",
    "    print('Histogram of p values:')\n",
    "    plt.figure(figsize=(10, 5))\n",
    "    ax = sns.distplot(ps, kde=False, rug=True)\n",
    "    ax.set(xlabel='p value', ylabel='count')\n",
    "    plt.show()"
   ]
  },
  {
   "cell_type": "code",
   "execution_count": 16,
   "metadata": {
    "scrolled": false
   },
   "outputs": [
    {
     "name": "stdout",
     "output_type": "stream",
     "text": [
      "Doing simulation run 999...\n",
      "Done!\n",
      "Avg imbalance: 0.004\n",
      "Ratio of stat.sign.: 0.035\n",
      "Histogram of p values:\n"
     ]
    },
    {
     "data": {
      "image/png": "[encoded data removed]",
      "text/plain": [
       "<Figure size 720x360 with 1 Axes>"
      ]
     },
     "metadata": {
      "needs_background": "light"
     },
     "output_type": "display_data"
    }
   ],
   "source": [
    "def simulate_abtest_fixed(funnels, N):\n",
    "    traffic_split = [x[1] for x in funnels]\n",
    "    observations = np.zeros([len(funnels), len(funnels[0][0])])\n",
    "    funnels_chosen = []\n",
    "    for _ in range(N):\n",
    "        which_funnel = choice(traffic_split)\n",
    "        funnels_chosen.append(which_funnel)\n",
    "        funnel_outcome = choice(funnels[which_funnel][0])\n",
    "        observations[which_funnel][funnel_outcome] += 1\n",
    "    return observations, funnels_chosen\n",
    "\n",
    "funnels = [\n",
    "    [[0.95, 0.05], 0.50], # the first vector is the actual outcomes, the second is the traffic split\n",
    "    [[0.95, 0.05], 0.50],\n",
    "]\n",
    "N = 10*1000\n",
    "num_simulations = 1000\n",
    "simulate_abtest_many(funnels, N, num_simulations, simulate_abtest_fixed)"
   ]
  },
  {
   "cell_type": "code",
   "execution_count": 17,
   "metadata": {},
   "outputs": [
    {
     "name": "stdout",
     "output_type": "stream",
     "text": [
      "Doing simulation run 999...\n",
      "Done!\n",
      "Avg imbalance: 0.368\n",
      "Ratio of stat.sign.: 0.039\n",
      "Histogram of p values:\n"
     ]
    },
    {
     "data": {
      "image/png": "[encoded data removed]",
      "text/plain": [
       "<Figure size 720x360 with 1 Axes>"
      ]
     },
     "metadata": {
      "needs_background": "light"
     },
     "output_type": "display_data"
    }
   ],
   "source": [
    "def reward(observation_vector):\n",
    "    if sum(observation_vector) == 0:\n",
    "        return 0\n",
    "    return observation_vector[1] / sum(observation_vector)\n",
    "    \n",
    "def simulate_eps_greedy(funnels, N, eps=0.1):\n",
    "    explore_traffic_split = [1/(len(funnels))] * len(funnels)\n",
    "    observations = np.zeros([len(funnels), len(funnels[0])])\n",
    "    rewards = [0] * len(funnels)\n",
    "    funnels_chosen = []\n",
    "    for _ in range(N):\n",
    "        if random.random() < eps:\n",
    "            # explore, choose one at random\n",
    "            which_funnel = choice(explore_traffic_split)\n",
    "        else:\n",
    "            # exploit, choose the best one so far\n",
    "            which_funnel = np.argmax(rewards)\n",
    "        funnels_chosen.append(which_funnel)\n",
    "        funnel_outcome = choice(funnels[which_funnel])\n",
    "        observations[which_funnel][funnel_outcome] += 1\n",
    "        rewards[which_funnel] = reward(observations[which_funnel])\n",
    "    return observations, funnels_chosen\n",
    "\n",
    "funnels = [\n",
    "    [0.95, 0.05],\n",
    "    [0.95, 0.05]\n",
    "]\n",
    "N = 10*1000\n",
    "num_simulations = 1000\n",
    "simulate_abtest_many(funnels, N, num_simulations, simulate_eps_greedy)"
   ]
  },
  {
   "cell_type": "code",
   "execution_count": 18,
   "metadata": {},
   "outputs": [
    {
     "name": "stdout",
     "output_type": "stream",
     "text": [
      "Doing simulation run 999...\n",
      "Done!\n",
      "Avg imbalance: 0.029\n",
      "Ratio of stat.sign.: 0.054\n",
      "Histogram of p values:\n"
     ]
    },
    {
     "data": {
      "image/png": "[encoded data removed]",
      "text/plain": [
       "<Figure size 720x360 with 1 Axes>"
      ]
     },
     "metadata": {
      "needs_background": "light"
     },
     "output_type": "display_data"
    }
   ],
   "source": [
    "def ucb1_score(reward_funnel, n_funnel, n_total):\n",
    "    return reward_funnel + np.sqrt(2 * np.log(n_total) / n_funnel)\n",
    "\n",
    "def simulate_ucb1(funnels, N):\n",
    "    observations = np.zeros([len(funnels), len(funnels[0])])\n",
    "    # initially, set each score to a big number, so each funnel goes at least once\n",
    "    ucb1_scores = [sys.maxsize] * len(funnels)\n",
    "    funnels_chosen = []\n",
    "    for n in range(N):\n",
    "        options = [i for i, score in enumerate(ucb1_scores) if score == max(ucb1_scores)]\n",
    "        which_funnel = random.choice(options)\n",
    "        funnels_chosen.append(which_funnel)\n",
    "        funnel_outcome = choice(funnels[which_funnel])\n",
    "        observations[which_funnel][funnel_outcome] += 1\n",
    "        r = reward(observations[which_funnel])\n",
    "        for i in range(len(funnels)):\n",
    "            if sum(observations[i]) > 0:\n",
    "                r = reward(observations[i])\n",
    "                ucb1_scores[i] = ucb1_score(r, sum(observations[i]), n + 1)\n",
    "    return observations, funnels_chosen\n",
    "\n",
    "num_simulations = 1000\n",
    "simulate_abtest_many(funnels, N, num_simulations, simulate_ucb1)"
   ]
  },
  {
   "cell_type": "code",
   "execution_count": 20,
   "metadata": {},
   "outputs": [
    {
     "name": "stdout",
     "output_type": "stream",
     "text": [
      "Doing simulation run 999...\n",
      "Done!\n",
      "Avg imbalance: 0.234\n",
      "Ratio of stat.sign.: 0.090\n",
      "Histogram of p values:\n"
     ]
    },
    {
     "data": {
      "image/png": "[encoded data removed]",
      "text/plain": [
       "<Figure size 720x360 with 1 Axes>"
      ]
     },
     "metadata": {
      "needs_background": "light"
     },
     "output_type": "display_data"
    }
   ],
   "source": [
    "def beta_distributions(observations):\n",
    "    return [beta(observations[i][1]+1, observations[i][0]+1) for i in range(len(observations))]\n",
    "\n",
    "def simulate_thompson(funnels, N):\n",
    "    observations = np.zeros([len(funnels), len(funnels[0])])\n",
    "    funnels_chosen = []\n",
    "    for n in range(N):\n",
    "        betas = beta_distributions(observations)\n",
    "        p_conv = [beta.rvs(1)[0] for beta in betas]\n",
    "        which_funnel = np.argmax(p_conv)\n",
    "        funnels_chosen.append(which_funnel)\n",
    "        funnel_outcome = choice(funnels[which_funnel])\n",
    "        observations[which_funnel][funnel_outcome] += 1\n",
    "    return observations, funnels_chosen\n",
    "\n",
    "num_simulations = 1000\n",
    "simulate_abtest_many(funnels, N, num_simulations, simulate_thompson)"
   ]
  },
  {
   "cell_type": "code",
   "execution_count": null,
   "metadata": {},
   "outputs": [],
   "source": []
  }
 ],
 "metadata": {
  "kernelspec": {
   "display_name": "Python 3",
   "language": "python",
   "name": "python3"
  },
  "language_info": {
   "codemirror_mode": {
    "name": "ipython",
    "version": 3
   },
   "file_extension": ".py",
   "mimetype": "text/x-python",
   "name": "python",
   "nbconvert_exporter": "python",
   "pygments_lexer": "ipython3",
   "version": "3.7.6"
  }
 },
 "nbformat": 4,
 "nbformat_minor": 4
}
