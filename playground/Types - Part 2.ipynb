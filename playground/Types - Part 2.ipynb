{
 "cells": [
  {
   "cell_type": "code",
   "execution_count": 1,
   "id": "b468b207",
   "metadata": {
    "ExecuteTime": {
     "end_time": "2022-04-16T11:55:14.678193Z",
     "start_time": "2022-04-16T11:55:14.668142Z"
    }
   },
   "outputs": [
    {
     "name": "stderr",
     "output_type": "stream",
     "text": [
      "Version 1.0.2\n"
     ]
    }
   ],
   "source": [
    "%load_ext nb_mypy"
   ]
  },
  {
   "cell_type": "code",
   "execution_count": 2,
   "id": "910685b7",
   "metadata": {
    "ExecuteTime": {
     "end_time": "2022-04-16T11:56:29.366972Z",
     "start_time": "2022-04-16T11:56:27.878955Z"
    }
   },
   "outputs": [
    {
     "data": {
      "text/plain": [
       "'3.9.7 (default, Sep 16 2021, 08:50:36) \\n[Clang 10.0.0 ]'"
      ]
     },
     "execution_count": 2,
     "metadata": {},
     "output_type": "execute_result"
    }
   ],
   "source": [
    "import sys\n",
    "from typing import *\n",
    "from random import random\n",
    "sys.version"
   ]
  },
  {
   "cell_type": "code",
   "execution_count": 3,
   "id": "9a8fab73",
   "metadata": {
    "ExecuteTime": {
     "end_time": "2022-04-16T11:57:10.291295Z",
     "start_time": "2022-04-16T11:57:10.187431Z"
    }
   },
   "outputs": [
    {
     "name": "stderr",
     "output_type": "stream",
     "text": [
      "<cell>5: error: Incompatible return value type (got \"None\", expected \"List[float]\")\n"
     ]
    }
   ],
   "source": [
    "def randoms(num: int) -> list[float]:\n",
    "    if num >= 0:\n",
    "        return [random() for _ in range(num)]\n",
    "    else:\n",
    "        return None # not okay, NoneType is not list[float]"
   ]
  },
  {
   "cell_type": "code",
   "execution_count": 4,
   "id": "e3d4f723",
   "metadata": {},
   "outputs": [],
   "source": [
    "def randoms(num: int) -> Optional[list[float]]:\n",
    "    if num >= 0:\n",
    "        return [random() for _ in range(num)]\n",
    "    else:\n",
    "        return None # okay, return type is Optional[...]"
   ]
  },
  {
   "cell_type": "code",
   "execution_count": 5,
   "id": "1860ec6d",
   "metadata": {},
   "outputs": [],
   "source": [
    "# Note that None as a type hint is a special case and is replaced by type(None).\n",
    "\n",
    "def randoms(num: int) -> Union[list[float], None]:\n",
    "    if num >= 0:\n",
    "        return [random() for _ in range(num)]\n",
    "    else:\n",
    "        return None # okay, return type is Union[..., None]"
   ]
  },
  {
   "cell_type": "code",
   "execution_count": 6,
   "id": "73b5538a",
   "metadata": {},
   "outputs": [],
   "source": [
    "def randoms(num: int) -> list[float]:\n",
    "    if num >= 0:\n",
    "        return [random() for _ in range(num)]\n",
    "    else:\n",
    "        raise ValueError # okay, there is no typed way to communicate raised exceptions"
   ]
  },
  {
   "cell_type": "code",
   "execution_count": 7,
   "id": "2f5b668b",
   "metadata": {},
   "outputs": [],
   "source": [
    "def randoms(num: int) -> Union[float, list[float], None]:\n",
    "    if num == 1:\n",
    "        return random()                       # float\n",
    "    elif num >= 0:\n",
    "        return [random() for _ in range(num)] # list[float]\n",
    "    else:\n",
    "        return None                           # None"
   ]
  },
  {
   "cell_type": "code",
   "execution_count": 8,
   "id": "ed20fc7f",
   "metadata": {},
   "outputs": [
    {
     "name": "stderr",
     "output_type": "stream",
     "text": [
      "<cell>1: error: X | Y syntax for unions requires Python 3.10\n"
     ]
    },
    {
     "ename": "TypeError",
     "evalue": "unsupported operand type(s) for |: 'type' and 'types.GenericAlias'",
     "output_type": "error",
     "traceback": [
      "\u001b[0;31m---------------------------------------------------------------------------\u001b[0m",
      "\u001b[0;31mTypeError\u001b[0m                                 Traceback (most recent call last)",
      "\u001b[0;32m/var/folders/sf/dnxnndjx18j0w4dxlk72j05m0000gn/T/ipykernel_15985/3446932464.py\u001b[0m in \u001b[0;36m<module>\u001b[0;34m\u001b[0m\n\u001b[0;32m----> 1\u001b[0;31m \u001b[0;32mdef\u001b[0m \u001b[0mrandoms\u001b[0m\u001b[0;34m(\u001b[0m\u001b[0mnum\u001b[0m\u001b[0;34m:\u001b[0m \u001b[0mint\u001b[0m\u001b[0;34m)\u001b[0m \u001b[0;34m->\u001b[0m \u001b[0mfloat\u001b[0m \u001b[0;34m|\u001b[0m \u001b[0mlist\u001b[0m\u001b[0;34m[\u001b[0m\u001b[0mfloat\u001b[0m\u001b[0;34m]\u001b[0m \u001b[0;34m|\u001b[0m \u001b[0;32mNone\u001b[0m\u001b[0;34m:\u001b[0m\u001b[0;34m\u001b[0m\u001b[0;34m\u001b[0m\u001b[0m\n\u001b[0m\u001b[1;32m      2\u001b[0m     \u001b[0;32mif\u001b[0m \u001b[0mnum\u001b[0m \u001b[0;34m==\u001b[0m \u001b[0;36m1\u001b[0m\u001b[0;34m:\u001b[0m\u001b[0;34m\u001b[0m\u001b[0;34m\u001b[0m\u001b[0m\n\u001b[1;32m      3\u001b[0m         \u001b[0;32mreturn\u001b[0m \u001b[0mrandom\u001b[0m\u001b[0;34m(\u001b[0m\u001b[0;34m)\u001b[0m\u001b[0;34m\u001b[0m\u001b[0;34m\u001b[0m\u001b[0m\n\u001b[1;32m      4\u001b[0m     \u001b[0;32mif\u001b[0m \u001b[0mnum\u001b[0m \u001b[0;34m>=\u001b[0m \u001b[0;36m0\u001b[0m\u001b[0;34m:\u001b[0m\u001b[0;34m\u001b[0m\u001b[0;34m\u001b[0m\u001b[0m\n\u001b[1;32m      5\u001b[0m         \u001b[0;32mreturn\u001b[0m \u001b[0;34m[\u001b[0m\u001b[0mrandom\u001b[0m\u001b[0;34m(\u001b[0m\u001b[0;34m)\u001b[0m \u001b[0;32mfor\u001b[0m \u001b[0m_\u001b[0m \u001b[0;32min\u001b[0m \u001b[0mrange\u001b[0m\u001b[0;34m(\u001b[0m\u001b[0mnum\u001b[0m\u001b[0;34m)\u001b[0m\u001b[0;34m]\u001b[0m\u001b[0;34m\u001b[0m\u001b[0;34m\u001b[0m\u001b[0m\n",
      "\u001b[0;31mTypeError\u001b[0m: unsupported operand type(s) for |: 'type' and 'types.GenericAlias'"
     ]
    }
   ],
   "source": [
    "def randoms(num: int) -> float | list[float] | None: # does not work in Python 3.9, only 3.10\n",
    "    if num == 1:\n",
    "        return random()\n",
    "    if num >= 0:\n",
    "        return [random() for _ in range(num)]\n",
    "    else:\n",
    "        return None"
   ]
  },
  {
   "cell_type": "code",
   "execution_count": 9,
   "id": "09e72d98",
   "metadata": {},
   "outputs": [
    {
     "data": {
      "text/plain": [
       "0.5108025836830542"
      ]
     },
     "execution_count": 9,
     "metadata": {},
     "output_type": "execute_result"
    }
   ],
   "source": [
    "FeatureVector = list[float] # type alias\n",
    "\n",
    "def predict(fv: FeatureVector) -> float:\n",
    "    return random()\n",
    "\n",
    "fv: list[float] = [0.1, 0.2, 0.3]\n",
    "predict(fv) # okay\n",
    "fv: FeatureVector = [0.1, 0.2, 0.3]\n",
    "predict(fv) # okay"
   ]
  },
  {
   "cell_type": "code",
   "execution_count": 10,
   "id": "f208472e",
   "metadata": {},
   "outputs": [
    {
     "name": "stderr",
     "output_type": "stream",
     "text": [
      "<cell>8: error: Argument 1 to \"predict\" has incompatible type \"List[float]\"; expected \"FeatureVector\"\n"
     ]
    },
    {
     "data": {
      "text/plain": [
       "0.7407515877106208"
      ]
     },
     "execution_count": 10,
     "metadata": {},
     "output_type": "execute_result"
    }
   ],
   "source": [
    "FeatureVector = NewType('FeatureVector', list[float])\n",
    "# all FeatureVectors are list[float], but not all list[float] are FeatureVectors\n",
    "\n",
    "def predict(fv: FeatureVector) -> float:\n",
    "    return random()\n",
    "\n",
    "fv: list[float] = [0.1, 0.2, 0.3]\n",
    "predict(fv) # not okay\n",
    "fv: FeatureVector = FeatureVector([0.1, 0.2, 0.3]) # explicit cast\n",
    "predict(fv) # okay"
   ]
  },
  {
   "cell_type": "code",
   "execution_count": 11,
   "id": "259df0b8",
   "metadata": {},
   "outputs": [],
   "source": [
    "T = TypeVar('T') # declare type variable T to be used\n",
    "def first(li: list[T]) -> T:\n",
    "    return li[0] # okay"
   ]
  },
  {
   "cell_type": "code",
   "execution_count": 12,
   "id": "7944662e",
   "metadata": {},
   "outputs": [],
   "source": [
    "T = TypeVar('T') # declare type variable T to be used\n",
    "def first(li: list[T]) -> Optional[T]:\n",
    "    return li[0] if len(li) > 0 else None # okay"
   ]
  },
  {
   "cell_type": "code",
   "execution_count": 13,
   "id": "e22b27ff",
   "metadata": {},
   "outputs": [
    {
     "name": "stderr",
     "output_type": "stream",
     "text": [
      "<cell>3: error: Incompatible return value type (got \"str\", expected \"T\")\n"
     ]
    }
   ],
   "source": [
    "T = TypeVar('T') # declare type variable T to be used\n",
    "def first(li: list[T]) -> T:\n",
    "    return \"hello\" # not okay"
   ]
  },
  {
   "cell_type": "code",
   "execution_count": 14,
   "id": "e7aa1b84",
   "metadata": {},
   "outputs": [
    {
     "name": "stderr",
     "output_type": "stream",
     "text": [
      "<cell>3: error: Unsupported left operand type for + (\"T\")\n"
     ]
    }
   ],
   "source": [
    "T = TypeVar('T') # declare type variable T to be used\n",
    "def add(a: T, b: T) -> T:\n",
    "    return a+b # checks for __add__()"
   ]
  },
  {
   "cell_type": "code",
   "execution_count": 15,
   "id": "ca54b1b0",
   "metadata": {},
   "outputs": [],
   "source": [
    "class Addable(Protocol):\n",
    "  def __add__(self, other):\n",
    "    raise NotImplementedError"
   ]
  },
  {
   "cell_type": "code",
   "execution_count": 16,
   "id": "a7a90b29",
   "metadata": {},
   "outputs": [
    {
     "name": "stdout",
     "output_type": "stream",
     "text": [
      "<class 'str'> <class 'str'>\n",
      "<class 'int'> <class 'int'>\n",
      "<class 'int'> <class 'float'>\n",
      "<class 'int'> <class 'str'>\n"
     ]
    },
    {
     "ename": "TypeError",
     "evalue": "unsupported operand type(s) for +: 'int' and 'str'",
     "output_type": "error",
     "traceback": [
      "\u001b[0;31m---------------------------------------------------------------------------\u001b[0m",
      "\u001b[0;31mTypeError\u001b[0m                                 Traceback (most recent call last)",
      "\u001b[0;32m/var/folders/sf/dnxnndjx18j0w4dxlk72j05m0000gn/T/ipykernel_15985/706670933.py\u001b[0m in \u001b[0;36m<module>\u001b[0;34m\u001b[0m\n\u001b[1;32m      6\u001b[0m \u001b[0madd\u001b[0m\u001b[0;34m(\u001b[0m\u001b[0mint\u001b[0m\u001b[0;34m(\u001b[0m\u001b[0;36m1\u001b[0m\u001b[0;34m)\u001b[0m\u001b[0;34m,\u001b[0m \u001b[0mint\u001b[0m\u001b[0;34m(\u001b[0m\u001b[0;36m2\u001b[0m\u001b[0;34m)\u001b[0m\u001b[0;34m)\u001b[0m   \u001b[0;31m# okay\u001b[0m\u001b[0;34m\u001b[0m\u001b[0;34m\u001b[0m\u001b[0m\n\u001b[1;32m      7\u001b[0m \u001b[0madd\u001b[0m\u001b[0;34m(\u001b[0m\u001b[0mint\u001b[0m\u001b[0;34m(\u001b[0m\u001b[0;36m1\u001b[0m\u001b[0;34m)\u001b[0m\u001b[0;34m,\u001b[0m \u001b[0mfloat\u001b[0m\u001b[0;34m(\u001b[0m\u001b[0;36m2\u001b[0m\u001b[0;34m)\u001b[0m\u001b[0;34m)\u001b[0m \u001b[0;31m# okay\u001b[0m\u001b[0;34m\u001b[0m\u001b[0;34m\u001b[0m\u001b[0m\n\u001b[0;32m----> 8\u001b[0;31m \u001b[0madd\u001b[0m\u001b[0;34m(\u001b[0m\u001b[0mint\u001b[0m\u001b[0;34m(\u001b[0m\u001b[0;36m1\u001b[0m\u001b[0;34m)\u001b[0m\u001b[0;34m,\u001b[0m \u001b[0mstr\u001b[0m\u001b[0;34m(\u001b[0m\u001b[0;36m2\u001b[0m\u001b[0;34m)\u001b[0m\u001b[0;34m)\u001b[0m   \u001b[0;31m# not a type error, but a run-time error\u001b[0m\u001b[0;34m\u001b[0m\u001b[0;34m\u001b[0m\u001b[0m\n\u001b[0m",
      "\u001b[0;32m/var/folders/sf/dnxnndjx18j0w4dxlk72j05m0000gn/T/ipykernel_15985/706670933.py\u001b[0m in \u001b[0;36madd\u001b[0;34m(a, b)\u001b[0m\n\u001b[1;32m      1\u001b[0m \u001b[0;32mdef\u001b[0m \u001b[0madd\u001b[0m\u001b[0;34m(\u001b[0m\u001b[0ma\u001b[0m\u001b[0;34m:\u001b[0m \u001b[0mAddable\u001b[0m\u001b[0;34m,\u001b[0m \u001b[0mb\u001b[0m\u001b[0;34m:\u001b[0m \u001b[0mAddable\u001b[0m\u001b[0;34m)\u001b[0m \u001b[0;34m->\u001b[0m \u001b[0mAddable\u001b[0m\u001b[0;34m:\u001b[0m\u001b[0;34m\u001b[0m\u001b[0;34m\u001b[0m\u001b[0m\n\u001b[1;32m      2\u001b[0m     \u001b[0mprint\u001b[0m\u001b[0;34m(\u001b[0m\u001b[0mtype\u001b[0m\u001b[0;34m(\u001b[0m\u001b[0ma\u001b[0m\u001b[0;34m)\u001b[0m\u001b[0;34m,\u001b[0m \u001b[0mtype\u001b[0m\u001b[0;34m(\u001b[0m\u001b[0mb\u001b[0m\u001b[0;34m)\u001b[0m\u001b[0;34m)\u001b[0m\u001b[0;34m\u001b[0m\u001b[0;34m\u001b[0m\u001b[0m\n\u001b[0;32m----> 3\u001b[0;31m     \u001b[0;32mreturn\u001b[0m \u001b[0ma\u001b[0m\u001b[0;34m+\u001b[0m\u001b[0mb\u001b[0m \u001b[0;31m# checks for __add__(..)\u001b[0m\u001b[0;34m\u001b[0m\u001b[0;34m\u001b[0m\u001b[0m\n\u001b[0m\u001b[1;32m      4\u001b[0m \u001b[0;34m\u001b[0m\u001b[0m\n\u001b[1;32m      5\u001b[0m \u001b[0madd\u001b[0m\u001b[0;34m(\u001b[0m\u001b[0mstr\u001b[0m\u001b[0;34m(\u001b[0m\u001b[0;36m1\u001b[0m\u001b[0;34m)\u001b[0m\u001b[0;34m,\u001b[0m \u001b[0mstr\u001b[0m\u001b[0;34m(\u001b[0m\u001b[0;36m2\u001b[0m\u001b[0;34m)\u001b[0m\u001b[0;34m)\u001b[0m   \u001b[0;31m# okay\u001b[0m\u001b[0;34m\u001b[0m\u001b[0;34m\u001b[0m\u001b[0m\n",
      "\u001b[0;31mTypeError\u001b[0m: unsupported operand type(s) for +: 'int' and 'str'"
     ]
    }
   ],
   "source": [
    "def add(a: Addable, b: Addable) -> Addable:\n",
    "    print(type(a), type(b))\n",
    "    return a+b # checks for __add__()\n",
    "\n",
    "add(str(1), str(2))   # okay\n",
    "add(int(1), int(2))   # okay\n",
    "add(int(1), float(2)) # okay\n",
    "add(int(1), str(2))   # not a type error, but a run-time error"
   ]
  },
  {
   "cell_type": "code",
   "execution_count": 17,
   "id": "14928ee1",
   "metadata": {},
   "outputs": [
    {
     "name": "stderr",
     "output_type": "stream",
     "text": [
      "<cell>10: error: Value of type variable \"T\" of \"add\" cannot be \"object\"\n"
     ]
    },
    {
     "name": "stdout",
     "output_type": "stream",
     "text": [
      "<class 'str'> <class 'str'>\n",
      "<class 'int'> <class 'int'>\n",
      "<class 'int'> <class 'float'>\n",
      "<class 'int'> <class 'str'>\n"
     ]
    },
    {
     "ename": "TypeError",
     "evalue": "unsupported operand type(s) for +: 'int' and 'str'",
     "output_type": "error",
     "traceback": [
      "\u001b[0;31m---------------------------------------------------------------------------\u001b[0m",
      "\u001b[0;31mTypeError\u001b[0m                                 Traceback (most recent call last)",
      "\u001b[0;32m/var/folders/sf/dnxnndjx18j0w4dxlk72j05m0000gn/T/ipykernel_15985/1294268684.py\u001b[0m in \u001b[0;36m<module>\u001b[0;34m\u001b[0m\n\u001b[1;32m      8\u001b[0m \u001b[0madd\u001b[0m\u001b[0;34m(\u001b[0m\u001b[0mint\u001b[0m\u001b[0;34m(\u001b[0m\u001b[0;36m1\u001b[0m\u001b[0;34m)\u001b[0m\u001b[0;34m,\u001b[0m \u001b[0mint\u001b[0m\u001b[0;34m(\u001b[0m\u001b[0;36m2\u001b[0m\u001b[0;34m)\u001b[0m\u001b[0;34m)\u001b[0m   \u001b[0;31m# okay\u001b[0m\u001b[0;34m\u001b[0m\u001b[0;34m\u001b[0m\u001b[0m\n\u001b[1;32m      9\u001b[0m \u001b[0madd\u001b[0m\u001b[0;34m(\u001b[0m\u001b[0mint\u001b[0m\u001b[0;34m(\u001b[0m\u001b[0;36m1\u001b[0m\u001b[0;34m)\u001b[0m\u001b[0;34m,\u001b[0m \u001b[0mfloat\u001b[0m\u001b[0;34m(\u001b[0m\u001b[0;36m2\u001b[0m\u001b[0;34m)\u001b[0m\u001b[0;34m)\u001b[0m \u001b[0;31m# okay\u001b[0m\u001b[0;34m\u001b[0m\u001b[0;34m\u001b[0m\u001b[0m\n\u001b[0;32m---> 10\u001b[0;31m \u001b[0madd\u001b[0m\u001b[0;34m(\u001b[0m\u001b[0mint\u001b[0m\u001b[0;34m(\u001b[0m\u001b[0;36m1\u001b[0m\u001b[0;34m)\u001b[0m\u001b[0;34m,\u001b[0m \u001b[0mstr\u001b[0m\u001b[0;34m(\u001b[0m\u001b[0;36m2\u001b[0m\u001b[0;34m)\u001b[0m\u001b[0;34m)\u001b[0m   \u001b[0;31m# not a type error, but a run-time error\u001b[0m\u001b[0;34m\u001b[0m\u001b[0;34m\u001b[0m\u001b[0m\n\u001b[0m",
      "\u001b[0;32m/var/folders/sf/dnxnndjx18j0w4dxlk72j05m0000gn/T/ipykernel_15985/1294268684.py\u001b[0m in \u001b[0;36madd\u001b[0;34m(a, b)\u001b[0m\n\u001b[1;32m      3\u001b[0m \u001b[0;32mdef\u001b[0m \u001b[0madd\u001b[0m\u001b[0;34m(\u001b[0m\u001b[0ma\u001b[0m\u001b[0;34m:\u001b[0m \u001b[0mT\u001b[0m\u001b[0;34m,\u001b[0m \u001b[0mb\u001b[0m\u001b[0;34m:\u001b[0m \u001b[0mT\u001b[0m\u001b[0;34m)\u001b[0m \u001b[0;34m->\u001b[0m \u001b[0mT\u001b[0m\u001b[0;34m:\u001b[0m\u001b[0;34m\u001b[0m\u001b[0;34m\u001b[0m\u001b[0m\n\u001b[1;32m      4\u001b[0m     \u001b[0mprint\u001b[0m\u001b[0;34m(\u001b[0m\u001b[0mtype\u001b[0m\u001b[0;34m(\u001b[0m\u001b[0ma\u001b[0m\u001b[0;34m)\u001b[0m\u001b[0;34m,\u001b[0m \u001b[0mtype\u001b[0m\u001b[0;34m(\u001b[0m\u001b[0mb\u001b[0m\u001b[0;34m)\u001b[0m\u001b[0;34m)\u001b[0m\u001b[0;34m\u001b[0m\u001b[0;34m\u001b[0m\u001b[0m\n\u001b[0;32m----> 5\u001b[0;31m     \u001b[0;32mreturn\u001b[0m \u001b[0ma\u001b[0m\u001b[0;34m+\u001b[0m\u001b[0mb\u001b[0m \u001b[0;31m# checks for __add__(..)\u001b[0m\u001b[0;34m\u001b[0m\u001b[0;34m\u001b[0m\u001b[0m\n\u001b[0m\u001b[1;32m      6\u001b[0m \u001b[0;34m\u001b[0m\u001b[0m\n\u001b[1;32m      7\u001b[0m \u001b[0madd\u001b[0m\u001b[0;34m(\u001b[0m\u001b[0mstr\u001b[0m\u001b[0;34m(\u001b[0m\u001b[0;36m1\u001b[0m\u001b[0;34m)\u001b[0m\u001b[0;34m,\u001b[0m \u001b[0mstr\u001b[0m\u001b[0;34m(\u001b[0m\u001b[0;36m2\u001b[0m\u001b[0;34m)\u001b[0m\u001b[0;34m)\u001b[0m   \u001b[0;31m# okay\u001b[0m\u001b[0;34m\u001b[0m\u001b[0;34m\u001b[0m\u001b[0m\n",
      "\u001b[0;31mTypeError\u001b[0m: unsupported operand type(s) for +: 'int' and 'str'"
     ]
    }
   ],
   "source": [
    "T = TypeVar('T', bound=Addable)\n",
    "    \n",
    "def add(a: T, b: T) -> T:\n",
    "    print(type(a), type(b))\n",
    "    return a+b # checks for __add__(..)\n",
    "\n",
    "add(str(1), str(2))   # okay\n",
    "add(int(1), int(2))   # okay\n",
    "add(int(1), float(2)) # okay\n",
    "add(int(1), str(2))   # type error and run-time error"
   ]
  },
  {
   "cell_type": "code",
   "execution_count": 19,
   "id": "3a104c1e",
   "metadata": {},
   "outputs": [
    {
     "data": {
      "text/plain": [
       "3.0"
      ]
     },
     "execution_count": 19,
     "metadata": {},
     "output_type": "execute_result"
    }
   ],
   "source": [
    "T = TypeVar('T', int, float, str)\n",
    "\n",
    "def add(a: T, b: T) -> T:\n",
    "    return a+b # checks for __add__()\n",
    "\n",
    "add(int(1), float(2)) # okay"
   ]
  }
 ],
 "metadata": {
  "kernelspec": {
   "display_name": "Python 3 (ipykernel)",
   "language": "python",
   "name": "python3"
  },
  "language_info": {
   "codemirror_mode": {
    "name": "ipython",
    "version": 3
   },
   "file_extension": ".py",
   "mimetype": "text/x-python",
   "name": "python",
   "nbconvert_exporter": "python",
   "pygments_lexer": "ipython3",
   "version": "3.9.7"
  },
  "varInspector": {
   "cols": {
    "lenName": 16,
    "lenType": 16,
    "lenVar": 40
   },
   "kernels_config": {
    "python": {
     "delete_cmd_postfix": "",
     "delete_cmd_prefix": "del ",
     "library": "var_list.py",
     "varRefreshCmd": "print(var_dic_list())"
    },
    "r": {
     "delete_cmd_postfix": ") ",
     "delete_cmd_prefix": "rm(",
     "library": "var_list.r",
     "varRefreshCmd": "cat(var_dic_list()) "
    }
   },
   "types_to_exclude": [
    "module",
    "function",
    "builtin_function_or_method",
    "instance",
    "_Feature"
   ],
   "window_display": false
  }
 },
 "nbformat": 4,
 "nbformat_minor": 5
}
