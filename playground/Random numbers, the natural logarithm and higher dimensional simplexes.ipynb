{
 "cells": [
  {
   "cell_type": "code",
   "execution_count": 1,
   "id": "future-corruption",
   "metadata": {
    "ExecuteTime": {
     "end_time": "2021-04-17T09:51:08.353658Z",
     "start_time": "2021-04-17T09:51:07.892553Z"
    }
   },
   "outputs": [
    {
     "name": "stdout",
     "output_type": "stream",
     "text": [
      "0.4996209104270037\n",
      "1.0007333336434618\n",
      "2.718928\n"
     ]
    }
   ],
   "source": [
    "from random import random\n",
    "\n",
    "def once(n=1000*1000):\n",
    "    sum = 0.0\n",
    "    for _ in range(n):\n",
    "        sum += random()\n",
    "    return sum/n\n",
    "print(once())\n",
    "\n",
    "def twice(n=1000*1000):\n",
    "    sum = 0.0\n",
    "    for _ in range(n):\n",
    "        sum += random()\n",
    "        sum += random()\n",
    "    return sum/n\n",
    "print(twice())\n",
    "\n",
    "def stop_at(z=1.0, n=1000*1000):\n",
    "    total_draws = 0.0\n",
    "    for _ in range(n):\n",
    "        trial_sum = 0.0\n",
    "        num_draws = 0\n",
    "        while True:\n",
    "            trial_sum += random()\n",
    "            num_draws += 1\n",
    "            if trial_sum >= z: break\n",
    "        total_draws += num_draws\n",
    "    return total_draws/n\n",
    "print(stop_at(1))"
   ]
  },
  {
   "cell_type": "code",
   "execution_count": 2,
   "id": "pleased-denver",
   "metadata": {
    "ExecuteTime": {
     "end_time": "2021-04-17T09:51:10.576159Z",
     "start_time": "2021-04-17T09:51:08.354658Z"
    }
   },
   "outputs": [
    {
     "data": {
      "image/png": "[encoded data removed]",
      "text/plain": [
       "<Figure size 432x288 with 1 Axes>"
      ]
     },
     "metadata": {
      "needs_background": "light"
     },
     "output_type": "display_data"
    }
   ],
   "source": [
    "import matplotlib.pyplot as plt\n",
    "\n",
    "x = [x/10 for x in list(range(10, 50, 1))]\n",
    "y = [stop_at(i, n=100*1000) for i in x]\n",
    "fig, ax = plt.subplots()\n",
    "ax.plot(x, y, marker='o')\n",
    "ax.set(xlabel='z', ylabel='average draws',\n",
    "       title='E(N_z)')\n",
    "ax.grid()\n",
    "plt.show()"
   ]
  },
  {
   "cell_type": "code",
   "execution_count": null,
   "id": "retained-consent",
   "metadata": {},
   "outputs": [],
   "source": []
  }
 ],
 "metadata": {
  "kernelspec": {
   "display_name": "Python 3",
   "language": "python",
   "name": "python3"
  },
  "language_info": {
   "codemirror_mode": {
    "name": "ipython",
    "version": 3
   },
   "file_extension": ".py",
   "mimetype": "text/x-python",
   "name": "python",
   "nbconvert_exporter": "python",
   "pygments_lexer": "ipython3",
   "version": "3.8.8"
  }
 },
 "nbformat": 4,
 "nbformat_minor": 5
}
