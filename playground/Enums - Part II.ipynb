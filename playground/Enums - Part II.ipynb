{
 "cells": [
  {
   "cell_type": "code",
   "execution_count": 1,
   "id": "e00b6bec",
   "metadata": {
    "ExecuteTime": {
     "end_time": "2022-05-05T17:39:25.172508Z",
     "start_time": "2022-05-05T17:39:25.162505Z"
    }
   },
   "outputs": [
    {
     "data": {
      "text/plain": [
       "'3.9.7 (default, Sep 16 2021, 16:59:28) [MSC v.1916 64 bit (AMD64)]'"
      ]
     },
     "execution_count": 1,
     "metadata": {},
     "output_type": "execute_result"
    }
   ],
   "source": [
    "import sys\n",
    "from enum import Enum, auto\n",
    "sys.version"
   ]
  },
  {
   "cell_type": "code",
   "execution_count": 2,
   "id": "16a01254",
   "metadata": {
    "ExecuteTime": {
     "end_time": "2022-05-05T17:39:25.179509Z",
     "start_time": "2022-05-05T17:39:25.173508Z"
    }
   },
   "outputs": [],
   "source": [
    "from enum import Enum, auto\n",
    "\n",
    "class Color(Enum):\n",
    "    RED: int = 1\n",
    "    GREEN: int = 2\n",
    "    BLUE: int = 3"
   ]
  },
  {
   "cell_type": "code",
   "execution_count": 3,
   "id": "3c909ea9",
   "metadata": {
    "ExecuteTime": {
     "end_time": "2022-05-05T17:39:25.182510Z",
     "start_time": "2022-05-05T17:39:25.180509Z"
    }
   },
   "outputs": [],
   "source": [
    "class Color(Enum):\n",
    "    RED: int = auto()\n",
    "    GREEN: int = auto()\n",
    "    BLUE: int = auto()"
   ]
  },
  {
   "cell_type": "code",
   "execution_count": 4,
   "id": "8972fd28",
   "metadata": {
    "ExecuteTime": {
     "end_time": "2022-05-05T17:39:25.188511Z",
     "start_time": "2022-05-05T17:39:25.183510Z"
    }
   },
   "outputs": [
    {
     "name": "stdout",
     "output_type": "stream",
     "text": [
      "<class 'enum.EnumMeta'> <enum 'Color'> <enum 'Color'> <enum 'Color'>\n"
     ]
    }
   ],
   "source": [
    "c1 = Color(1)\n",
    "c2 = Color(Color.RED)\n",
    "c3 = Color(Color['RED'])\n",
    "print(type(Color), type(c1), type(Color.RED), type(Color['RED']))"
   ]
  },
  {
   "cell_type": "code",
   "execution_count": 5,
   "id": "48329b9e",
   "metadata": {
    "ExecuteTime": {
     "end_time": "2022-05-05T17:39:25.192512Z",
     "start_time": "2022-05-05T17:39:25.188511Z"
    }
   },
   "outputs": [
    {
     "data": {
      "text/plain": [
       "True"
      ]
     },
     "execution_count": 5,
     "metadata": {},
     "output_type": "execute_result"
    }
   ],
   "source": [
    "Color(1) == 1             # false\n",
    "Color.RED == Color(1)     # true\n",
    "Color.RED == Color['RED'] # true"
   ]
  },
  {
   "cell_type": "code",
   "execution_count": 6,
   "id": "595e4be5",
   "metadata": {
    "ExecuteTime": {
     "end_time": "2022-05-05T17:39:25.196513Z",
     "start_time": "2022-05-05T17:39:25.193512Z"
    }
   },
   "outputs": [
    {
     "name": "stdout",
     "output_type": "stream",
     "text": [
      "3\n",
      "Color.RED\n",
      "Color.GREEN\n",
      "Color.BLUE\n"
     ]
    }
   ],
   "source": [
    "print(len(Color)) # 3\n",
    "# can iterate:\n",
    "for c in Color:\n",
    "    print(c)"
   ]
  },
  {
   "cell_type": "code",
   "execution_count": 7,
   "id": "962a072f",
   "metadata": {
    "ExecuteTime": {
     "end_time": "2022-05-05T17:39:25.204514Z",
     "start_time": "2022-05-05T17:39:25.196513Z"
    }
   },
   "outputs": [
    {
     "name": "stdout",
     "output_type": "stream",
     "text": [
      "<enum 'Color'>\n",
      "<enum 'Color'>\n",
      "Color.RED\n"
     ]
    }
   ],
   "source": [
    "# make auto() cleaner\n",
    "# add __str__() in EnumMeta\n",
    "\n",
    "class auto():\n",
    "    pass\n",
    "\n",
    "class EnumMeta(type):\n",
    "    def __new__(metacls, cls, bases, classdict, **kwds):\n",
    "        enumerations = {x: y for x, y in classdict.items() if not x.startswith('__')}\n",
    "        # handle auto() and auto\n",
    "        next_value = 1\n",
    "        for k, v in enumerations.items():\n",
    "            if type(v) is auto or v is auto:\n",
    "                enumerations[k] = next_value\n",
    "                next_value += 1\n",
    "            else:\n",
    "                next_value = v + 1\n",
    "        enum = super().__new__(metacls, cls, bases, classdict, **kwds)\n",
    "        enum._enumerations = enumerations\n",
    "        return enum\n",
    "\n",
    "    def __str__(cls):\n",
    "        return f'<enum \\'{cls.__name__}\\'>'\n",
    "    \n",
    "    def __len__(cls):\n",
    "        return len(cls._enumerations)\n",
    "    \n",
    "    def __iter__(cls):\n",
    "        return (cls(value) for value in cls._enumerations.values())\n",
    "        \n",
    "class Enum(metaclass=EnumMeta):\n",
    "    def __init__(self, value):\n",
    "        # make sure the passed in value is a valid enumeration value\n",
    "        if value not in self.__class__._enumerations.values():\n",
    "            raise ValueError(f'{value} is not a valid {self.__class__.__name__}')\n",
    "        # save the actual enumeration value\n",
    "        for k, v in self.__class__._enumerations.items():\n",
    "            if v == value:\n",
    "                self.__key = k\n",
    "                self.__value = v\n",
    "    \n",
    "    def __str__(self):\n",
    "        return \"%s.%s\" % (self.__class__.__name__, self.__key)\n",
    "    \n",
    "class Color(Enum):\n",
    "    RED: int = auto\n",
    "    GREEN: int = auto\n",
    "    BLUE: int = auto\n",
    "\n",
    "print(Color)           # __str__() in EnumMeta\n",
    "print(type(Color(1)))  # __str__() in EnumMeta\n",
    "print(Color(1))        # __str__() in Enum"
   ]
  },
  {
   "cell_type": "code",
   "execution_count": 8,
   "id": "f2b81024",
   "metadata": {
    "ExecuteTime": {
     "end_time": "2022-05-05T17:39:25.212517Z",
     "start_time": "2022-05-05T17:39:25.205515Z"
    }
   },
   "outputs": [
    {
     "name": "stdout",
     "output_type": "stream",
     "text": [
      "Color.RED\n"
     ]
    }
   ],
   "source": [
    "# make Color['RED'] return a Color.RED using __getitem__() in EnumMeta\n",
    "\n",
    "class auto():\n",
    "    pass\n",
    "\n",
    "class EnumMeta(type):\n",
    "    def __new__(metacls, cls, bases, classdict, **kwds):\n",
    "        enumerations = {x: y for x, y in classdict.items() if not x.startswith('__')}\n",
    "        # handle auto() and auto\n",
    "        next_value = 1\n",
    "        for k, v in enumerations.items():\n",
    "            if type(v) is auto or v is auto:\n",
    "                enumerations[k] = next_value\n",
    "                next_value += 1\n",
    "            else:\n",
    "                next_value = v + 1\n",
    "        enum = super().__new__(metacls, cls, bases, classdict, **kwds)\n",
    "        enum._enumerations = enumerations\n",
    "        return enum\n",
    "\n",
    "    def __str__(cls):\n",
    "        return f'<enum \\'{cls.__name__}\\'>'\n",
    "    \n",
    "    def __len__(cls):\n",
    "        return len(cls._enumerations)\n",
    "    \n",
    "    def __iter__(cls):\n",
    "        return (cls(value) for value in cls._enumerations.values())\n",
    "    \n",
    "    def __getitem__(cls, key):\n",
    "        return cls(cls._enumerations[key])\n",
    "        \n",
    "class Enum(metaclass=EnumMeta):\n",
    "    def __init__(self, value):\n",
    "        # make sure the passed in value is a valid enumeration value\n",
    "        if value not in self.__class__._enumerations.values():\n",
    "            raise ValueError(f'{value} is not a valid {self.__class__.__name__}')\n",
    "        # save the actual enumeration value\n",
    "        for k, v in self.__class__._enumerations.items():\n",
    "            if v == value:\n",
    "                self.__key = k\n",
    "                self.__value = v\n",
    "    \n",
    "    def __str__(self):\n",
    "        return \"%s.%s\" % (self.__class__.__name__, self.__key)\n",
    "    \n",
    "class Color(Enum):\n",
    "    RED: int = auto\n",
    "    GREEN: int = auto()\n",
    "    BLUE: int = auto()\n",
    "\n",
    "print(Color['RED'])      # returns a Color.RED object\n",
    " #print(Color['PURPLE']) # KeyError: 'PURPLE'"
   ]
  },
  {
   "cell_type": "code",
   "execution_count": 9,
   "id": "2d119e05",
   "metadata": {
    "ExecuteTime": {
     "end_time": "2022-05-05T17:39:25.221519Z",
     "start_time": "2022-05-05T17:39:25.213517Z"
    }
   },
   "outputs": [
    {
     "name": "stdout",
     "output_type": "stream",
     "text": [
      "Color.RED\n",
      "Color.RED\n",
      "Color.RED\n",
      "3\n",
      "Color.RED\n",
      "Color.GREEN\n",
      "Color.BLUE\n"
     ]
    }
   ],
   "source": [
    "# make Color.RED return a Color.RED object, instead of 1\n",
    "\n",
    "class auto():\n",
    "    pass\n",
    "\n",
    "class EnumMeta(type):\n",
    "    def __new__(metacls, cls, bases, classdict, **kwds):\n",
    "        enumerations = {x: y for x, y in classdict.items() if not x.startswith('__')}\n",
    "        # handle auto() and auto\n",
    "        next_value = 1\n",
    "        for k, v in enumerations.items():\n",
    "            if type(v) is auto or v is auto:\n",
    "                enumerations[k] = next_value\n",
    "                next_value += 1\n",
    "            else:\n",
    "                next_value = v + 1\n",
    "        enum = super().__new__(metacls, cls, bases, classdict, **kwds)\n",
    "        enum._enumerations = enumerations\n",
    "        return enum\n",
    "\n",
    "    def __str__(cls):\n",
    "        return f'<enum \\'{cls.__name__}\\'>'\n",
    "    \n",
    "    def __len__(cls):\n",
    "        return len(cls._enumerations)\n",
    "    \n",
    "    def __iter__(cls):\n",
    "        return (cls(value) for value in cls._enumerations.values())\n",
    "        \n",
    "    def __getitem__(cls, key):\n",
    "        return cls(cls._enumerations[key])\n",
    "    \n",
    "    def __getattribute__(cls, key):\n",
    "        # return cls(cls._enumerations[key]) # recursively call itself, kills the kernel!\n",
    "        if key.startswith('_'):\n",
    "            return object.__getattribute__(cls, key)\n",
    "        else:\n",
    "            return cls(object.__getattribute__(cls, '_enumerations')[key])\n",
    "        \n",
    "class Enum(metaclass=EnumMeta):\n",
    "    def __init__(self, value):\n",
    "        # make sure the passed in value is a valid enumeration value\n",
    "        if value not in self.__class__._enumerations.values():\n",
    "            raise ValueError(f'{value} is not a valid {self.__class__.__name__}')\n",
    "        # save the actual enumeration value\n",
    "        for k, v in self.__class__._enumerations.items():\n",
    "            if v == value:\n",
    "                self.__key = k\n",
    "                self.__value = v\n",
    "    \n",
    "    def __str__(self):\n",
    "        return \"%s.%s\" % (self.__class__.__name__, self.__key)\n",
    "    \n",
    "class Color(Enum):\n",
    "    RED: int = auto()\n",
    "    GREEN: int = auto()\n",
    "    BLUE: int = auto()\n",
    "\n",
    "print(Color['RED']) # returns a Color.RED object\n",
    "print(Color.RED)    # returns a Color.RED object\n",
    "print(Color(1))\n",
    "print(len(Color))\n",
    "for c in Color: print(c)\n",
    "# print(Color.PURPLE) # KeyError: 'PURPLE'"
   ]
  },
  {
   "cell_type": "code",
   "execution_count": 10,
   "id": "670a7270",
   "metadata": {
    "ExecuteTime": {
     "end_time": "2022-05-05T17:39:25.231521Z",
     "start_time": "2022-05-05T17:39:25.222519Z"
    }
   },
   "outputs": [
    {
     "name": "stdout",
     "output_type": "stream",
     "text": [
      "True\n",
      "True\n",
      "True\n",
      "False\n",
      "False\n"
     ]
    }
   ],
   "source": [
    "# add __contains__\n",
    "\n",
    "class auto():\n",
    "    pass\n",
    "\n",
    "class EnumMeta(type):\n",
    "    def __new__(metacls, cls, bases, classdict, **kwds):\n",
    "        enumerations = {x: y for x, y in classdict.items() if not x.startswith('__')}\n",
    "        # handle auto() and auto\n",
    "        next_value = 1\n",
    "        for k, v in enumerations.items():\n",
    "            if type(v) is auto or v is auto:\n",
    "                enumerations[k] = next_value\n",
    "                next_value += 1\n",
    "            else:\n",
    "                next_value = v + 1\n",
    "        enum = super().__new__(metacls, cls, bases, classdict, **kwds)\n",
    "        enum._enumerations = enumerations\n",
    "        return enum\n",
    "\n",
    "    def __str__(cls):\n",
    "        return f'<enum \\'{cls.__name__}\\'>'\n",
    "    \n",
    "    def __len__(cls):\n",
    "        return len(cls._enumerations)\n",
    "    \n",
    "    def __iter__(cls):\n",
    "        return (cls(value) for value in cls._enumerations.values())\n",
    "        \n",
    "    def __getitem__(cls, key):\n",
    "        return cls(cls._enumerations[key])\n",
    "    \n",
    "    def __getattribute__(cls, key):\n",
    "        if key.startswith('_'):\n",
    "            return object.__getattribute__(cls, key)\n",
    "        else:\n",
    "            return cls(object.__getattribute__(cls, '_enumerations')[key])\n",
    "\n",
    "    def __contains__(cls, other):\n",
    "        if type(other) == cls:\n",
    "            return True\n",
    "        else:\n",
    "            return False        \n",
    "\n",
    "class Enum(metaclass=EnumMeta):\n",
    "    def __init__(self, value):\n",
    "        # make sure the passed in value is a valid enumeration value\n",
    "        if value not in self.__class__._enumerations.values():\n",
    "            raise ValueError(f'{value} is not a valid {self.__class__.__name__}')\n",
    "        # save the actual enumeration value\n",
    "        for k, v in self.__class__._enumerations.items():\n",
    "            if v == value:\n",
    "                self.__key = k\n",
    "                self.__value = v\n",
    "    \n",
    "    def __str__(self):\n",
    "        return \"%s.%s\" % (self.__class__.__name__, self.__key)\n",
    "    \n",
    "class Color(Enum):\n",
    "    RED: int = auto()\n",
    "    GREEN: int = auto()\n",
    "    BLUE: int = auto()\n",
    "\n",
    "class WeekendDay(Enum):\n",
    "    SATURDAY: int = auto()\n",
    "    SUNDAY: int = auto()        \n",
    "\n",
    "print(Color['RED'] in Color)\n",
    "print(Color.RED in Color)\n",
    "print(Color(1) in Color)\n",
    "print(Color.RED in WeekendDay)\n",
    "print(Color.BLUE in WeekendDay)"
   ]
  },
  {
   "cell_type": "code",
   "execution_count": 16,
   "id": "f0ec7cc4",
   "metadata": {
    "ExecuteTime": {
     "end_time": "2022-05-06T11:13:01.776191Z",
     "start_time": "2022-05-06T11:13:01.766188Z"
    }
   },
   "outputs": [
    {
     "name": "stdout",
     "output_type": "stream",
     "text": [
      "False\n",
      "True\n",
      "False\n",
      "True\n",
      "True\n",
      "False\n",
      "False\n"
     ]
    }
   ],
   "source": [
    "# fix truthiness with __eq__\n",
    "\n",
    "class auto():\n",
    "    pass\n",
    "\n",
    "class EnumMeta(type):\n",
    "    def __new__(metacls, cls, bases, classdict, **kwds):\n",
    "        enumerations = {x: y for x, y in classdict.items() if not x.startswith('__')}\n",
    "        # handle auto() and auto\n",
    "        next_value = 1\n",
    "        for k, v in enumerations.items():\n",
    "            if type(v) is auto or v is auto:\n",
    "                enumerations[k] = next_value\n",
    "                next_value += 1\n",
    "            else:\n",
    "                next_value = v + 1\n",
    "        enum = super().__new__(metacls, cls, bases, classdict, **kwds)\n",
    "        enum._enumerations = enumerations\n",
    "        return enum\n",
    "\n",
    "    def __str__(cls):\n",
    "        return f'<enum \\'{cls.__name__}\\'>'\n",
    "    \n",
    "    def __len__(cls):\n",
    "        return len(cls._enumerations)\n",
    "    \n",
    "    def __iter__(cls):\n",
    "        return (cls(value) for value in cls._enumerations.values())\n",
    "        \n",
    "    def __getitem__(cls, key):\n",
    "        return cls(cls._enumerations[key])\n",
    "    \n",
    "    def __getattribute__(cls, key):\n",
    "        if key.startswith('_'):\n",
    "            return object.__getattribute__(cls, key)\n",
    "        else:\n",
    "            return cls(object.__getattribute__(cls, '_enumerations')[key])\n",
    "\n",
    "    def __contains__(cls, other):\n",
    "        if type(other) == cls:\n",
    "            return True\n",
    "        else:\n",
    "            return False\n",
    "        \n",
    "class Enum(metaclass=EnumMeta):\n",
    "    def __init__(self, value):\n",
    "        # make sure the passed in value is a valid enumeration value\n",
    "        if value not in self.__class__._enumerations.values():\n",
    "            raise ValueError(f'{value} is not a valid {self.__class__.__name__}')\n",
    "        # save the actual enumeration value\n",
    "        for k, v in self.__class__._enumerations.items():\n",
    "            if v == value:\n",
    "                self.__key = k\n",
    "                self.__value = v\n",
    "    \n",
    "    def __str__(self):\n",
    "        return \"%s.%s\" % (self.__class__.__name__, self.__key)\n",
    "    \n",
    "    def __eq__(self, other):\n",
    "        if type(self) != type(other):\n",
    "            return False\n",
    "        else:\n",
    "            return (self.__key == other.__key and self.__value == other.__value)\n",
    "    \n",
    "class Color(Enum):\n",
    "    RED: int = auto()\n",
    "    GREEN: int = auto()\n",
    "    BLUE: int = auto()\n",
    "\n",
    "class WeekendDay(Enum):\n",
    "    SATURDAY: int = auto()\n",
    "    SUNDAY: int = auto()\n",
    "        \n",
    "print(Color.RED == Color)               # False\n",
    "print(Color.RED == Color.RED)           # True\n",
    "print(Color.RED is Color.RED)           # True\n",
    "print(Color.RED == Color['RED'])        # True\n",
    "print(Color.RED == Color(1))            # True\n",
    "print(Color.RED == Color(2))            # False\n",
    "print(Color.RED == WeekendDay.SATURDAY) # False"
   ]
  },
  {
   "cell_type": "code",
   "execution_count": 18,
   "id": "faa96567",
   "metadata": {
    "ExecuteTime": {
     "end_time": "2022-05-06T11:13:08.964821Z",
     "start_time": "2022-05-06T11:13:08.962821Z"
    }
   },
   "outputs": [
    {
     "name": "stdout",
     "output_type": "stream",
     "text": [
      "False\n",
      "False\n",
      "False\n"
     ]
    }
   ],
   "source": [
    "print(Color.RED is Color.RED)\n",
    "print(Color.RED is Color['RED'])\n",
    "print(Color.RED is Color(1))"
   ]
  },
  {
   "cell_type": "code",
   "execution_count": 19,
   "id": "c971221a",
   "metadata": {
    "ExecuteTime": {
     "end_time": "2022-05-06T11:17:32.503602Z",
     "start_time": "2022-05-06T11:17:32.489600Z"
    }
   },
   "outputs": [
    {
     "name": "stdout",
     "output_type": "stream",
     "text": [
      "Constructing new type Enum\n",
      "Constructing new type Color\n",
      "Initializing new <enum 'Color'>\n",
      "Initializing new <enum 'Color'>\n",
      "Initializing new <enum 'Color'>\n",
      "Constructing new type WeekendDay\n",
      "Initializing new <enum 'WeekendDay'>\n",
      "Initializing new <enum 'WeekendDay'>\n",
      "False\n",
      "True\n",
      "True\n",
      "True\n",
      "True\n",
      "False\n",
      "False\n",
      "True\n",
      "True\n",
      "True\n"
     ]
    }
   ],
   "source": [
    "# make static objects and keep returning those\n",
    "\n",
    "class auto():\n",
    "    pass\n",
    "\n",
    "class EnumMeta(type):\n",
    "    def __new__(metacls, cls, bases, classdict, **kwds):\n",
    "        print(f'Constructing new type {cls}')\n",
    "        enumerations = {x: y for x, y in classdict.items() if not x.startswith('__')}\n",
    "        # handle auto() and auto\n",
    "        next_value = 1\n",
    "        for k, v in enumerations.items():\n",
    "            if type(v) is auto or v is auto:\n",
    "                enumerations[k] = next_value\n",
    "                next_value += 1\n",
    "            else:\n",
    "                next_value = v + 1\n",
    "        enum = super().__new__(metacls, cls, bases, classdict, **kwds)\n",
    "        enum._enumerations = enumerations\n",
    "        reverse_enumerations = {y: x for x, y in enumerations.items()}\n",
    "        # make \"static\" instances of each enumeration object\n",
    "        enum._instances = {k: object.__new__(enum) for k, v in enumerations.items()}\n",
    "        # initialize static instances\n",
    "        for k, instance in enum._instances.items():\n",
    "            instance.__init__(enumerations[k])\n",
    "        # overwrite the new Enum's __new__() so that is returns the static instances\n",
    "        enum.__new__ = lambda cls, value: enum._instances[reverse_enumerations[value]]\n",
    "        return enum\n",
    "\n",
    "    def __str__(cls):\n",
    "        return f'<enum \\'{cls.__name__}\\'>'\n",
    "    \n",
    "    def __len__(cls):\n",
    "        return len(cls._enumerations)\n",
    "    \n",
    "    def __iter__(cls):\n",
    "        return (cls(value) for value in cls._enumerations.values())\n",
    "        \n",
    "    def __getitem__(cls, key):\n",
    "        return cls(cls._enumerations[key])\n",
    "    \n",
    "    def __getattribute__(cls, key):\n",
    "        if key.startswith('_'):\n",
    "            return object.__getattribute__(cls, key)\n",
    "        else:\n",
    "            return cls(object.__getattribute__(cls, '_enumerations')[key])\n",
    "        \n",
    "    def __contains__(cls, other):\n",
    "        if type(other) == cls:\n",
    "            return True\n",
    "        else:\n",
    "            return False\n",
    "        \n",
    "class Enum(metaclass=EnumMeta):    \n",
    "    def __init__(self, value):\n",
    "        if hasattr(self, '_Enum__key') and hasattr(self, '_Enum__value'):\n",
    "            return\n",
    "        print(f'Initializing new {self.__class__}')\n",
    "        # make sure the passed in value is a valid enumeration value\n",
    "        if value not in self.__class__._enumerations.values():\n",
    "            raise ValueError(f'{value} is not a valid {self.__class__.__name__}')\n",
    "        # save the actual enumeration value\n",
    "        for k, v in self.__class__._enumerations.items():\n",
    "            if v == value:\n",
    "                self.__key = k\n",
    "                self.__value = v\n",
    "                \n",
    "    def __str__(self):\n",
    "        return \"%s.%s\" % (self.__class__.__name__, self.__key)\n",
    "    \n",
    "    def __eq__(self, other):\n",
    "        if type(self) != type(other):\n",
    "            return False\n",
    "        else:\n",
    "            return (self.__key == other.__key and self.__value == other.__value)\n",
    "    \n",
    "class Color(Enum):\n",
    "    RED: int = auto\n",
    "    GREEN: int = auto\n",
    "    BLUE: int = auto\n",
    "\n",
    "class WeekendDay(Enum):\n",
    "    SATURDAY: int = auto\n",
    "    SUNDAY: int = auto\n",
    "        \n",
    "print(Color.RED == Color)               # False\n",
    "print(Color.RED == Color.RED)           # True\n",
    "print(Color.RED is Color.RED)           # True\n",
    "print(Color.RED == Color['RED'])        # True\n",
    "print(Color.RED == Color(1))            # True\n",
    "print(Color.RED == Color(2))            # False\n",
    "print(Color.RED == WeekendDay.SATURDAY) # False\n",
    "print(Color.RED is Color.RED)           # True\n",
    "print(Color.RED is Color['RED'])        # True\n",
    "print(Color.RED is Color(1))            # True\n",
    "for _ in range(100):\n",
    "    c = Color(3)\n",
    "    d = WeekendDay(2)"
   ]
  },
  {
   "cell_type": "code",
   "execution_count": 13,
   "id": "6488e066",
   "metadata": {
    "ExecuteTime": {
     "end_time": "2022-05-05T17:39:25.270533Z",
     "start_time": "2022-05-05T17:39:25.260527Z"
    }
   },
   "outputs": [],
   "source": [
    "# final version\n",
    "\n",
    "class auto():\n",
    "    pass\n",
    "\n",
    "class EnumMeta(type):\n",
    "    def __new__(metacls, cls, bases, classdict, **kwds):\n",
    "        enumerations = {x: y for x, y in classdict.items() if not x.startswith('__')}\n",
    "        # handle auto() and auto\n",
    "        next_value = 1\n",
    "        for k, v in enumerations.items():\n",
    "            if type(v) is auto or v is auto:\n",
    "                enumerations[k] = next_value\n",
    "                next_value += 1\n",
    "            else:\n",
    "                next_value = v + 1\n",
    "        enum = super().__new__(metacls, cls, bases, classdict, **kwds)\n",
    "        enum._enumerations = enumerations\n",
    "        reverse_enumerations = {y: x for x, y in enumerations.items()}\n",
    "        # make \"static\" instances of each enumeration object\n",
    "        enum._instances = {k: object.__new__(enum) for k, v in enumerations.items()}\n",
    "        # initialize static instances\n",
    "        for k, instance in enum._instances.items():\n",
    "            instance.__init__(enumerations[k])\n",
    "        # overwrite the new Enum's __new__() so that is returns the static instances\n",
    "        enum.__new__ = lambda cls, value: enum._instances[reverse_enumerations[value]]\n",
    "        return enum\n",
    "\n",
    "    def __str__(cls):\n",
    "        return f'<enum \\'{cls.__name__}\\'>'\n",
    "    \n",
    "    def __len__(cls):\n",
    "        return len(cls._enumerations)\n",
    "    \n",
    "    def __iter__(cls):\n",
    "        return (cls(value) for value in cls._enumerations.values())\n",
    "        \n",
    "    def __getitem__(cls, key):\n",
    "        return cls(cls._enumerations[key])\n",
    "    \n",
    "    def __getattribute__(cls, key):\n",
    "        if key.startswith('_'):\n",
    "            return object.__getattribute__(cls, key)\n",
    "        else:\n",
    "            return cls(object.__getattribute__(cls, '_enumerations')[key])\n",
    "        \n",
    "    def __contains__(cls, other):\n",
    "        if type(other) == cls:\n",
    "            return True\n",
    "        else:\n",
    "            return False\n",
    "        \n",
    "class Enum(metaclass=EnumMeta):    \n",
    "    def __init__(self, value):\n",
    "        if hasattr(self, '_Enum__key') and hasattr(self, '_Enum__value'):\n",
    "            return\n",
    "        # make sure the passed in value is a valid enumeration value\n",
    "        if value not in self.__class__._enumerations.values():\n",
    "            raise ValueError(f'{value} is not a valid {self.__class__.__name__}')\n",
    "        # save the actual enumeration value\n",
    "        for k, v in self.__class__._enumerations.items():\n",
    "            if v == value:\n",
    "                self.__key = k\n",
    "                self.__value = v\n",
    "                \n",
    "    def __str__(self):\n",
    "        return \"%s.%s\" % (self.__class__.__name__, self.__key)\n",
    "    \n",
    "    def __eq__(self, other):\n",
    "        if type(self) != type(other):\n",
    "            return False\n",
    "        else:\n",
    "            return (self.__key == other.__key and self.__value == other.__value)"
   ]
  }
 ],
 "metadata": {
  "kernelspec": {
   "display_name": "Python 3 (ipykernel)",
   "language": "python",
   "name": "python3"
  },
  "language_info": {
   "codemirror_mode": {
    "name": "ipython",
    "version": 3
   },
   "file_extension": ".py",
   "mimetype": "text/x-python",
   "name": "python",
   "nbconvert_exporter": "python",
   "pygments_lexer": "ipython3",
   "version": "3.9.7"
  }
 },
 "nbformat": 4,
 "nbformat_minor": 5
}
