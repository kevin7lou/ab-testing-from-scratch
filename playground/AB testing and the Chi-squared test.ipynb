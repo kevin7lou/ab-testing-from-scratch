{
 "cells": [
  {
   "cell_type": "code",
   "execution_count": 2,
   "metadata": {},
   "outputs": [],
   "source": [
    "import numpy as np\n",
    "from statsmodels.stats.weightstats import ztest, ttest_ind\n",
    "from scipy.stats import chi2_contingency, fisher_exact\n",
    "from scipy.stats import norm, expon, t, hypergeom, chi2\n",
    "from scipy import mean, std\n",
    "import matplotlib.pyplot as plt"
   ]
  },
  {
   "cell_type": "code",
   "execution_count": 3,
   "metadata": {},
   "outputs": [],
   "source": [
    "def choice(ps):\n",
    "    return np.random.choice(len(ps), p=ps)\n",
    "\n",
    "def simulate_abtest(funnels, N):\n",
    "    traffic_split = [x[1] for x in funnels]\n",
    "    observations = np.zeros([len(funnels), len(funnels[0][0])])\n",
    "    for _ in range(N):\n",
    "        which_funnel = choice(traffic_split)\n",
    "        funnel_outcome = choice(funnels[which_funnel][0])\n",
    "        observations[which_funnel][funnel_outcome] += 1\n",
    "    return observations"
   ]
  },
  {
   "cell_type": "code",
   "execution_count": 22,
   "metadata": {},
   "outputs": [
    {
     "name": "stdout",
     "output_type": "stream",
     "text": [
      "Observations:\n",
      " [[4825. 1183.]\n",
      " [3211.  781.]]\n",
      "Chi-sq p = 0.876\n",
      "Z-test p = 0.876\n",
      "t-test p = 0.876\n"
     ]
    }
   ],
   "source": [
    "funnels = [\n",
    "    [[0.80, 0.20], 0.6], # the first vector is the actual outcomes,\n",
    "    [[0.80, 0.20], 0.4], # the second is the traffic split\n",
    "]\n",
    "N = 10*1000\n",
    "\n",
    "observations = simulate_abtest(funnels, N)\n",
    "raw_data = int(observations[0][0]) * [1] + int(observations[0][1]) * [0], int(observations[1][0]) * [1] + int(observations[1][1]) * [0]\n",
    "print('Observations:\\n', observations)\n",
    "ch = chi2_contingency(observations, correction=False)\n",
    "print('Chi-sq p = %.3f' % ch[1])\n",
    "zt = ztest(*raw_data)\n",
    "print('Z-test p = %.3f' % zt[1])\n",
    "tt = ttest_ind(*raw_data)\n",
    "print('t-test p = %.3f' % zt[1])"
   ]
  },
  {
   "cell_type": "code",
   "execution_count": 26,
   "metadata": {},
   "outputs": [
    {
     "name": "stdout",
     "output_type": "stream",
     "text": [
      "Observations:\n",
      " [[4748.  595.  573.]\n",
      " [1657.  197.  231.]\n",
      " [ 807.   98.  103.]\n",
      " [ 710.  195.   86.]]\n",
      "Chi-sq p = 0.000\n"
     ]
    }
   ],
   "source": [
    "funnels = [\n",
    "    [[0.80, 0.10, 0.10], 0.6], # the first vector is the actual outcomes,\n",
    "    [[0.80, 0.10, 0.10], 0.2], # the second is the traffic split\n",
    "    [[0.79, 0.11, 0.10], 0.1],\n",
    "    [[0.70, 0.20, 0.10], 0.1],\n",
    "]\n",
    "N = 10*1000\n",
    "\n",
    "observations = simulate_abtest(funnels, N)\n",
    "print('Observations:\\n', observations)\n",
    "ch = chi2_contingency(observations, correction=False)\n",
    "print('Chi-sq p = %.3f' % ch[1])"
   ]
  },
  {
   "cell_type": "code",
   "execution_count": 51,
   "metadata": {},
   "outputs": [],
   "source": [
    "def chi_squared(observations):\n",
    "    row_marginals = np.sum(observations, axis=1)\n",
    "    col_marginals = np.sum(observations, axis=0)\n",
    "    N = np.sum(observations)\n",
    "    chisq = 0\n",
    "    for i in range(len(row_marginals)):\n",
    "        for j in range(len(col_marginals)):\n",
    "            expected = row_marginals[i] * col_marginals[j] / N\n",
    "            chisq += (observations[i][j] - expected)**2 / expected\n",
    "    dof = (len(row_marginals) - 1) * (len(col_marginals) - 1)\n",
    "    p_value = 1.0 - chi2(dof).cdf(chisq)\n",
    "    return (chisq, p_value)"
   ]
  },
  {
   "cell_type": "code",
   "execution_count": 54,
   "metadata": {},
   "outputs": [
    {
     "name": "stdout",
     "output_type": "stream",
     "text": [
      "Observations:\n",
      " [[4846.  594.  591.]\n",
      " [1628.  188.  171.]\n",
      " [ 767.  100.   98.]\n",
      " [ 824.   84.  109.]]\n",
      "Statsmodel chi-sq test statistic = 7.324\n",
      "Statsmodel chi-sq p = 0.292\n",
      "Our chi-sq test statistic = 7.324\n",
      "Our chi-sq p = 0.292\n"
     ]
    }
   ],
   "source": [
    "funnels = [\n",
    "    [[0.80, 0.10, 0.10], 0.6], # the first vector is the actual outcomes,\n",
    "    [[0.80, 0.10, 0.10], 0.2], # the second is the traffic split\n",
    "    [[0.80, 0.10, 0.10], 0.1],\n",
    "    [[0.80, 0.10, 0.10], 0.1],\n",
    "]\n",
    "N = 10*1000\n",
    "\n",
    "observations = simulate_abtest(funnels, N)\n",
    "print('Observations:\\n', observations)\n",
    "ch_scipy = chi2_contingency(observations, correction=False)\n",
    "print('Statsmodel chi-sq test statistic = %.3f' % ch_scipy[0])\n",
    "print('Statsmodel chi-sq p = %.3f' % ch_scipy[1])\n",
    "ch_our = chi_squared(observations)\n",
    "print('Our chi-sq test statistic = %.3f' % ch_our[0])\n",
    "print('Our chi-sq p = %.3f' % ch_our[1])"
   ]
  },
  {
   "cell_type": "code",
   "execution_count": 56,
   "metadata": {},
   "outputs": [
    {
     "name": "stdout",
     "output_type": "stream",
     "text": [
      "Observations:\n",
      " [[4836. 1193.]\n",
      " [3147.  824.]]\n",
      "Chi-sq test statistic = 1.378\n",
      "Chi-sq p = 0.240\n",
      "Z-test z = 1.174\n",
      "Z-test z^2 = 1.378\n",
      "Z-test p = 0.240\n"
     ]
    }
   ],
   "source": [
    "funnels = [\n",
    "    [[0.80, 0.20], 0.6], # the first vector is the actual outcomes,\n",
    "    [[0.80, 0.20], 0.4], # the second is the traffic split\n",
    "]\n",
    "N = 10*1000\n",
    "\n",
    "observations = simulate_abtest(funnels, N)\n",
    "raw_data = int(observations[0][0]) * [1] + int(observations[0][1]) * [0], int(observations[1][0]) * [1] + int(observations[1][1]) * [0]\n",
    "print('Observations:\\n', observations)\n",
    "ch = chi2_contingency(observations, correction=False)\n",
    "print('Chi-sq test statistic = %.3f' % ch[0])\n",
    "print('Chi-sq p = %.3f' % ch[1])\n",
    "zt = ztest(*raw_data)\n",
    "print('Z-test z = %.3f' % zt[0])\n",
    "print('Z-test z^2 = %.3f' % zt[0]**2)\n",
    "print('Z-test p = %.3f' % zt[1])"
   ]
  },
  {
   "cell_type": "code",
   "execution_count": 9,
   "metadata": {},
   "outputs": [
    {
     "name": "stdout",
     "output_type": "stream",
     "text": [
      "Observations:\n",
      " [[4780. 1181.]\n",
      " [3243.  796.]]\n",
      "Chi-sq p = 0.898\n",
      "Z-test p (TWO TAILED) = 0.898\n",
      "t-test p (TWO TAILED) = 0.898\n",
      "Z-test p (ONE TAILED) = 0.551\n",
      "t-test p (ONE TAILED) = 0.551\n"
     ]
    }
   ],
   "source": [
    "funnels = [\n",
    "    [[0.80, 0.20], 0.6], # the first vector is the actual outcomes,\n",
    "    [[0.80, 0.20], 0.4], # the second is the traffic split\n",
    "]\n",
    "N = 10*1000\n",
    "\n",
    "observations = simulate_abtest(funnels, N)\n",
    "raw_data = int(observations[0][0]) * [1] + int(observations[0][1]) * [0], int(observations[1][0]) * [1] + int(observations[1][1]) * [0]\n",
    "print('Observations:\\n', observations)\n",
    "ch = chi2_contingency(observations, correction=False)\n",
    "print('Chi-sq p = %.3f' % ch[1])\n",
    "zt = ztest(*raw_data, alternative='two-sided')\n",
    "print('Z-test p (TWO TAILED) = %.3f' % zt[1])\n",
    "tt = ttest_ind(*raw_data, alternative='two-sided')\n",
    "print('t-test p (TWO TAILED) = %.3f' % zt[1])\n",
    "zt = ztest(*raw_data, alternative='larger')\n",
    "print('Z-test p (ONE TAILED) = %.3f' % zt[1])\n",
    "tt = ttest_ind(*raw_data, alternative='larger')\n",
    "print('t-test p (ONE TAILED) = %.3f' % zt[1])"
   ]
  },
  {
   "cell_type": "code",
   "execution_count": null,
   "metadata": {},
   "outputs": [],
   "source": []
  }
 ],
 "metadata": {
  "kernelspec": {
   "display_name": "Python 3",
   "language": "python",
   "name": "python3"
  },
  "language_info": {
   "codemirror_mode": {
    "name": "ipython",
    "version": 3
   },
   "file_extension": ".py",
   "mimetype": "text/x-python",
   "name": "python",
   "nbconvert_exporter": "python",
   "pygments_lexer": "ipython3",
   "version": "3.6.6"
  }
 },
 "nbformat": 4,
 "nbformat_minor": 2
}
