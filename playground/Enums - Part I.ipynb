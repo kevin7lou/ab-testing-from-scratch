{
 "cells": [
  {
   "cell_type": "code",
   "execution_count": 1,
   "id": "e00b6bec",
   "metadata": {
    "ExecuteTime": {
     "end_time": "2022-05-03T17:17:37.296083Z",
     "start_time": "2022-05-03T17:17:37.286081Z"
    }
   },
   "outputs": [
    {
     "data": {
      "text/plain": [
       "'3.9.7 (default, Sep 16 2021, 16:59:28) [MSC v.1916 64 bit (AMD64)]'"
      ]
     },
     "execution_count": 1,
     "metadata": {},
     "output_type": "execute_result"
    }
   ],
   "source": [
    "import sys\n",
    "from enum import Enum, auto\n",
    "sys.version"
   ]
  },
  {
   "cell_type": "code",
   "execution_count": 2,
   "id": "16a01254",
   "metadata": {
    "ExecuteTime": {
     "end_time": "2022-05-03T17:17:38.826081Z",
     "start_time": "2022-05-03T17:17:38.823081Z"
    }
   },
   "outputs": [],
   "source": [
    "from enum import Enum, auto\n",
    "\n",
    "class Color(Enum):\n",
    "    RED: int = 1\n",
    "    GREEN: int = 2\n",
    "    BLUE: int = 3"
   ]
  },
  {
   "cell_type": "code",
   "execution_count": 3,
   "id": "3c909ea9",
   "metadata": {
    "ExecuteTime": {
     "end_time": "2022-05-03T17:17:43.983963Z",
     "start_time": "2022-05-03T17:17:43.980961Z"
    }
   },
   "outputs": [],
   "source": [
    "class Color(Enum):\n",
    "    RED: int = auto()\n",
    "    GREEN: int = auto()\n",
    "    BLUE: int = auto()"
   ]
  },
  {
   "cell_type": "code",
   "execution_count": 4,
   "id": "8972fd28",
   "metadata": {
    "ExecuteTime": {
     "end_time": "2022-05-03T17:17:48.504903Z",
     "start_time": "2022-05-03T17:17:48.500903Z"
    }
   },
   "outputs": [
    {
     "name": "stdout",
     "output_type": "stream",
     "text": [
      "<class 'enum.EnumMeta'> <enum 'Color'> <enum 'Color'> <enum 'Color'>\n"
     ]
    }
   ],
   "source": [
    "c1 = Color(1)\n",
    "c2 = Color(Color.RED)\n",
    "c3 = Color(Color['RED'])\n",
    "print(type(Color), type(c1), type(Color.RED), type(Color['RED']))"
   ]
  },
  {
   "cell_type": "code",
   "execution_count": 5,
   "id": "48329b9e",
   "metadata": {
    "ExecuteTime": {
     "end_time": "2022-05-03T17:17:50.859693Z",
     "start_time": "2022-05-03T17:17:50.855692Z"
    }
   },
   "outputs": [
    {
     "data": {
      "text/plain": [
       "True"
      ]
     },
     "execution_count": 5,
     "metadata": {},
     "output_type": "execute_result"
    }
   ],
   "source": [
    "Color(1) == 1             # false\n",
    "Color.RED == Color(1)     # true\n",
    "Color.RED == Color['RED'] # true"
   ]
  },
  {
   "cell_type": "code",
   "execution_count": 6,
   "id": "595e4be5",
   "metadata": {
    "ExecuteTime": {
     "end_time": "2022-05-03T17:17:53.642317Z",
     "start_time": "2022-05-03T17:17:53.639317Z"
    }
   },
   "outputs": [
    {
     "name": "stdout",
     "output_type": "stream",
     "text": [
      "3\n",
      "Color.RED\n",
      "Color.GREEN\n",
      "Color.BLUE\n"
     ]
    }
   ],
   "source": [
    "print(len(Color)) # 3\n",
    "# can iterate:\n",
    "for c in Color:\n",
    "    print(c)"
   ]
  },
  {
   "cell_type": "code",
   "execution_count": 18,
   "id": "1c83ca4c",
   "metadata": {
    "ExecuteTime": {
     "end_time": "2022-05-03T14:31:24.305714Z",
     "start_time": "2022-05-03T14:31:24.302713Z"
    }
   },
   "outputs": [],
   "source": [
    "# Color(4) # ValueError: 4 is not a valid Color\n",
    "# Color('RED') # ValueError: 'RED' is not a valid Color\n",
    "# c1 = Color(1)\n",
    "# c1 += 1 # TypeError: unsupported operand type(s) for +=: 'Color' and 'int'"
   ]
  },
  {
   "cell_type": "code",
   "execution_count": 8,
   "id": "6f014f97",
   "metadata": {
    "ExecuteTime": {
     "end_time": "2022-05-03T17:18:14.197090Z",
     "start_time": "2022-05-03T17:18:14.194089Z"
    }
   },
   "outputs": [
    {
     "name": "stdout",
     "output_type": "stream",
     "text": [
      "<class 'type'>\n"
     ]
    }
   ],
   "source": [
    "class Color():     # not deriving from Enum\n",
    "    RED: int = 1\n",
    "    GREEN: int = 2\n",
    "    BLUE: int = 3\n",
    "\n",
    "print(type(Color))"
   ]
  },
  {
   "cell_type": "code",
   "execution_count": 9,
   "id": "b883fed8",
   "metadata": {
    "ExecuteTime": {
     "end_time": "2022-05-03T17:18:21.013794Z",
     "start_time": "2022-05-03T17:18:21.010792Z"
    }
   },
   "outputs": [
    {
     "name": "stdout",
     "output_type": "stream",
     "text": [
      "<class 'enum.EnumMeta'> <class 'enum.EnumMeta'> <class 'type'>\n"
     ]
    }
   ],
   "source": [
    "from enum import EnumMeta, Enum, auto\n",
    "\n",
    "class Color(Enum):\n",
    "    RED: int = 1\n",
    "    GREEN: int = 2\n",
    "    BLUE: int = 3\n",
    "        \n",
    "print(type(Color), type(Enum), type(EnumMeta))"
   ]
  },
  {
   "cell_type": "code",
   "execution_count": 10,
   "id": "511c1f2a",
   "metadata": {
    "ExecuteTime": {
     "end_time": "2022-05-03T17:18:24.004464Z",
     "start_time": "2022-05-03T17:18:24.000464Z"
    }
   },
   "outputs": [
    {
     "name": "stdout",
     "output_type": "stream",
     "text": [
      "Defining new Enum type Color:\n",
      "- metacls = <class '__main__.Enum'>\n",
      "- bases = ()\n",
      "- classdict = {'__module__': '__main__', '__qualname__': 'Color', '__annotations__': {'RED': <class 'int'>, 'GREEN': <class 'int'>, 'BLUE': <class 'int'>}, 'RED': 1, 'GREEN': 2, 'BLUE': 3}\n"
     ]
    }
   ],
   "source": [
    "class Enum(type):\n",
    "    def __new__(metacls, cls, bases, classdict, **kwds):\n",
    "        print(f'Defining new Enum type {cls}:')\n",
    "        print(f'- metacls = {metacls}')\n",
    "        print(f'- bases = {bases}')\n",
    "        print(f'- classdict = {classdict}')\n",
    "\n",
    "class Color(metaclass=Enum): # specifying our own Enum metaclass\n",
    "    RED: int = 1\n",
    "    GREEN: int = 2\n",
    "    BLUE: int = 3"
   ]
  },
  {
   "cell_type": "code",
   "execution_count": null,
   "id": "6a057a74",
   "metadata": {},
   "outputs": [],
   "source": [
    "class EnumMeta(type):\n",
    "    ...\n",
    "\n",
    "class Enum(metaclass=EnumMeta):\n",
    "    ...\n",
    "\n",
    "class Color(Enum):\n",
    "    ..."
   ]
  },
  {
   "cell_type": "code",
   "execution_count": 13,
   "id": "09a98584",
   "metadata": {
    "ExecuteTime": {
     "end_time": "2022-05-03T17:18:44.129908Z",
     "start_time": "2022-05-03T17:18:44.124907Z"
    }
   },
   "outputs": [
    {
     "name": "stdout",
     "output_type": "stream",
     "text": [
      "{'RED': 1, 'GREEN': 2, 'BLUE': 3}\n",
      "<class '__main__.EnumMeta'> <class '__main__.EnumMeta'> <class 'type'>\n"
     ]
    }
   ],
   "source": [
    "class EnumMeta(type):\n",
    "    def __new__(metacls, cls, bases, classdict, **kwds):\n",
    "        enumerations = {x: y for x, y in classdict.items() if not x.startswith('__')}\n",
    "        enum = super().__new__(metacls, cls, bases, classdict, **kwds)\n",
    "        enum._enumerations = enumerations\n",
    "        return enum\n",
    "\n",
    "class Enum(metaclass=EnumMeta):\n",
    "    pass\n",
    "\n",
    "class Color(Enum):\n",
    "    RED: int = 1\n",
    "    GREEN: int = 2\n",
    "    BLUE: int = 3\n",
    "\n",
    "print(Color._enumerations)                     # {'RED': 1, 'GREEN': 2, 'BLUE': 3}\n",
    "print(type(Color), type(Enum), type(EnumMeta)) # ...\n",
    "# Color(1)                                       # TypeError: Color() takes no arguments"
   ]
  },
  {
   "cell_type": "code",
   "execution_count": 14,
   "id": "9480d5ab",
   "metadata": {
    "ExecuteTime": {
     "end_time": "2022-05-03T17:18:45.559606Z",
     "start_time": "2022-05-03T17:18:45.552605Z"
    }
   },
   "outputs": [
    {
     "data": {
      "text/plain": [
       "<__main__.Color at 0x2ccf9cd0100>"
      ]
     },
     "execution_count": 14,
     "metadata": {},
     "output_type": "execute_result"
    }
   ],
   "source": [
    "class EnumMeta(type):\n",
    "    def __new__(metacls, cls, bases, classdict, **kwds):\n",
    "        enumerations = {x: y for x, y in classdict.items() if not x.startswith('__')}\n",
    "        enum = super().__new__(metacls, cls, bases, classdict, **kwds)\n",
    "        enum._enumerations = enumerations\n",
    "        return enum\n",
    "\n",
    "class Enum(metaclass=EnumMeta):\n",
    "    def __init__(self, value):\n",
    "        # make sure the passed in value is a valid enumeration value\n",
    "        if value not in self.__class__._enumerations.values():\n",
    "            raise ValueError(f'{value} is not a valid {self.__class__.__name__}')\n",
    "        # save the actual enumeration value\n",
    "        for k, v in self.__class__._enumerations.items():\n",
    "            if v == value:\n",
    "                self.__key = k\n",
    "                self.__value = v\n",
    "\n",
    "class Color(Enum):\n",
    "    RED: int = 1\n",
    "    GREEN: int = 2\n",
    "    BLUE: int = 3\n",
    "\n",
    "Color(1) # okay\n",
    "# Color(4) # ValueError: 4 is not a valid Color"
   ]
  },
  {
   "cell_type": "code",
   "execution_count": 15,
   "id": "421bd58e",
   "metadata": {
    "ExecuteTime": {
     "end_time": "2022-05-03T17:18:49.581187Z",
     "start_time": "2022-05-03T17:18:49.574185Z"
    }
   },
   "outputs": [
    {
     "name": "stdout",
     "output_type": "stream",
     "text": [
      "Color.RED\n",
      "3\n",
      "Color.RED\n",
      "Color.GREEN\n",
      "Color.BLUE\n"
     ]
    }
   ],
   "source": [
    "class EnumMeta(type):\n",
    "    def __new__(metacls, cls, bases, classdict, **kwds):\n",
    "        enumerations = {x: y for x, y in classdict.items() if not x.startswith('__')}\n",
    "        enum = super().__new__(metacls, cls, bases, classdict, **kwds)\n",
    "        enum._enumerations = enumerations\n",
    "        return enum\n",
    "\n",
    "    def __len__(cls):\n",
    "        return len(cls._enumerations)\n",
    "    \n",
    "    def __iter__(cls):\n",
    "        return (cls(value) for value in cls._enumerations.values())\n",
    "        \n",
    "class Enum(metaclass=EnumMeta):\n",
    "    def __init__(self, value):\n",
    "        # make sure the passed in value is a valid enumeration value\n",
    "        if value not in self.__class__._enumerations.values():\n",
    "            raise ValueError(f'{value} is not a valid {self.__class__.__name__}')\n",
    "        # save the actual enumeration value\n",
    "        for k, v in self.__class__._enumerations.items():\n",
    "            if v == value:\n",
    "                self.__key = k\n",
    "                self.__value = v\n",
    "    \n",
    "    def __str__(self):\n",
    "        return \"%s.%s\" % (self.__class__.__name__, self.__key)\n",
    "    \n",
    "class Color(Enum):\n",
    "    RED: int = 1\n",
    "    GREEN: int = 2\n",
    "    BLUE: int = 3\n",
    "\n",
    "print(Color(1))\n",
    "print(len(Color))\n",
    "for c in Color:\n",
    "    print(c)"
   ]
  },
  {
   "cell_type": "code",
   "execution_count": 16,
   "id": "962a072f",
   "metadata": {
    "ExecuteTime": {
     "end_time": "2022-05-03T17:18:51.839692Z",
     "start_time": "2022-05-03T17:18:51.831690Z"
    }
   },
   "outputs": [
    {
     "name": "stdout",
     "output_type": "stream",
     "text": [
      "Color.RED\n",
      "3\n",
      "Color.RED\n",
      "Color.GREEN\n",
      "Color.BLUE\n"
     ]
    }
   ],
   "source": [
    "class _Auto():\n",
    "    pass\n",
    "\n",
    "def auto():\n",
    "    return _Auto()\n",
    "\n",
    "class EnumMeta(type):\n",
    "    def __new__(metacls, cls, bases, classdict, **kwds):\n",
    "        enumerations = {x: y for x, y in classdict.items() if not x.startswith('__')}\n",
    "        # handle auto()\n",
    "        next_value = 1\n",
    "        for k, v in enumerations.items():\n",
    "            if type(v) != _Auto:\n",
    "                next_value = v + 1\n",
    "            else:\n",
    "                enumerations[k] = next_value\n",
    "                next_value += 1\n",
    "        enum = super().__new__(metacls, cls, bases, classdict, **kwds)\n",
    "        enum._enumerations = enumerations\n",
    "        return enum\n",
    "\n",
    "    def __len__(cls):\n",
    "        return len(cls._enumerations)\n",
    "    \n",
    "    def __iter__(cls):\n",
    "        return (cls(value) for value in cls._enumerations.values())\n",
    "        \n",
    "class Enum(metaclass=EnumMeta):\n",
    "    def __init__(self, value):\n",
    "        # make sure the passed in value is a valid enumeration value\n",
    "        if value not in self.__class__._enumerations.values():\n",
    "            raise ValueError(f'{value} is not a valid {self.__class__.__name__}')\n",
    "        # save the actual enumeration value\n",
    "        for k, v in self.__class__._enumerations.items():\n",
    "            if v == value:\n",
    "                self.__key = k\n",
    "                self.__value = v\n",
    "    \n",
    "    def __str__(self):\n",
    "        return \"%s.%s\" % (self.__class__.__name__, self.__key)\n",
    "    \n",
    "class Color(Enum):\n",
    "    RED: int = auto()\n",
    "    GREEN: int = auto()\n",
    "    BLUE: int = auto()\n",
    "\n",
    "print(Color(1))\n",
    "print(len(Color))\n",
    "for c in Color:\n",
    "    print(c)"
   ]
  }
 ],
 "metadata": {
  "kernelspec": {
   "display_name": "Python 3 (ipykernel)",
   "language": "python",
   "name": "python3"
  },
  "language_info": {
   "codemirror_mode": {
    "name": "ipython",
    "version": 3
   },
   "file_extension": ".py",
   "mimetype": "text/x-python",
   "name": "python",
   "nbconvert_exporter": "python",
   "pygments_lexer": "ipython3",
   "version": "3.9.7"
  }
 },
 "nbformat": 4,
 "nbformat_minor": 5
}
