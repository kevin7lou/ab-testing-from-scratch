{
 "cells": [
  {
   "cell_type": "code",
   "execution_count": 1,
   "id": "regulated-disclosure",
   "metadata": {
    "ExecuteTime": {
     "end_time": "2021-10-23T08:57:42.541622Z",
     "start_time": "2021-10-23T08:57:41.941486Z"
    }
   },
   "outputs": [],
   "source": [
    "from math import log\n",
    "from sklearn import datasets\n",
    "from sklearn.cluster import KMeans\n",
    "from collections import defaultdict, Counter"
   ]
  },
  {
   "cell_type": "code",
   "execution_count": 2,
   "id": "ignored-picture",
   "metadata": {
    "ExecuteTime": {
     "end_time": "2021-10-23T08:57:42.610637Z",
     "start_time": "2021-10-23T08:57:42.542622Z"
    }
   },
   "outputs": [
    {
     "name": "stdout",
     "output_type": "stream",
     "text": [
      "Using 1 columns in feature vector, conditional entropy = 0.99 bits, information gain = 0.60 bits\n",
      "Using 2 columns in feature vector, conditional entropy = 0.56 bits, information gain = 1.02 bits\n",
      "Using 3 columns in feature vector, conditional entropy = 0.44 bits, information gain = 1.14 bits\n",
      "Using 4 columns in feature vector, conditional entropy = 0.39 bits, information gain = 1.19 bits\n"
     ]
    }
   ],
   "source": [
    "def iris_clusters(use_columns=None):\n",
    "    iris = datasets.load_iris()\n",
    "    model = KMeans(n_clusters=len(iris.target_names))\n",
    "    if use_columns is None:\n",
    "        data = iris.data\n",
    "    else:\n",
    "        data = iris.data[:, use_columns]\n",
    "    model.fit(data)\n",
    "    return iris.target, model.predict(data)\n",
    "\n",
    "def entropy(frequencies, base=2):\n",
    "    return -1 * sum([f/sum(frequencies) * log(f/sum(frequencies), base) for f in frequencies])\n",
    "\n",
    "def conditional_entropy(y, x, base=2): # computes H(Y|X)\n",
    "    clusters = defaultdict(lambda: [])\n",
    "    for yy, xx in zip(y, x):\n",
    "        clusters[xx].append(yy)\n",
    "    return sum([len(cluster)/len(x) * entropy(Counter(cluster).values(), base) for cluster in clusters.values()])\n",
    "\n",
    "def information_gain(p, q, base=2):\n",
    "    return     entropy(Counter(p).values(), base) - conditional_entropy(p, q, base)\n",
    "    # same as  entropy(Counter(q).values()) - conditional_entropy(q, p)\n",
    "\n",
    "for use_columns in [[0], [0, 1], [0, 1, 2], [0, 1, 2, 3]]:\n",
    "    actuals, modeled = iris_clusters(use_columns)\n",
    "    print('Using %d columns in feature vector, conditional entropy = %.2f bits, information gain = %.2f bits' % \n",
    "          (len(use_columns), conditional_entropy(actuals, modeled), information_gain(actuals, modeled)))"
   ]
  },
  {
   "cell_type": "code",
   "execution_count": null,
   "id": "stainless-mistress",
   "metadata": {},
   "outputs": [],
   "source": []
  }
 ],
 "metadata": {
  "kernelspec": {
   "display_name": "Python 3",
   "language": "python",
   "name": "python3"
  },
  "language_info": {
   "codemirror_mode": {
    "name": "ipython",
    "version": 3
   },
   "file_extension": ".py",
   "mimetype": "text/x-python",
   "name": "python",
   "nbconvert_exporter": "python",
   "pygments_lexer": "ipython3",
   "version": "3.8.8"
  }
 },
 "nbformat": 4,
 "nbformat_minor": 5
}
