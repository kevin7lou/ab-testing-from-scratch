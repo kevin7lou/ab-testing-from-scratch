{
 "cells": [
  {
   "cell_type": "code",
   "execution_count": 1,
   "metadata": {
    "ExecuteTime": {
     "end_time": "2021-06-20T10:53:28.604421Z",
     "start_time": "2021-06-20T10:53:27.067965Z"
    }
   },
   "outputs": [],
   "source": [
    "from imblearn.under_sampling import RandomUnderSampler\n",
    "from collections import defaultdict\n",
    "from collections import Counter\n",
    "import requests\n",
    "import fasttext\n",
    "import pandas as pd\n",
    "import json"
   ]
  },
  {
   "cell_type": "code",
   "execution_count": 2,
   "metadata": {
    "ExecuteTime": {
     "end_time": "2021-06-20T10:53:28.609465Z",
     "start_time": "2021-06-20T10:53:28.606697Z"
    }
   },
   "outputs": [],
   "source": [
    "# download 1.2M tweets from US politicians and their Twitter account info from:\n",
    "#\n",
    "#   https://www.reddit.com/r/datasets/comments/6fniik/over_one_million_tweets_collected_from_us/\n",
    "#\n",
    "# extract and set path below:\n",
    "\n",
    "data_path = '/Users/mtrencseni/Downloads/US_PoliticalTweets/'"
   ]
  },
  {
   "cell_type": "code",
   "execution_count": 3,
   "metadata": {
    "ExecuteTime": {
     "end_time": "2021-06-20T10:53:28.631361Z",
     "start_time": "2021-06-20T10:53:28.611929Z"
    }
   },
   "outputs": [
    {
     "name": "stdout",
     "output_type": "stream",
     "text": [
      "Total politicans: 548 \n",
      "\n",
      "[{'name': 'Governor Bill Walker', 'screen_name': 'AkGovBillWalker'}, {'name': 'Amy Klobuchar', 'screen_name': 'amyklobuchar'}, {'name': 'Anthony G. Brown', 'screen_name': 'AnthonyBrownMD4'}, {'name': 'Gov. Asa Hutchinson', 'screen_name': 'AsaHutchinson'}, {'name': 'Rep. Austin Scott', 'screen_name': 'AustinScottGA08'}, {'name': 'RepBThompson', 'screen_name': 'BennieGThompson'}, {'name': 'Bill Cassidy', 'screen_name': 'BillCassidy'}, {'name': 'Gov. Bill Haslam', 'screen_name': 'BillHaslam'}, {'name': 'U.S. Rep. Bob Latta', 'screen_name': 'boblatta'}, {'name': 'Rep. Brad Sherman', 'screen_name': 'BradSherman'}] ...\n"
     ]
    }
   ],
   "source": [
    "users = []\n",
    "with open(data_path + 'users.json') as f:\n",
    "    while True:\n",
    "        line = f.readline().strip()\n",
    "        if not line or len(line) == 0:\n",
    "            break\n",
    "        user = json.loads(line)\n",
    "        users.append({'name': user['name'], 'screen_name': user['screen_name']})\n",
    "print('Total politicans:', len(users), '\\n')\n",
    "print(users[:10], '...')"
   ]
  },
  {
   "cell_type": "code",
   "execution_count": 4,
   "metadata": {
    "ExecuteTime": {
     "end_time": "2021-06-20T10:53:28.643184Z",
     "start_time": "2021-06-20T10:53:28.633932Z"
    }
   },
   "outputs": [],
   "source": [
    "parties = ['Independent', 'Libertarian', 'Democratic', 'Republican']\n",
    "\n",
    "def normalize_name(name):\n",
    "    prefixes = ['governor', 'gov.', 'rep.', 'u.s. rep.', 'gov', 'rep', 'captain', 'cong.']\n",
    "    for prefix in prefixes:\n",
    "        if name.lower().startswith(prefix):\n",
    "            return name[len(prefix):].strip()\n",
    "    return name.strip()\n",
    "\n",
    "def fetch_politician_info(name):\n",
    "    info = {}\n",
    "    info['name'] = name\n",
    "    info['wiki_page'] = ''\n",
    "    info['party'] = ''\n",
    "    try:\n",
    "        normalized_name = normalize_name(name)\n",
    "        search_url = 'https://en.wikipedia.org/w/api.php?action=query&list=search&format=json&srsearch=' + normalized_name + ' american politician'\n",
    "        wiki_page = requests.get(search_url).json()['query']['search'][0]['title']\n",
    "        info['wiki_page'] = 'https://en.wikipedia.org/wiki/' + wiki_page.replace(' ', '_')\n",
    "        wiki_info_url = 'https://en.wikipedia.org/w/api.php?action=query&prop=revisions&rvprop=content&rvsection=0&redirects=1&format=json&titles=' + wiki_page\n",
    "        result = requests.get(wiki_info_url).json()\n",
    "        pages = result['query']['pages']\n",
    "        for _, v in pages.items():\n",
    "            lines = v['revisions'][0]['*'].split('\\n')\n",
    "            for line in lines:\n",
    "                if line.startswith('| party') or line.startswith('|party'):\n",
    "                    for party in parties:\n",
    "                        if party.lower() in line.lower():\n",
    "                            info['party'] = party\n",
    "                            return info\n",
    "    except:\n",
    "        pass\n",
    "    finally:\n",
    "        return info"
   ]
  },
  {
   "cell_type": "code",
   "execution_count": 5,
   "metadata": {
    "ExecuteTime": {
     "end_time": "2021-06-20T10:53:29.488651Z",
     "start_time": "2021-06-20T10:53:28.644962Z"
    }
   },
   "outputs": [
    {
     "data": {
      "text/plain": [
       "{'name': 'Adam Schiff',\n",
       " 'wiki_page': 'https://en.wikipedia.org/wiki/Adam_Schiff',\n",
       " 'party': 'Democratic'}"
      ]
     },
     "execution_count": 5,
     "metadata": {},
     "output_type": "execute_result"
    }
   ],
   "source": [
    "fetch_politician_info('Adam Schiff')"
   ]
  },
  {
   "cell_type": "code",
   "execution_count": 6,
   "metadata": {
    "ExecuteTime": {
     "end_time": "2021-06-20T10:53:29.493422Z",
     "start_time": "2021-06-20T10:53:29.490754Z"
    }
   },
   "outputs": [],
   "source": [
    "politicians = {}"
   ]
  },
  {
   "cell_type": "code",
   "execution_count": 7,
   "metadata": {
    "ExecuteTime": {
     "end_time": "2021-06-20T11:01:22.974354Z",
     "start_time": "2021-06-20T10:53:29.495554Z"
    }
   },
   "outputs": [
    {
     "name": "stdout",
     "output_type": "stream",
     "text": [
      "547 : Yvette Clarke -> Democratic                                        \r"
     ]
    }
   ],
   "source": [
    "for i, user in enumerate(users):\n",
    "    if user['screen_name'] in politicians:\n",
    "        if politicians[user['screen_name']]['party'] != '':\n",
    "            continue\n",
    "    info = fetch_politician_info(user['name'])\n",
    "    info['screen_name'] = user['screen_name']\n",
    "    politicians[info['screen_name']] = info\n",
    "    print(i, ':', info['name'], '->', info['party'], ' '*32, end='\\r')"
   ]
  },
  {
   "cell_type": "code",
   "execution_count": 8,
   "metadata": {
    "ExecuteTime": {
     "end_time": "2021-06-20T11:01:22.984143Z",
     "start_time": "2021-06-20T11:01:22.979369Z"
    }
   },
   "outputs": [
    {
     "name": "stdout",
     "output_type": "stream",
     "text": [
      "Missing party:\n",
      "BennieGThompson RepBThompson\n",
      "GOPLeader Kevin McCarthy\n",
      "GovChristie Governor Christie\n",
      "GregHarper Greg Harper\n",
      "LamarSmithTX21 Lamar Smith\n",
      "MacTXPress Mac Thornberry Press\n",
      "RepDonBacon Rep. Don Bacon\n",
      "RepMeehan Patrick Meehan\n",
      "RepPeteKing Rep. Pete King\n",
      "RepWalterJones Rep. Walter Jones\n",
      "SenSanders Bernie Sanders\n",
      "SenSchumer Chuck Schumer\n",
      "tiberipress tiberipress\n",
      "USRepKCastor US Rep Kathy Castor\n",
      "Total: 14\n"
     ]
    }
   ],
   "source": [
    "print('Missing party:')\n",
    "num_missing = 0\n",
    "for k, v in politicians.items():\n",
    "    if v['party'] == '':\n",
    "        print(k, v['name'])\n",
    "        num_missing += 1\n",
    "print('Total:', num_missing)"
   ]
  },
  {
   "cell_type": "code",
   "execution_count": 13,
   "metadata": {
    "ExecuteTime": {
     "end_time": "2021-06-20T11:06:47.881900Z",
     "start_time": "2021-06-20T11:06:47.875586Z"
    }
   },
   "outputs": [],
   "source": [
    "politicians['BennieGThompson']['party'] = 'Democratic'\n",
    "politicians['DrNealDunnFL2']['party']   = 'Republican'\n",
    "politicians['GregHarper']['party']      = 'Republican'\n",
    "politicians['justinamash']['party']     = 'Libertarian'\n",
    "politicians['MacTXPress']['party']      = 'Republican'\n",
    "politicians['RepBillJohnson']['party']  = 'Republican'\n",
    "politicians['RepMeehan']['party']       = 'Republican'\n",
    "politicians['RepPeteKing']['party']     = 'Republican'\n",
    "politicians['RepWalterJones']['party']  = 'Republican'\n",
    "politicians['SenSanders']['party']      = 'Independent'\n",
    "politicians['tiberipress']['party']     = 'Republican'\n",
    "politicians['GOPLeader']['party']       = 'Republican'\n",
    "politicians['GovChristie']['party']     = 'Republican'\n",
    "politicians['LamarSmithTX21']['party']  = 'Republican'\n",
    "politicians['RepDonBacon']['party']     = 'Republican'\n",
    "politicians['SenSchumer']['party']      = 'Democratic'\n",
    "politicians['USRepKCastor']['party']    = 'Democratic'"
   ]
  },
  {
   "cell_type": "code",
   "execution_count": 15,
   "metadata": {
    "ExecuteTime": {
     "end_time": "2021-06-20T11:07:04.657428Z",
     "start_time": "2021-06-20T11:07:04.652768Z"
    }
   },
   "outputs": [
    {
     "name": "stdout",
     "output_type": "stream",
     "text": [
      "Missing party:\n",
      "Total: 0\n"
     ]
    }
   ],
   "source": [
    "print('Missing party:')\n",
    "num_missing = 0\n",
    "for k, v in politicians.items():\n",
    "    if v['party'] == '':\n",
    "        print(k, v['name'])\n",
    "        num_missing += 1\n",
    "print('Total:', num_missing)"
   ]
  },
  {
   "cell_type": "code",
   "execution_count": 16,
   "metadata": {
    "ExecuteTime": {
     "end_time": "2021-06-20T11:07:04.663913Z",
     "start_time": "2021-06-20T11:07:04.659637Z"
    }
   },
   "outputs": [
    {
     "data": {
      "text/plain": [
       "Counter({'Independent': 4,\n",
       "         'Democratic': 242,\n",
       "         'Republican': 301,\n",
       "         'Libertarian': 1})"
      ]
     },
     "execution_count": 16,
     "metadata": {},
     "output_type": "execute_result"
    }
   ],
   "source": [
    "Counter([v['party'] for k, v in politicians.items()])"
   ]
  },
  {
   "cell_type": "code",
   "execution_count": 17,
   "metadata": {
    "ExecuteTime": {
     "end_time": "2021-06-20T11:11:17.241779Z",
     "start_time": "2021-06-20T11:07:04.666249Z"
    }
   },
   "outputs": [
    {
     "name": "stdout",
     "output_type": "stream",
     "text": [
      "1243369\r"
     ]
    },
    {
     "data": {
      "text/html": [
       "<div>\n",
       "<style scoped>\n",
       "    .dataframe tbody tr th:only-of-type {\n",
       "        vertical-align: middle;\n",
       "    }\n",
       "\n",
       "    .dataframe tbody tr th {\n",
       "        vertical-align: top;\n",
       "    }\n",
       "\n",
       "    .dataframe thead th {\n",
       "        text-align: right;\n",
       "    }\n",
       "</style>\n",
       "<table border=\"1\" class=\"dataframe\">\n",
       "  <thead>\n",
       "    <tr style=\"text-align: right;\">\n",
       "      <th></th>\n",
       "      <th>ts</th>\n",
       "      <th>screen_name</th>\n",
       "      <th>text</th>\n",
       "    </tr>\n",
       "  </thead>\n",
       "  <tbody>\n",
       "    <tr>\n",
       "      <th>1243360</th>\n",
       "      <td>1496769064</td>\n",
       "      <td>RepPaulTonko</td>\n",
       "      <td>@urbaninstitute @BrookingsInst @TaxPolicyCente...</td>\n",
       "    </tr>\n",
       "    <tr>\n",
       "      <th>1243361</th>\n",
       "      <td>1496769154</td>\n",
       "      <td>SenJeffMerkley</td>\n",
       "      <td>@BetsyDeVosED #Questions4Betsy: How in the nam...</td>\n",
       "    </tr>\n",
       "    <tr>\n",
       "      <th>1243362</th>\n",
       "      <td>1496769197</td>\n",
       "      <td>GovChrisSununu</td>\n",
       "      <td>Welcome to the State House, Moharimet Elementa...</td>\n",
       "    </tr>\n",
       "    <tr>\n",
       "      <th>1243363</th>\n",
       "      <td>1496769215</td>\n",
       "      <td>SenMarkey</td>\n",
       "      <td>@BetsyDeVosED How can you protect American stu...</td>\n",
       "    </tr>\n",
       "    <tr>\n",
       "      <th>1243364</th>\n",
       "      <td>1496769236</td>\n",
       "      <td>RepPaulTonko</td>\n",
       "      <td>@urbaninstitute @BrookingsInst @TaxPolicyCente...</td>\n",
       "    </tr>\n",
       "    <tr>\n",
       "      <th>1243365</th>\n",
       "      <td>1496769301</td>\n",
       "      <td>PramilaJayapal</td>\n",
       "      <td>Dismantling #DoddFrank returns us to the days ...</td>\n",
       "    </tr>\n",
       "    <tr>\n",
       "      <th>1243366</th>\n",
       "      <td>1496769303</td>\n",
       "      <td>RepSarbanes</td>\n",
       "      <td>In the shadows of the #ComeyHearing, @HouseGOP...</td>\n",
       "    </tr>\n",
       "    <tr>\n",
       "      <th>1243367</th>\n",
       "      <td>1496769317</td>\n",
       "      <td>SenMarkey</td>\n",
       "      <td>@BetsyDeVosED How does a budget that cuts inve...</td>\n",
       "    </tr>\n",
       "    <tr>\n",
       "      <th>1243368</th>\n",
       "      <td>1496769357</td>\n",
       "      <td>MarioDB</td>\n",
       "      <td>Thank you @POTUS @NikkiHaley for strong stance...</td>\n",
       "    </tr>\n",
       "    <tr>\n",
       "      <th>1243369</th>\n",
       "      <td>1496769360</td>\n",
       "      <td>PramilaJayapal</td>\n",
       "      <td>#WrongCHOICEAct will eliminate consumer protec...</td>\n",
       "    </tr>\n",
       "  </tbody>\n",
       "</table>\n",
       "</div>"
      ],
      "text/plain": [
       "                 ts     screen_name  \\\n",
       "1243360  1496769064    RepPaulTonko   \n",
       "1243361  1496769154  SenJeffMerkley   \n",
       "1243362  1496769197  GovChrisSununu   \n",
       "1243363  1496769215       SenMarkey   \n",
       "1243364  1496769236    RepPaulTonko   \n",
       "1243365  1496769301  PramilaJayapal   \n",
       "1243366  1496769303     RepSarbanes   \n",
       "1243367  1496769317       SenMarkey   \n",
       "1243368  1496769357         MarioDB   \n",
       "1243369  1496769360  PramilaJayapal   \n",
       "\n",
       "                                                      text  \n",
       "1243360  @urbaninstitute @BrookingsInst @TaxPolicyCente...  \n",
       "1243361  @BetsyDeVosED #Questions4Betsy: How in the nam...  \n",
       "1243362  Welcome to the State House, Moharimet Elementa...  \n",
       "1243363  @BetsyDeVosED How can you protect American stu...  \n",
       "1243364  @urbaninstitute @BrookingsInst @TaxPolicyCente...  \n",
       "1243365  Dismantling #DoddFrank returns us to the days ...  \n",
       "1243366  In the shadows of the #ComeyHearing, @HouseGOP...  \n",
       "1243367  @BetsyDeVosED How does a budget that cuts inve...  \n",
       "1243368  Thank you @POTUS @NikkiHaley for strong stance...  \n",
       "1243369  #WrongCHOICEAct will eliminate consumer protec...  "
      ]
     },
     "execution_count": 17,
     "metadata": {},
     "output_type": "execute_result"
    }
   ],
   "source": [
    "# open tweets and format for fasttext supervised learning\n",
    "\n",
    "ts, screen_names, txt = [], [], []\n",
    "with open(data_path + 'tweets.json') as f:\n",
    "    for i, line in enumerate(f):\n",
    "        print(i, end='\\r')\n",
    "        line = line.strip()\n",
    "        if len(line) == 0:\n",
    "            continue\n",
    "        tweet = json.loads(line)\n",
    "        ts.append(tweet['created_at'])\n",
    "        screen_names.append(tweet['screen_name'])\n",
    "        txt.append(tweet['text'])\n",
    "df = pd.DataFrame([ts, screen_names, txt]).T\n",
    "df.columns = ['ts', 'screen_name', 'text']\n",
    "df.sort_values(by='ts')\n",
    "df.tail(10)"
   ]
  },
  {
   "cell_type": "code",
   "execution_count": 18,
   "metadata": {
    "ExecuteTime": {
     "end_time": "2021-06-20T11:11:24.639911Z",
     "start_time": "2021-06-20T11:11:17.244590Z"
    }
   },
   "outputs": [],
   "source": [
    "df['party'] = df.apply(lambda x: politicians[x['screen_name']]['party'], axis=1)"
   ]
  },
  {
   "cell_type": "code",
   "execution_count": 19,
   "metadata": {
    "ExecuteTime": {
     "end_time": "2021-06-20T11:11:24.868161Z",
     "start_time": "2021-06-20T11:11:24.641467Z"
    }
   },
   "outputs": [
    {
     "data": {
      "text/html": [
       "<div>\n",
       "<style scoped>\n",
       "    .dataframe tbody tr th:only-of-type {\n",
       "        vertical-align: middle;\n",
       "    }\n",
       "\n",
       "    .dataframe tbody tr th {\n",
       "        vertical-align: top;\n",
       "    }\n",
       "\n",
       "    .dataframe thead th {\n",
       "        text-align: right;\n",
       "    }\n",
       "</style>\n",
       "<table border=\"1\" class=\"dataframe\">\n",
       "  <thead>\n",
       "    <tr style=\"text-align: right;\">\n",
       "      <th></th>\n",
       "      <th>ts</th>\n",
       "      <th>screen_name</th>\n",
       "      <th>text</th>\n",
       "      <th>party</th>\n",
       "    </tr>\n",
       "  </thead>\n",
       "  <tbody>\n",
       "    <tr>\n",
       "      <th>1243360</th>\n",
       "      <td>1496769064</td>\n",
       "      <td>RepPaulTonko</td>\n",
       "      <td>@urbaninstitute @BrookingsInst @TaxPolicyCente...</td>\n",
       "      <td>Democratic</td>\n",
       "    </tr>\n",
       "    <tr>\n",
       "      <th>1243361</th>\n",
       "      <td>1496769154</td>\n",
       "      <td>SenJeffMerkley</td>\n",
       "      <td>@BetsyDeVosED #Questions4Betsy: How in the nam...</td>\n",
       "      <td>Democratic</td>\n",
       "    </tr>\n",
       "    <tr>\n",
       "      <th>1243362</th>\n",
       "      <td>1496769197</td>\n",
       "      <td>GovChrisSununu</td>\n",
       "      <td>Welcome to the State House, Moharimet Elementa...</td>\n",
       "      <td>Republican</td>\n",
       "    </tr>\n",
       "    <tr>\n",
       "      <th>1243363</th>\n",
       "      <td>1496769215</td>\n",
       "      <td>SenMarkey</td>\n",
       "      <td>@BetsyDeVosED How can you protect American stu...</td>\n",
       "      <td>Democratic</td>\n",
       "    </tr>\n",
       "    <tr>\n",
       "      <th>1243364</th>\n",
       "      <td>1496769236</td>\n",
       "      <td>RepPaulTonko</td>\n",
       "      <td>@urbaninstitute @BrookingsInst @TaxPolicyCente...</td>\n",
       "      <td>Democratic</td>\n",
       "    </tr>\n",
       "    <tr>\n",
       "      <th>1243365</th>\n",
       "      <td>1496769301</td>\n",
       "      <td>PramilaJayapal</td>\n",
       "      <td>Dismantling #DoddFrank returns us to the days ...</td>\n",
       "      <td>Democratic</td>\n",
       "    </tr>\n",
       "    <tr>\n",
       "      <th>1243366</th>\n",
       "      <td>1496769303</td>\n",
       "      <td>RepSarbanes</td>\n",
       "      <td>In the shadows of the #ComeyHearing, @HouseGOP...</td>\n",
       "      <td>Democratic</td>\n",
       "    </tr>\n",
       "    <tr>\n",
       "      <th>1243367</th>\n",
       "      <td>1496769317</td>\n",
       "      <td>SenMarkey</td>\n",
       "      <td>@BetsyDeVosED How does a budget that cuts inve...</td>\n",
       "      <td>Democratic</td>\n",
       "    </tr>\n",
       "    <tr>\n",
       "      <th>1243368</th>\n",
       "      <td>1496769357</td>\n",
       "      <td>MarioDB</td>\n",
       "      <td>Thank you @POTUS @NikkiHaley for strong stance...</td>\n",
       "      <td>Republican</td>\n",
       "    </tr>\n",
       "    <tr>\n",
       "      <th>1243369</th>\n",
       "      <td>1496769360</td>\n",
       "      <td>PramilaJayapal</td>\n",
       "      <td>#WrongCHOICEAct will eliminate consumer protec...</td>\n",
       "      <td>Democratic</td>\n",
       "    </tr>\n",
       "  </tbody>\n",
       "</table>\n",
       "</div>"
      ],
      "text/plain": [
       "                 ts     screen_name  \\\n",
       "1243360  1496769064    RepPaulTonko   \n",
       "1243361  1496769154  SenJeffMerkley   \n",
       "1243362  1496769197  GovChrisSununu   \n",
       "1243363  1496769215       SenMarkey   \n",
       "1243364  1496769236    RepPaulTonko   \n",
       "1243365  1496769301  PramilaJayapal   \n",
       "1243366  1496769303     RepSarbanes   \n",
       "1243367  1496769317       SenMarkey   \n",
       "1243368  1496769357         MarioDB   \n",
       "1243369  1496769360  PramilaJayapal   \n",
       "\n",
       "                                                      text       party  \n",
       "1243360  @urbaninstitute @BrookingsInst @TaxPolicyCente...  Democratic  \n",
       "1243361  @BetsyDeVosED #Questions4Betsy: How in the nam...  Democratic  \n",
       "1243362  Welcome to the State House, Moharimet Elementa...  Republican  \n",
       "1243363  @BetsyDeVosED How can you protect American stu...  Democratic  \n",
       "1243364  @urbaninstitute @BrookingsInst @TaxPolicyCente...  Democratic  \n",
       "1243365  Dismantling #DoddFrank returns us to the days ...  Democratic  \n",
       "1243366  In the shadows of the #ComeyHearing, @HouseGOP...  Democratic  \n",
       "1243367  @BetsyDeVosED How does a budget that cuts inve...  Democratic  \n",
       "1243368  Thank you @POTUS @NikkiHaley for strong stance...  Republican  \n",
       "1243369  #WrongCHOICEAct will eliminate consumer protec...  Democratic  "
      ]
     },
     "execution_count": 19,
     "metadata": {},
     "output_type": "execute_result"
    }
   ],
   "source": [
    "df_dems_reps = df.loc[df['party'].isin(['Democratic', 'Republican'])]\n",
    "df_dems_reps.tail(10)"
   ]
  },
  {
   "cell_type": "code",
   "execution_count": 20,
   "metadata": {
    "ExecuteTime": {
     "end_time": "2021-06-20T11:11:28.488081Z",
     "start_time": "2021-06-20T11:11:24.870470Z"
    }
   },
   "outputs": [
    {
     "name": "stdout",
     "output_type": "stream",
     "text": [
      "1000000 232248\n",
      "881460 195804\n"
     ]
    }
   ],
   "source": [
    "# split data into train and test\n",
    "# train is chronologically before test\n",
    "\n",
    "train_size = 1000*1000\n",
    "df_train = df_dems_reps.head(train_size)\n",
    "df_test = df_dems_reps.tail(-train_size)\n",
    "print(len(df_train), len(df_test))\n",
    "\n",
    "# balance both train and test between D and R tweets\n",
    "rus = RandomUnderSampler(sampling_strategy='not minority')\n",
    "df_train, _ = rus.fit_resample(df_train, df_train['party'])\n",
    "df_test, _ = rus.fit_resample(df_test, df_test['party'])\n",
    "print(len(df_train), len(df_test))"
   ]
  },
  {
   "cell_type": "code",
   "execution_count": 21,
   "metadata": {
    "ExecuteTime": {
     "end_time": "2021-06-20T11:11:28.905279Z",
     "start_time": "2021-06-20T11:11:28.490631Z"
    }
   },
   "outputs": [
    {
     "name": "stdout",
     "output_type": "stream",
     "text": [
      "             ts\n",
      "min  1217870931\n",
      "max  1482173307\n",
      "             ts\n",
      "min  1482173324\n",
      "max  1496769360\n"
     ]
    }
   ],
   "source": [
    "# verify that train and test are after each other\n",
    "print(df_train[['ts']].agg(['min', 'max']))\n",
    "print(df_test[['ts']].agg(['min', 'max']))"
   ]
  },
  {
   "cell_type": "code",
   "execution_count": 31,
   "metadata": {
    "ExecuteTime": {
     "end_time": "2021-06-20T11:33:35.974639Z",
     "start_time": "2021-06-20T11:33:35.967595Z"
    }
   },
   "outputs": [],
   "source": [
    "def remove_atmentions(s):\n",
    "    words = s.split()\n",
    "    words = [word for word in words if not word.startswith('@')]\n",
    "    return ' '.join(words)\n",
    "\n",
    "def remove_urls(s):\n",
    "    words = s.split()\n",
    "    words = [word for word in words if not word.lower().startswith('http')]\n",
    "    return ' '.join(words)\n",
    "\n",
    "def write_df(df, filename, label, text_fun=lambda s: s):\n",
    "    with open(filename, \"w\") as f:\n",
    "        f.writelines([text_fun(x['text']) + ' ' + '__label__' + x[label] + '\\n' for _, x in df.iterrows()])"
   ]
  },
  {
   "cell_type": "code",
   "execution_count": 25,
   "metadata": {
    "ExecuteTime": {
     "end_time": "2021-06-20T11:18:17.420419Z",
     "start_time": "2021-06-20T11:15:42.371132Z"
    }
   },
   "outputs": [],
   "source": [
    "write_df(df_train, data_path + 'train_party_full.fts', 'party')\n",
    "write_df(df_test, data_path + 'test_party_full.fts', 'party')\n",
    "write_df(df_train, data_path + 'train_party_trunc.fts', 'party', lambda s: remove_urls(remove_atmentions(s)))\n",
    "write_df(df_test, data_path + 'test_party_trunc.fts', 'party', lambda s: remove_urls(remove_atmentions(s)))"
   ]
  },
  {
   "cell_type": "code",
   "execution_count": 26,
   "metadata": {
    "ExecuteTime": {
     "end_time": "2021-06-20T11:26:53.452473Z",
     "start_time": "2021-06-20T11:26:38.448711Z"
    }
   },
   "outputs": [],
   "source": [
    "model_party_full    = fasttext.train_supervised(data_path + 'train_party_full.fts')\n",
    "model_party_trunc = fasttext.train_supervised(data_path + 'train_party_trunc.fts')\n",
    "# \n",
    "# or\n",
    "#\n",
    "# model = fasttext.train_supervised(..., wordNgrams=3)\n",
    "#\n",
    "# to have fasttext also use 2-grams and 3-grams, but it doesn't help"
   ]
  },
  {
   "cell_type": "code",
   "execution_count": 27,
   "metadata": {
    "ExecuteTime": {
     "end_time": "2021-06-20T11:27:25.314752Z",
     "start_time": "2021-06-20T11:27:09.211232Z"
    }
   },
   "outputs": [
    {
     "name": "stdout",
     "output_type": "stream",
     "text": [
      "Accuracy on full tweets predicting binary party:\n",
      "Train accuracy: 0.9295759308420121\n",
      "Test accuracy:  0.7467671753386039\n",
      "\n",
      "Accuracy on truncated tweets predicting binary party:\n",
      "Train accuracy: 0.85225194563565\n",
      "Test accuracy:  0.7188412902698617\n"
     ]
    }
   ],
   "source": [
    "print('Accuracy on full tweets predicting binary party:')\n",
    "accuracy = model_party_full.test(data_path + 'train_party_full.fts')[1]\n",
    "print('Train accuracy:', accuracy)\n",
    "accuracy = model_party_full.test(data_path + 'test_party_full.fts')[1]\n",
    "print('Test accuracy: ', accuracy)\n",
    "print()\n",
    "print('Accuracy on truncated tweets predicting binary party:')\n",
    "accuracy = model_party_trunc.test(data_path + 'train_party_trunc.fts')[1]\n",
    "print('Train accuracy:', accuracy)\n",
    "accuracy = model_party_trunc.test(data_path + 'test_party_trunc.fts')[1]\n",
    "print('Test accuracy: ', accuracy)"
   ]
  },
  {
   "cell_type": "code",
   "execution_count": 28,
   "metadata": {
    "ExecuteTime": {
     "end_time": "2021-06-20T11:32:04.409362Z",
     "start_time": "2021-06-20T11:32:04.387198Z"
    }
   },
   "outputs": [
    {
     "data": {
      "text/plain": [
       "(('__label__Republican',), array([0.79000771]))"
      ]
     },
     "execution_count": 28,
     "metadata": {},
     "output_type": "execute_result"
    }
   ],
   "source": [
    "# sample tweet from Trump\n",
    "txt = \"\"\"\n",
    "Mike Pence didn’t have the courage to do what should have been done\n",
    "to protect our Country and our Constitution, giving States a chance to\n",
    "certify a corrected set of facts, not the fraudulent or inaccurate ones\n",
    "which they were asked to previously certify. USA demands the truth!\n",
    "\"\"\".replace('\\n', ' ')\n",
    "model_party_trunc.predict(txt)"
   ]
  },
  {
   "cell_type": "code",
   "execution_count": 29,
   "metadata": {
    "ExecuteTime": {
     "end_time": "2021-06-20T11:32:04.485794Z",
     "start_time": "2021-06-20T11:32:04.412634Z"
    }
   },
   "outputs": [
    {
     "name": "stdout",
     "output_type": "stream",
     "text": [
      "1000000 243370\n"
     ]
    }
   ],
   "source": [
    "# now let's try to predict the user from the tweet\n",
    "# no need to limit to just D and R, no need to re-sample\n",
    "\n",
    "df_train = df.head(train_size)\n",
    "df_test = df.tail(-train_size) \n",
    "print(len(df_train), len(df_test))"
   ]
  },
  {
   "cell_type": "code",
   "execution_count": 32,
   "metadata": {
    "ExecuteTime": {
     "end_time": "2021-06-20T11:37:22.061609Z",
     "start_time": "2021-06-20T11:33:42.317063Z"
    }
   },
   "outputs": [],
   "source": [
    "write_df(df_train, data_path + 'train_author_full.fts', 'screen_name')\n",
    "write_df(df_test, data_path + 'test_author_full.fts', 'screen_name')\n",
    "write_df(df_train, data_path + 'train_author_trunc.fts', 'screen_name', lambda s: remove_urls(remove_atmentions(s)))\n",
    "write_df(df_test, data_path + 'test_author_trunc.fts', 'screen_name', lambda s: remove_urls(remove_atmentions(s)))"
   ]
  },
  {
   "cell_type": "code",
   "execution_count": 33,
   "metadata": {
    "ExecuteTime": {
     "end_time": "2021-06-20T11:39:39.359299Z",
     "start_time": "2021-06-20T11:37:22.064343Z"
    }
   },
   "outputs": [],
   "source": [
    "model_author_full    = fasttext.train_supervised(data_path + 'train_author_full.fts')\n",
    "model_author_trunc   = fasttext.train_supervised(data_path + 'train_author_trunc.fts')"
   ]
  },
  {
   "cell_type": "code",
   "execution_count": 34,
   "metadata": {
    "ExecuteTime": {
     "end_time": "2021-06-20T11:42:08.304902Z",
     "start_time": "2021-06-20T11:39:39.361708Z"
    }
   },
   "outputs": [
    {
     "name": "stdout",
     "output_type": "stream",
     "text": [
      "Accuracy on full tweets predicting author:\n",
      "Train accuracy: 0.512116\n",
      "Test accuracy:  0.22982925637542978\n",
      "\n",
      "Accuracy on truncated tweets predicting author:\n",
      "Train accuracy: 0.411818\n",
      "Test accuracy:  0.18464876301645575\n"
     ]
    }
   ],
   "source": [
    "print('Accuracy on full tweets predicting author:')\n",
    "accuracy = model_author_full.test(data_path + 'train_author_full.fts')[1]\n",
    "print('Train accuracy:', accuracy)\n",
    "accuracy = model_author_full.test(data_path + 'test_author_full.fts')[1]\n",
    "print('Test accuracy: ', accuracy)\n",
    "print()\n",
    "print('Accuracy on truncated tweets predicting author:')\n",
    "accuracy = model_author_trunc.test(data_path + 'train_author_trunc.fts')[1]\n",
    "print('Train accuracy:', accuracy)\n",
    "accuracy = model_author_trunc.test(data_path + 'test_author_trunc.fts')[1]\n",
    "print('Test accuracy: ', accuracy)"
   ]
  },
  {
   "cell_type": "code",
   "execution_count": null,
   "metadata": {},
   "outputs": [],
   "source": []
  }
 ],
 "metadata": {
  "kernelspec": {
   "display_name": "Python 3",
   "language": "python",
   "name": "python3"
  },
  "language_info": {
   "codemirror_mode": {
    "name": "ipython",
    "version": 3
   },
   "file_extension": ".py",
   "mimetype": "text/x-python",
   "name": "python",
   "nbconvert_exporter": "python",
   "pygments_lexer": "ipython3",
   "version": "3.7.6"
  },
  "varInspector": {
   "cols": {
    "lenName": 16,
    "lenType": 16,
    "lenVar": 40
   },
   "kernels_config": {
    "python": {
     "delete_cmd_postfix": "",
     "delete_cmd_prefix": "del ",
     "library": "var_list.py",
     "varRefreshCmd": "print(var_dic_list())"
    },
    "r": {
     "delete_cmd_postfix": ") ",
     "delete_cmd_prefix": "rm(",
     "library": "var_list.r",
     "varRefreshCmd": "cat(var_dic_list()) "
    }
   },
   "types_to_exclude": [
    "module",
    "function",
    "builtin_function_or_method",
    "instance",
    "_Feature"
   ],
   "window_display": false
  }
 },
 "nbformat": 4,
 "nbformat_minor": 4
}
