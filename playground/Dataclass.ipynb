{
 "cells": [
  {
   "cell_type": "code",
   "execution_count": 1,
   "id": "554ff3f9",
   "metadata": {
    "ExecuteTime": {
     "end_time": "2022-05-12T09:38:47.130183Z",
     "start_time": "2022-05-12T09:38:47.120180Z"
    }
   },
   "outputs": [
    {
     "data": {
      "text/plain": [
       "'3.9.7 (default, Sep 16 2021, 16:59:28) [MSC v.1916 64 bit (AMD64)]'"
      ]
     },
     "execution_count": 1,
     "metadata": {},
     "output_type": "execute_result"
    }
   ],
   "source": [
    "import sys\n",
    "from typing import *\n",
    "from dataclasses import *\n",
    "sys.version"
   ]
  },
  {
   "cell_type": "code",
   "execution_count": 2,
   "id": "42f7fc66",
   "metadata": {
    "ExecuteTime": {
     "end_time": "2022-05-12T09:38:47.137183Z",
     "start_time": "2022-05-12T09:38:47.131182Z"
    }
   },
   "outputs": [
    {
     "name": "stdout",
     "output_type": "stream",
     "text": [
      "<__main__.Fraction object at 0x00000263114EC9A0>\n",
      "False\n"
     ]
    }
   ],
   "source": [
    "# without @dataclass\n",
    "\n",
    "class Fraction:\n",
    "    numerator: int = 0\n",
    "    denominator: int = 1\n",
    "\n",
    "# f = Fraction(1, 2)                       # TypeError: Fraction() takes no arguments\n",
    "# f = Fraction(numerator=1, denominator=2) # TypeError: Fraction() takes no arguments\n",
    "f = Fraction()\n",
    "f.numerator = 1\n",
    "f.denominator = 2\n",
    "print(f)\n",
    "g = Fraction()\n",
    "g.numerator = 1\n",
    "g.denominator = 2\n",
    "print(f == g) # False"
   ]
  },
  {
   "cell_type": "code",
   "execution_count": 3,
   "id": "405aedd3",
   "metadata": {
    "ExecuteTime": {
     "end_time": "2022-05-12T09:38:47.145185Z",
     "start_time": "2022-05-12T09:38:47.138183Z"
    }
   },
   "outputs": [
    {
     "name": "stdout",
     "output_type": "stream",
     "text": [
      "Fraction(numerator=1, denominator=2)\n",
      "True\n"
     ]
    }
   ],
   "source": [
    "@dataclass\n",
    "class Fraction:\n",
    "    numerator: int = 0\n",
    "    denominator: int = 1\n",
    "\n",
    "f = Fraction(1, 2)                       # okay\n",
    "f = Fraction(numerator=1, denominator=2) # okay\n",
    "print(f)\n",
    "g = Fraction()\n",
    "g.numerator = 1\n",
    "g.denominator = 2\n",
    "print(f == g)   # True\n",
    "# print(f < g)  # TypeError: '<' not supported between instances of 'Fraction' and 'Fraction'\n",
    "                # for this to \"work\", we have to pass `order = True` to @dataclass"
   ]
  },
  {
   "cell_type": "code",
   "execution_count": 4,
   "id": "3b1adcbc",
   "metadata": {
    "ExecuteTime": {
     "end_time": "2022-05-12T09:38:47.150186Z",
     "start_time": "2022-05-12T09:38:47.146185Z"
    }
   },
   "outputs": [
    {
     "name": "stdout",
     "output_type": "stream",
     "text": [
      "True\n"
     ]
    }
   ],
   "source": [
    "@dataclass(order=True)\n",
    "class Fraction:\n",
    "    numerator: int = 0\n",
    "    denominator: int = 1\n",
    "\n",
    "f = Fraction(1, 1)\n",
    "g = Fraction(3, 6)\n",
    "print(f < g) # True, because f.numerator < g.numerator\n",
    "             # the default operators just compare attribute-by-attribute\n",
    "             # in the order the attributes were declared in the class"
   ]
  },
  {
   "cell_type": "code",
   "execution_count": 5,
   "id": "83b57403",
   "metadata": {
    "ExecuteTime": {
     "end_time": "2022-05-12T09:38:47.154187Z",
     "start_time": "2022-05-12T09:38:47.151187Z"
    }
   },
   "outputs": [],
   "source": [
    "@dataclass(frozen=True)\n",
    "class Fraction:\n",
    "    numerator: int = 0\n",
    "    denominator: int = 1\n",
    "\n",
    "f = Fraction(1, 2)\n",
    "# f.numerator = 2 # FrozenInstanceError: cannot assign to field 'numerator'"
   ]
  },
  {
   "cell_type": "code",
   "execution_count": 6,
   "id": "f9433b66",
   "metadata": {
    "ExecuteTime": {
     "end_time": "2022-05-12T09:38:47.158188Z",
     "start_time": "2022-05-12T09:38:47.155187Z"
    }
   },
   "outputs": [
    {
     "name": "stdout",
     "output_type": "stream",
     "text": [
      "1\n",
      "{'numerator': 1, 'denominator': 2}\n",
      "(1, 2)\n"
     ]
    }
   ],
   "source": [
    "@dataclass\n",
    "class Fraction:\n",
    "    numerator: int = 0\n",
    "    denominator: int = 1\n",
    "\n",
    "f = Fraction(1, 2)\n",
    "print(f.numerator)\n",
    "# print(f['numerator'])       # TypeError: 'Fraction' object is not subscriptable\n",
    "print(asdict(f))              # {'numerator': 1, 'denominator': 2}\n",
    "print(astuple(f))             # (1, 2)"
   ]
  },
  {
   "cell_type": "code",
   "execution_count": 7,
   "id": "5f96b13d",
   "metadata": {
    "ExecuteTime": {
     "end_time": "2022-05-12T09:38:47.164189Z",
     "start_time": "2022-05-12T09:38:47.158188Z"
    }
   },
   "outputs": [
    {
     "name": "stdout",
     "output_type": "stream",
     "text": [
      "{'__module__': '__main__', '__annotations__': {'numerator': <class 'int'>, 'denominator': <class 'int'>}, 'numerator': 0, 'denominator': 1, 'mul': <function Fraction.mul at 0x000002631152AD30>, '__dict__': <attribute '__dict__' of 'Fraction' objects>, '__weakref__': <attribute '__weakref__' of 'Fraction' objects>, '__doc__': None}\n",
      "\n",
      "['__annotations__', '__class__', '__delattr__', '__dict__', '__dir__', '__doc__', '__eq__', '__format__', '__ge__', '__getattribute__', '__gt__', '__hash__', '__init__', '__init_subclass__', '__le__', '__lt__', '__module__', '__ne__', '__new__', '__reduce__', '__reduce_ex__', '__repr__', '__setattr__', '__sizeof__', '__str__', '__subclasshook__', '__weakref__', 'denominator', 'mul', 'numerator']\n",
      "\n",
      "{'numerator': <class 'int'>, 'denominator': <class 'int'>}\n"
     ]
    }
   ],
   "source": [
    "class Fraction:\n",
    "    numerator: int = 0\n",
    "    denominator: int = 1\n",
    "    def mul(self, x: int):\n",
    "        self.numerator *= x\n",
    "\n",
    "print(Fraction.__dict__)\n",
    "print()\n",
    "print(dir(Fraction))\n",
    "print()\n",
    "print(Fraction.__annotations__)"
   ]
  },
  {
   "cell_type": "code",
   "execution_count": 8,
   "id": "e8b8e67c",
   "metadata": {
    "ExecuteTime": {
     "end_time": "2022-05-12T09:38:47.177192Z",
     "start_time": "2022-05-12T09:38:47.165190Z"
    }
   },
   "outputs": [
    {
     "name": "stdout",
     "output_type": "stream",
     "text": [
      "{'numerator': 1, 'denominator': 2}\n",
      "(1, 2)\n",
      "Fraction(numerator=1, denominator=2)\n",
      "True\n"
     ]
    }
   ],
   "source": [
    "def asdict(x):\n",
    "    return {a:getattr(x, a) for a in x.__class__._attribs}\n",
    "\n",
    "def astuple(x):\n",
    "    return tuple(getattr(x, a) for a in x.__class__._attribs)\n",
    "\n",
    "def dataclass(cls=None, **kwargs):\n",
    "    def decorator(cls):\n",
    "        cls._attribs = cls.__annotations__.keys()\n",
    "        # define initializer, unless defined by the user\n",
    "        if '__init__' not in cls.__dict__:\n",
    "            def __init__(self, *args, **kwargs):\n",
    "                if len(args) > 0:\n",
    "                    for attrib, arg in zip(self.__class__._attribs, args):\n",
    "                        # avoid our own __setattr__ in case it's a frozen dataclass:\n",
    "                        object.__setattr__(self, attrib, arg)                       \n",
    "                elif len(kwargs) > 0:\n",
    "                    for attrib in self.__class__._attribs:\n",
    "                        # avoid our own __setattr__ in case it's a frozen dataclass:\n",
    "                        object.__setattr__(self, attrib, kwargs[attrib])\n",
    "            cls.__init__ = __init__\n",
    "        # define string conversion, unless defined by th user\n",
    "        if '__str__' not in cls.__dict__:\n",
    "            def __str__(self):\n",
    "                kv_tuples = [(attrib, getattr(self, attrib)) for attrib in self.__class__._attribs]\n",
    "                kv_str = ', '.join([f'{k}={v}' for (k, v) in kv_tuples])\n",
    "                return f'{self.__class__.__name__}({kv_str})'\n",
    "            cls.__str__ = __str__\n",
    "        if kwargs.get('eq', True):\n",
    "            # define ==, unless defined by the user\n",
    "            if '__eq__' not in cls.__dict__:\n",
    "                def __eq__(self, other):\n",
    "                    for attrib in self.__class__._attribs:\n",
    "                        if getattr(self, attrib) != getattr(other, attrib):\n",
    "                            return False\n",
    "                    return True            \n",
    "                cls.__eq__ = __eq__\n",
    "        if kwargs.get('order', False):\n",
    "            # define <, <=, >, >=, unless defined by the user\n",
    "            if '__lt__' not in cls.__dict__:\n",
    "                def __lt__(self, other):\n",
    "                    for attrib in self.__class__._attribs:\n",
    "                        if getattr(self, attrib) >= getattr(other, attrib):\n",
    "                            return False\n",
    "                    return True            \n",
    "                cls.__lt__ = __lt__\n",
    "            if '__le__' not in cls.__dict__:\n",
    "                def __le__(self, other):\n",
    "                    for attrib in self.__class__._attribs:\n",
    "                        if getattr(self, attrib) > getattr(other, attrib):\n",
    "                            return False\n",
    "                    return True            \n",
    "                cls.__le__ = __le__\n",
    "            if '__gt__' not in cls.__dict__:\n",
    "                def __gt__(self, other):\n",
    "                    for attrib in self.__class__._attribs:\n",
    "                        if getattr(self, attrib) <= getattr(other, attrib):\n",
    "                            return False\n",
    "                    return True\n",
    "                cls.__gt__ = __gt__\n",
    "            if '__ge__' not in cls.__dict__:\n",
    "                def __ge__(self, other):\n",
    "                    for attrib in self.__class__._attribs:\n",
    "                        if getattr(self, attrib) < getattr(other, attrib):\n",
    "                            return False\n",
    "                    return True\n",
    "                cls.__ge__ = __ge__\n",
    "        if kwargs.get('frozen', False):\n",
    "            # don't allow changing attributes\n",
    "            def __setattr__(self, attrib, value):\n",
    "                if attrib not in self.__class__._attribs:\n",
    "                    setattr(self, attrib, value)\n",
    "                else:\n",
    "                    raise AttributeError(f'dataclass is frozen, cannot assign to field \\'{attrib}\\'')\n",
    "            cls.__setattr__ = __setattr__\n",
    "        return cls\n",
    "    if cls is None:\n",
    "        # decorator was used like @dataclass(...)\n",
    "        return decorator\n",
    "    else:\n",
    "        # decorator was used like @dataclass, without parens\n",
    "        return decorator(cls)\n",
    "\n",
    "@dataclass(frozen=True)\n",
    "class Fraction:\n",
    "    numerator: int = 0\n",
    "    denominator: int = 1\n",
    "    def mul(self, x: int):\n",
    "        self.numerator *= x\n",
    "\n",
    "f = Fraction(numerator=1, denominator=2)\n",
    "print(asdict(f))\n",
    "print(astuple(f))\n",
    "print(f)\n",
    "# f.numerator = 1\n",
    "g = Fraction(numerator=1, denominator=2)\n",
    "print(f==g)\n",
    "# f.numerator = 3\n",
    "#Fraction(numerator=1, denominator=2)<Fraction(numerator=2, denominator=3)"
   ]
  }
 ],
 "metadata": {
  "kernelspec": {
   "display_name": "Python 3 (ipykernel)",
   "language": "python",
   "name": "python3"
  },
  "language_info": {
   "codemirror_mode": {
    "name": "ipython",
    "version": 3
   },
   "file_extension": ".py",
   "mimetype": "text/x-python",
   "name": "python",
   "nbconvert_exporter": "python",
   "pygments_lexer": "ipython3",
   "version": "3.9.7"
  }
 },
 "nbformat": 4,
 "nbformat_minor": 5
}
