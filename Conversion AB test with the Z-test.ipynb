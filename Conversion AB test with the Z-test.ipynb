{
 "cells": [
  {
   "cell_type": "code",
   "execution_count": 152,
   "metadata": {},
   "outputs": [
    {
     "name": "stdout",
     "output_type": "stream",
     "text": [
      "{'A': {'N': 43464, 'conversions': 4620}, 'B': {'N': 10812, 'conversions': 1222}}\n",
      "Measured conversion for A: 0.106\n",
      "Measured conversion for B: 0.113\n",
      "p-value: 0.023\n",
      "Action: B is better, deploy\n"
     ]
    }
   ],
   "source": [
    "import math\n",
    "import hashlib\n",
    "from random import random\n",
    "from scipy.stats import norm\n",
    "\n",
    "def alpha_to_z(alpha, one_sided):\n",
    "    if one_sided:\n",
    "        pos = 1 - alpha\n",
    "    else:\n",
    "        pos = 1 - alpha/2.0\n",
    "    return norm.ppf(pos)\n",
    "\n",
    "def power_to_z(power):\n",
    "    pos = power\n",
    "    return norm.ppf(pos)\n",
    "\n",
    "def z_to_p(z, one_sided):\n",
    "    p = 1 - norm.cdf(z)\n",
    "    if one_sided:\n",
    "        return p\n",
    "    else:\n",
    "        return 2*p\n",
    "\n",
    "def num_samples(alpha, mu_A, mu_delta, traffic_ratio_A, power=0.50, one_sided=True):\n",
    "    z_alpha = alpha_to_z(alpha, one_sided)\n",
    "    z_power  = power_to_z(power)\n",
    "    mu_B = mu_A + mu_delta\n",
    "    traffic_ratio_B = 1 - traffic_ratio_A\n",
    "    N = ( mu_A*(1-mu_A)/traffic_ratio_A + mu_B*(1-mu_B)/traffic_ratio_B ) * ((z_alpha+z_power)**2) / (mu_A - mu_B)**2  \n",
    "    return math.ceil(N)\n",
    "\n",
    "def funnel_user(base_traffic_split, test_seed, user_id):\n",
    "    test_id = hashlib.md5(test_seed.encode('ascii') + str(user_id).encode('ascii')).hexdigest()\n",
    "    bits = bin(int(test_id, 16))[3:]\n",
    "    r = sum([int(bit)*(0.5**(i+1)) for i, bit in enumerate(bits)])\n",
    "    if r < base_traffic_split:\n",
    "        return 'A'\n",
    "    else:\n",
    "        return 'B'\n",
    "\n",
    "def run_test(N, hidden_conversion_params, funnel_user_func):\n",
    "    test_outcomes = {'A': {'N': 0, 'conversions': 0}, 'B': {'N': 0, 'conversions': 0}}\n",
    "    for user_id in range(N):\n",
    "        which_funnel = funnel_user_func(user_id) # returns 'A' or 'B'\n",
    "        test_outcomes[which_funnel]['N'] += 1\n",
    "        if random() < hidden_conversion_params[which_funnel]:\n",
    "            test_outcomes[which_funnel]['conversions'] += 1\n",
    "    return test_outcomes\n",
    "\n",
    "def p_value(N_A, mu_A, N_B, mu_B, one_sided=True):\n",
    "    sigma_A_squared = mu_A * (1 - mu_A) / N_A\n",
    "    sigma_B_squared = mu_B * (1 - mu_B) / N_B\n",
    "    sigma_squared = sigma_A_squared + sigma_B_squared\n",
    "    z = (mu_B - mu_A) / math.sqrt(sigma_squared)\n",
    "    p = z_to_p(z, one_sided)\n",
    "    return p\n",
    "\n",
    "alpha = 0.10\n",
    "power = 0.80\n",
    "base_conversion = 0.10\n",
    "valuable_diff = 0.01\n",
    "base_traffic_split = 0.8\n",
    "\n",
    "N_required = num_samples(\n",
    "    alpha=alpha,\n",
    "    mu_A=base_conversion,\n",
    "    mu_delta=valuable_diff,\n",
    "    traffic_ratio_A=base_traffic_split,\n",
    "    power=power,\n",
    ")\n",
    "N_actual = 2 * N_required # because eg. we run it for a whole week\n",
    "\n",
    "# hidden_conversion_params is how our funnels actually perform:\n",
    "# the difference between the two is what we're trying to establish\n",
    "# with statistical confidence, using an A/B test\n",
    "hidden_conversion_params = {'A': 0.105, 'B': 0.115 }\n",
    "test_seed = 'OkMdZa18pfr8m5sy2IL52pW9ol2EpLekgakJAIZFBbgZ'\n",
    "test_outcomes = run_test(\n",
    "    N_actual,\n",
    "    hidden_conversion_params,\n",
    "    lambda user_id: funnel_user(base_traffic_split, test_seed, user_id),\n",
    ")\n",
    "\n",
    "print(test_outcomes)\n",
    "\n",
    "mu_A = test_outcomes['A']['conversions'] / test_outcomes['A']['N']\n",
    "mu_B = test_outcomes['B']['conversions'] / test_outcomes['B']['N']\n",
    "\n",
    "print('Measured conversion for A: %.3f' % mu_A)\n",
    "print('Measured conversion for B: %.3f' % mu_B)\n",
    "p = p_value(test_outcomes['A']['N'], mu_A, test_outcomes['B']['N'], mu_B)\n",
    "print('p-value: %.3f' % p)\n",
    "if p <= alpha:\n",
    "    print(\"\"\"Action: B is better, deploy\"\"\")\n",
    "else:\n",
    "    print(\"\"\"Action: We're not sure if B is better than A\"\"\")"
   ]
  },
  {
   "cell_type": "code",
   "execution_count": 153,
   "metadata": {},
   "outputs": [
    {
     "name": "stdout",
     "output_type": "stream",
     "text": [
      "False Positive Rate = 0.10 (expected = 0.10)\n"
     ]
    }
   ],
   "source": [
    "# perform calibration test for type I error\n",
    "# let's run the same A/B test, but set the hidden\n",
    "# params so that A and B actually convert at the same rate\n",
    "# we should still get a hit (ie. p < alpha)\n",
    "# in alpha ratio of cases, but this is an error\n",
    "# a so-called Type I error, ie. false positive rate\n",
    "\n",
    "num_tests = 1000\n",
    "alpha = 0.10\n",
    "base_conversion = 0.10\n",
    "valuable_diff = 0.01\n",
    "base_traffic_split = 0.8\n",
    "hidden_conversion_params = {'A': 0.10, 'B': 0.10 }\n",
    "N = num_samples(\n",
    "    alpha=alpha,\n",
    "    mu_A=base_conversion,\n",
    "    mu_delta=valuable_diff,\n",
    "    traffic_ratio_A=base_traffic_split,\n",
    ")\n",
    "\n",
    "# get rid of this of the hashing, it's slow, we don't need it for a simulation\n",
    "def funnel_user(base_traffic_split):\n",
    "    if random() < base_traffic_split:\n",
    "        return 'A'\n",
    "    else:\n",
    "        return 'B'\n",
    "\n",
    "def run_tests(num_tests, N, alpha, hidden_conversion_params, funnel_user_func):\n",
    "    num_successes = 0\n",
    "    for i in range(num_tests):\n",
    "        test_outcomes = run_test(\n",
    "            N,\n",
    "            hidden_conversion_params,\n",
    "            funnel_user_func,\n",
    "        )\n",
    "        mu_A = test_outcomes['A']['conversions'] / test_outcomes['A']['N']\n",
    "        mu_B = test_outcomes['B']['conversions'] / test_outcomes['B']['N']\n",
    "        p = p_value(test_outcomes['A']['N'], mu_A, test_outcomes['B']['N'], mu_B)\n",
    "        if p <= alpha:\n",
    "            num_successes += 1\n",
    "    return num_successes\n",
    "\n",
    "num_successes = run_tests(\n",
    "    num_tests,\n",
    "    N,\n",
    "    alpha,\n",
    "    hidden_conversion_params,\n",
    "    lambda _: funnel_user(base_traffic_split),\n",
    ")\n",
    "\n",
    "fpr = num_successes/num_tests\n",
    "print(\"False Positive Rate = %.2f (expected = %.2f)\" % (fpr, alpha))"
   ]
  },
  {
   "cell_type": "code",
   "execution_count": 154,
   "metadata": {},
   "outputs": [
    {
     "name": "stdout",
     "output_type": "stream",
     "text": [
      "True Positive Rate: 0.79 (expected = 0.80)\n"
     ]
    }
   ],
   "source": [
    "# measure the power: when actually B is better than A\n",
    "# what percent of cases does the test find it?\n",
    "\n",
    "num_tests = 1000\n",
    "alpha = 0.10\n",
    "power = 0.80\n",
    "base_conversion = 0.10\n",
    "valuable_diff = 0.01\n",
    "base_traffic_split = 0.8\n",
    "hidden_conversion_params = {'A': 0.10, 'B': 0.11 }\n",
    "N = num_samples(\n",
    "    alpha=alpha,\n",
    "    power=power,\n",
    "    mu_A=base_conversion,\n",
    "    mu_delta=valuable_diff,\n",
    "    traffic_ratio_A=base_traffic_split,\n",
    ")\n",
    "\n",
    "num_successes = run_tests(\n",
    "    num_tests,\n",
    "    N,\n",
    "    alpha,\n",
    "    hidden_conversion_params,\n",
    "    lambda _: funnel_user(base_traffic_split),\n",
    ")\n",
    "\n",
    "tpr = num_successes/num_tests\n",
    "print(\"True Positive Rate: %.2f (expected = %.2f)\" % (tpr, power))"
   ]
  },
  {
   "cell_type": "code",
   "execution_count": 155,
   "metadata": {},
   "outputs": [
    {
     "data": {
      "image/png": "[encoded data removed]",
      "text/plain": [
       "<Figure size 432x288 with 1 Axes>"
      ]
     },
     "metadata": {
      "needs_background": "light"
     },
     "output_type": "display_data"
    }
   ],
   "source": [
    "from numpy import linspace\n",
    "import matplotlib.pyplot as plt\n",
    "\n",
    "alpha = 0.10\n",
    "power = 0.80\n",
    "valuable_diff = 0.01\n",
    "base_traffic_split = 0.8\n",
    "data = []\n",
    "for base_conversion in linspace(0.1, 0.9, 100):\n",
    "    N = num_samples(\n",
    "        alpha=alpha,\n",
    "        power=power,\n",
    "        mu_A=base_conversion,\n",
    "        mu_delta=valuable_diff,\n",
    "        traffic_ratio_A=base_traffic_split,\n",
    "    )\n",
    "    data.append((base_conversion, N))\n",
    "\n",
    "plt.xlabel('base conversion')\n",
    "plt.ylabel('N')\n",
    "plt.plot([x[0] for x in data], [x[1] for x in data])\n",
    "plt.show()"
   ]
  },
  {
   "cell_type": "code",
   "execution_count": 156,
   "metadata": {},
   "outputs": [
    {
     "data": {
      "image/png": "[encoded data removed]",
      "text/plain": [
       "<Figure size 432x288 with 1 Axes>"
      ]
     },
     "metadata": {
      "needs_background": "light"
     },
     "output_type": "display_data"
    }
   ],
   "source": [
    "alpha = 0.10\n",
    "power = 0.80\n",
    "base_conversion = 0.10\n",
    "base_traffic_split = 0.8\n",
    "data = []\n",
    "for valuable_diff in linspace(0.01, 0.10, 100):\n",
    "    N = num_samples(\n",
    "        alpha=alpha,\n",
    "        power=power,\n",
    "        mu_A=base_conversion,\n",
    "        mu_delta=valuable_diff,\n",
    "        traffic_ratio_A=base_traffic_split,\n",
    "    )\n",
    "    data.append((valuable_diff, N))\n",
    "\n",
    "plt.xlabel('conversion diff')\n",
    "plt.ylabel('N')\n",
    "plt.plot([x[0] for x in data], [x[1] for x in data])\n",
    "plt.show()"
   ]
  },
  {
   "cell_type": "code",
   "execution_count": 157,
   "metadata": {},
   "outputs": [
    {
     "data": {
      "image/png": "[encoded data removed]",
      "text/plain": [
       "<Figure size 432x288 with 1 Axes>"
      ]
     },
     "metadata": {
      "needs_background": "light"
     },
     "output_type": "display_data"
    }
   ],
   "source": [
    "power = 0.80\n",
    "base_conversion = 0.10\n",
    "valuable_diff = 0.01\n",
    "base_traffic_split = 0.8\n",
    "data = []\n",
    "for alpha in linspace(0.01, 0.10, 100):\n",
    "    N = num_samples(\n",
    "        alpha=alpha,\n",
    "        power=power,\n",
    "        mu_A=base_conversion,\n",
    "        mu_delta=valuable_diff,\n",
    "        traffic_ratio_A=base_traffic_split,\n",
    "    )\n",
    "    data.append((alpha, N))\n",
    "\n",
    "plt.xlabel('alpha')\n",
    "plt.ylabel('N')\n",
    "plt.plot([x[0] for x in data], [x[1] for x in data])\n",
    "plt.show()"
   ]
  },
  {
   "cell_type": "code",
   "execution_count": 158,
   "metadata": {},
   "outputs": [
    {
     "data": {
      "image/png": "[encoded data removed]",
      "text/plain": [
       "<Figure size 432x288 with 1 Axes>"
      ]
     },
     "metadata": {
      "needs_background": "light"
     },
     "output_type": "display_data"
    }
   ],
   "source": [
    "alpha = 0.10\n",
    "base_conversion = 0.10\n",
    "valuable_diff = 0.01\n",
    "base_traffic_split = 0.8\n",
    "data = []\n",
    "for power in linspace(0.50, 0.99, 100):\n",
    "    N = num_samples(\n",
    "        alpha=alpha,\n",
    "        power=power,\n",
    "        mu_A=base_conversion,\n",
    "        mu_delta=valuable_diff,\n",
    "        traffic_ratio_A=base_traffic_split,\n",
    "    )\n",
    "    data.append((power, N))\n",
    "\n",
    "plt.xlabel('power')\n",
    "plt.ylabel('N')\n",
    "plt.plot([x[0] for x in data], [x[1] for x in data])\n",
    "plt.show()"
   ]
  },
  {
   "cell_type": "code",
   "execution_count": 159,
   "metadata": {},
   "outputs": [
    {
     "data": {
      "image/png": "[encoded data removed]",
      "text/plain": [
       "<Figure size 432x288 with 1 Axes>"
      ]
     },
     "metadata": {
      "needs_background": "light"
     },
     "output_type": "display_data"
    }
   ],
   "source": [
    "alpha = 0.10\n",
    "power = 0.80\n",
    "base_conversion = 0.10\n",
    "valuable_diff = 0.01\n",
    "data = []\n",
    "for base_traffic_split in linspace(0.10, 0.90, 100):\n",
    "    N = num_samples(\n",
    "        alpha=alpha,\n",
    "        power=power,\n",
    "        mu_A=base_conversion,\n",
    "        mu_delta=valuable_diff,\n",
    "        traffic_ratio_A=base_traffic_split,\n",
    "    )\n",
    "    data.append((base_traffic_split, N))\n",
    "\n",
    "plt.xlabel('traffic to A')\n",
    "plt.ylabel('N')\n",
    "plt.plot([x[0] for x in data], [x[1] for x in data])\n",
    "plt.show()"
   ]
  }
 ],
 "metadata": {
  "kernelspec": {
   "display_name": "Python 3",
   "language": "python",
   "name": "python3"
  },
  "language_info": {
   "codemirror_mode": {
    "name": "ipython",
    "version": 3
   },
   "file_extension": ".py",
   "mimetype": "text/x-python",
   "name": "python",
   "nbconvert_exporter": "python",
   "pygments_lexer": "ipython3",
   "version": "3.7.3"
  }
 },
 "nbformat": 4,
 "nbformat_minor": 2
}
