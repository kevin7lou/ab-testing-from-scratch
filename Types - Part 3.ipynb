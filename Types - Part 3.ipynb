{
 "cells": [
  {
   "cell_type": "code",
   "execution_count": 1,
   "id": "76c6a831",
   "metadata": {},
   "outputs": [
    {
     "name": "stderr",
     "output_type": "stream",
     "text": [
      "Version 1.0.2\n"
     ]
    }
   ],
   "source": [
    "%load_ext nb_mypy"
   ]
  },
  {
   "cell_type": "code",
   "execution_count": 2,
   "id": "64e3c6dc",
   "metadata": {},
   "outputs": [
    {
     "data": {
      "text/plain": [
       "'3.9.7 (default, Sep 16 2021, 08:50:36) \\n[Clang 10.0.0 ]'"
      ]
     },
     "execution_count": 2,
     "metadata": {},
     "output_type": "execute_result"
    }
   ],
   "source": [
    "import sys\n",
    "from abc import *\n",
    "from typing import *\n",
    "from random import random\n",
    "sys.version"
   ]
  },
  {
   "cell_type": "code",
   "execution_count": 3,
   "id": "16b92fa9",
   "metadata": {},
   "outputs": [
    {
     "name": "stderr",
     "output_type": "stream",
     "text": [
      "<cell>4: error: Argument 1 to \"foo\" has incompatible type \"str\"; expected \"int\"\n"
     ]
    },
    {
     "name": "stdout",
     "output_type": "stream",
     "text": [
      "hello\n"
     ]
    }
   ],
   "source": [
    "def foo(i: int) -> None:\n",
    "    print(i)\n",
    "\n",
    "foo(\"hello\")"
   ]
  },
  {
   "cell_type": "code",
   "execution_count": 4,
   "id": "ea0ade11",
   "metadata": {},
   "outputs": [
    {
     "ename": "SyntaxError",
     "evalue": "invalid syntax (1572584934.py, line 1)",
     "output_type": "error",
     "traceback": [
      "\u001b[0;36m  File \u001b[0;32m\"/var/folders/sf/dnxnndjx18j0w4dxlk72j05m0000gn/T/ipykernel_26729/1572584934.py\"\u001b[0;36m, line \u001b[0;32m1\u001b[0m\n\u001b[0;31m    for i: int in range(3):\u001b[0m\n\u001b[0m         ^\u001b[0m\n\u001b[0;31mSyntaxError\u001b[0m\u001b[0;31m:\u001b[0m invalid syntax\n"
     ]
    }
   ],
   "source": [
    "for i: int in range(3):\n",
    "    print(i)"
   ]
  },
  {
   "cell_type": "code",
   "execution_count": 5,
   "id": "f1c2d12d",
   "metadata": {},
   "outputs": [
    {
     "name": "stdout",
     "output_type": "stream",
     "text": [
      "0\n",
      "1\n",
      "2\n"
     ]
    }
   ],
   "source": [
    "i: int\n",
    "for i in range(3):\n",
    "    print(i)"
   ]
  },
  {
   "cell_type": "code",
   "execution_count": 6,
   "id": "ebf76181",
   "metadata": {},
   "outputs": [
    {
     "name": "stderr",
     "output_type": "stream",
     "text": [
      "<cell>5: error: Argument 1 to \"f\" has incompatible type \"int\"; expected \"str\"\n"
     ]
    }
   ],
   "source": [
    "def f(s: str) -> None:\n",
    "    pass\n",
    "\n",
    "for i in range(3): # okay\n",
    "    f(i)           # not okay"
   ]
  },
  {
   "cell_type": "code",
   "execution_count": 7,
   "id": "96a7c571",
   "metadata": {},
   "outputs": [
    {
     "name": "stdout",
     "output_type": "stream",
     "text": [
      "<class 'int'> <class 'int'>\n",
      "3\n"
     ]
    }
   ],
   "source": [
    "class Addable(Protocol):\n",
    "    def __add__(self, other): # anything that declares __add__() can stand in for an Addable\n",
    "        raise NotImplementedError\n",
    "\n",
    "T = TypeVar('T', bound=Addable)\n",
    "\n",
    "def add(a: T, b: T):\n",
    "    print(type(a), type(b))\n",
    "    print(a+b) # checks for __add__(), uses __str__()\n",
    "\n",
    "add(int(1), int(2)) # okay"
   ]
  },
  {
   "cell_type": "code",
   "execution_count": 13,
   "id": "6e1bd463",
   "metadata": {},
   "outputs": [
    {
     "name": "stderr",
     "output_type": "stream",
     "text": [
      "<cell>6: error: Value of type variable \"T\" of \"add\" cannot be \"MyInt\"\n"
     ]
    },
    {
     "name": "stdout",
     "output_type": "stream",
     "text": [
      "<class '__main__.MyInt'> <class '__main__.MyInt'>\n"
     ]
    },
    {
     "ename": "TypeError",
     "evalue": "unsupported operand type(s) for +: 'MyInt' and 'MyInt'",
     "output_type": "error",
     "traceback": [
      "\u001b[0;31m---------------------------------------------------------------------------\u001b[0m",
      "\u001b[0;31mTypeError\u001b[0m                                 Traceback (most recent call last)",
      "\u001b[0;32m/var/folders/sf/dnxnndjx18j0w4dxlk72j05m0000gn/T/ipykernel_26729/3398698018.py\u001b[0m in \u001b[0;36m<module>\u001b[0;34m\u001b[0m\n\u001b[1;32m      4\u001b[0m         \u001b[0mself\u001b[0m\u001b[0;34m.\u001b[0m\u001b[0mnum\u001b[0m \u001b[0;34m=\u001b[0m \u001b[0mnum\u001b[0m\u001b[0;34m\u001b[0m\u001b[0;34m\u001b[0m\u001b[0m\n\u001b[1;32m      5\u001b[0m \u001b[0;34m\u001b[0m\u001b[0m\n\u001b[0;32m----> 6\u001b[0;31m \u001b[0madd\u001b[0m\u001b[0;34m(\u001b[0m\u001b[0mMyInt\u001b[0m\u001b[0;34m(\u001b[0m\u001b[0;36m1\u001b[0m\u001b[0;34m)\u001b[0m\u001b[0;34m,\u001b[0m \u001b[0mMyInt\u001b[0m\u001b[0;34m(\u001b[0m\u001b[0;36m2\u001b[0m\u001b[0;34m)\u001b[0m\u001b[0;34m)\u001b[0m \u001b[0;31m# not okay\u001b[0m\u001b[0;34m\u001b[0m\u001b[0;34m\u001b[0m\u001b[0m\n\u001b[0m",
      "\u001b[0;32m/var/folders/sf/dnxnndjx18j0w4dxlk72j05m0000gn/T/ipykernel_26729/2581831511.py\u001b[0m in \u001b[0;36madd\u001b[0;34m(a, b)\u001b[0m\n\u001b[1;32m      8\u001b[0m \u001b[0;32mdef\u001b[0m \u001b[0madd\u001b[0m\u001b[0;34m(\u001b[0m\u001b[0ma\u001b[0m\u001b[0;34m:\u001b[0m \u001b[0mT\u001b[0m\u001b[0;34m,\u001b[0m \u001b[0mb\u001b[0m\u001b[0;34m:\u001b[0m \u001b[0mT\u001b[0m\u001b[0;34m)\u001b[0m\u001b[0;34m:\u001b[0m\u001b[0;34m\u001b[0m\u001b[0;34m\u001b[0m\u001b[0m\n\u001b[1;32m      9\u001b[0m     \u001b[0mprint\u001b[0m\u001b[0;34m(\u001b[0m\u001b[0mtype\u001b[0m\u001b[0;34m(\u001b[0m\u001b[0ma\u001b[0m\u001b[0;34m)\u001b[0m\u001b[0;34m,\u001b[0m \u001b[0mtype\u001b[0m\u001b[0;34m(\u001b[0m\u001b[0mb\u001b[0m\u001b[0;34m)\u001b[0m\u001b[0;34m)\u001b[0m\u001b[0;34m\u001b[0m\u001b[0;34m\u001b[0m\u001b[0m\n\u001b[0;32m---> 10\u001b[0;31m     \u001b[0mprint\u001b[0m\u001b[0;34m(\u001b[0m\u001b[0ma\u001b[0m\u001b[0;34m+\u001b[0m\u001b[0mb\u001b[0m\u001b[0;34m)\u001b[0m \u001b[0;31m# checks for __add__(), uses __str__()\u001b[0m\u001b[0;34m\u001b[0m\u001b[0;34m\u001b[0m\u001b[0m\n\u001b[0m\u001b[1;32m     11\u001b[0m \u001b[0;34m\u001b[0m\u001b[0m\n\u001b[1;32m     12\u001b[0m \u001b[0madd\u001b[0m\u001b[0;34m(\u001b[0m\u001b[0mMyInt\u001b[0m\u001b[0;34m(\u001b[0m\u001b[0;36m1\u001b[0m\u001b[0;34m)\u001b[0m\u001b[0;34m,\u001b[0m \u001b[0mMyInt\u001b[0m\u001b[0;34m(\u001b[0m\u001b[0;36m2\u001b[0m\u001b[0;34m)\u001b[0m\u001b[0;34m)\u001b[0m \u001b[0;31m# not okay\u001b[0m\u001b[0;34m\u001b[0m\u001b[0;34m\u001b[0m\u001b[0m\n",
      "\u001b[0;31mTypeError\u001b[0m: unsupported operand type(s) for +: 'MyInt' and 'MyInt'"
     ]
    }
   ],
   "source": [
    "class MyInt():\n",
    "    num: int\n",
    "    def __init__(self, num: int):\n",
    "        self.num = num\n",
    "\n",
    "add(MyInt(1), MyInt(2)) # not okay"
   ]
  },
  {
   "cell_type": "code",
   "execution_count": 14,
   "id": "2915b242",
   "metadata": {},
   "outputs": [
    {
     "name": "stdout",
     "output_type": "stream",
     "text": [
      "<class '__main__.MyInt'> <class '__main__.MyInt'>\n",
      "3\n",
      "<class 'int'> <class 'int'>\n",
      "3\n"
     ]
    }
   ],
   "source": [
    "class MyInt(): # note that MyInt does not inherit Addable\n",
    "    num: int\n",
    "    def __init__(self, num: int):\n",
    "        self.num = num\n",
    "    def __add__(self, other):\n",
    "        return MyInt(self.num + other.num)\n",
    "    def __str__(self): # so print() works\n",
    "        return str(self.num)\n",
    "\n",
    "T = TypeVar('T', bound=Addable)\n",
    "\n",
    "def add(a: T, b: T):\n",
    "    print(type(a), type(b))\n",
    "    print(a+b) # checks for __add__(), uses __str__()\n",
    "\n",
    "add(MyInt(1), MyInt(2)) # okay\n",
    "add(int(1), int(2))     # okay"
   ]
  },
  {
   "cell_type": "code",
   "execution_count": 15,
   "id": "83f133d4",
   "metadata": {},
   "outputs": [
    {
     "name": "stderr",
     "output_type": "stream",
     "text": [
      "<cell>5: error: Value of type variable \"T\" of \"add\" cannot be \"MyInt\"\n",
      "<cell>6: error: Value of type variable \"T\" of \"add\" cannot be \"int\"\n"
     ]
    },
    {
     "name": "stdout",
     "output_type": "stream",
     "text": [
      "<class '__main__.MyInt'> <class '__main__.MyInt'>\n",
      "3\n",
      "<class 'int'> <class 'int'>\n",
      "3\n"
     ]
    }
   ],
   "source": [
    "class Addable(ABC):\n",
    "    def __add__(self, other):\n",
    "        raise NotImplementedError\n",
    "\n",
    "add(MyInt(1), MyInt(2)) # okay\n",
    "add(int(1), int(2))     # not okay"
   ]
  },
  {
   "cell_type": "code",
   "execution_count": 16,
   "id": "32264d87",
   "metadata": {},
   "outputs": [
    {
     "name": "stderr",
     "output_type": "stream",
     "text": [
      "<cell>11: error: Value of type variable \"T\" of \"add\" cannot be \"int\"\n"
     ]
    },
    {
     "name": "stdout",
     "output_type": "stream",
     "text": [
      "<class '__main__.MyInt'> <class '__main__.MyInt'>\n",
      "3\n",
      "<class 'int'> <class 'int'>\n",
      "3\n"
     ]
    }
   ],
   "source": [
    "class MyInt(Addable): # note that MyInt does not inherit Addable\n",
    "    num: int\n",
    "    def __init__(self, num: int):\n",
    "        self.num = num\n",
    "    def __add__(self, other):\n",
    "        return MyInt(self.num + other.num)\n",
    "    def __str__(self): # so print() works\n",
    "        return str(self.num)\n",
    "\n",
    "add(MyInt(1), MyInt(2)) # okay\n",
    "add(int(1), int(2))     # not okay"
   ]
  },
  {
   "cell_type": "code",
   "execution_count": 17,
   "id": "ffc8b719",
   "metadata": {},
   "outputs": [
    {
     "name": "stdout",
     "output_type": "stream",
     "text": [
      "1\n",
      "1 2\n"
     ]
    },
    {
     "ename": "AttributeError",
     "evalue": "type object 'Foo' has no attribute 'num'",
     "output_type": "error",
     "traceback": [
      "\u001b[0;31m---------------------------------------------------------------------------\u001b[0m",
      "\u001b[0;31mAttributeError\u001b[0m                            Traceback (most recent call last)",
      "\u001b[0;32m/var/folders/sf/dnxnndjx18j0w4dxlk72j05m0000gn/T/ipykernel_26729/3084624429.py\u001b[0m in \u001b[0;36m<module>\u001b[0;34m\u001b[0m\n\u001b[1;32m      8\u001b[0m \u001b[0mg\u001b[0m \u001b[0;34m=\u001b[0m \u001b[0mFoo\u001b[0m\u001b[0;34m(\u001b[0m\u001b[0;36m2\u001b[0m\u001b[0;34m)\u001b[0m\u001b[0;34m\u001b[0m\u001b[0;34m\u001b[0m\u001b[0m\n\u001b[1;32m      9\u001b[0m \u001b[0mprint\u001b[0m\u001b[0;34m(\u001b[0m\u001b[0mf\u001b[0m\u001b[0;34m.\u001b[0m\u001b[0mnum\u001b[0m\u001b[0;34m,\u001b[0m \u001b[0mg\u001b[0m\u001b[0;34m.\u001b[0m\u001b[0mnum\u001b[0m\u001b[0;34m)\u001b[0m \u001b[0;31m# prints 1 2\u001b[0m\u001b[0;34m\u001b[0m\u001b[0;34m\u001b[0m\u001b[0m\n\u001b[0;32m---> 10\u001b[0;31m \u001b[0mprint\u001b[0m\u001b[0;34m(\u001b[0m\u001b[0mFoo\u001b[0m\u001b[0;34m.\u001b[0m\u001b[0mnum\u001b[0m\u001b[0;34m)\u001b[0m      \u001b[0;31m# AttributeError: type object 'Foo' has no attribute 'num'\u001b[0m\u001b[0;34m\u001b[0m\u001b[0;34m\u001b[0m\u001b[0m\n\u001b[0m",
      "\u001b[0;31mAttributeError\u001b[0m: type object 'Foo' has no attribute 'num'"
     ]
    }
   ],
   "source": [
    "class Foo:\n",
    "    num: int # num is NOT a class variable\n",
    "    def __init__(self, num: int):\n",
    "        self.num = num\n",
    "\n",
    "f = Foo(1)\n",
    "print(f.num)        # prints 1\n",
    "g = Foo(2)\n",
    "print(f.num, g.num) # prints 1 2\n",
    "print(Foo.num)      # AttributeError: type object 'Foo' has no attribute 'num'"
   ]
  },
  {
   "cell_type": "code",
   "execution_count": 18,
   "id": "fe7a77f8",
   "metadata": {},
   "outputs": [
    {
     "name": "stdout",
     "output_type": "stream",
     "text": [
      "1\n",
      "1 2\n",
      "0\n"
     ]
    }
   ],
   "source": [
    "class Foo:\n",
    "    num: int = 0 # num is now a class variable\n",
    "    def __init__(self, num: int):\n",
    "        self.num = num\n",
    "\n",
    "f = Foo(1)\n",
    "print(f.num)          # prints 1\n",
    "g = Foo(2)\n",
    "print(f.num, g.num)   # prints 1 2\n",
    "print(Foo.num)        # prints 0"
   ]
  },
  {
   "cell_type": "code",
   "execution_count": 19,
   "id": "fee37139",
   "metadata": {},
   "outputs": [
    {
     "name": "stderr",
     "output_type": "stream",
     "text": [
      "<cell>3: error: Incompatible types in assignment (expression has type \"str\", variable has type \"int\")\n",
      "<cell>4: error: Incompatible types in assignment (expression has type \"str\", variable has type \"int\")\n"
     ]
    },
    {
     "name": "stdout",
     "output_type": "stream",
     "text": [
      "0 1\n"
     ]
    }
   ],
   "source": [
    "f = Foo(1)\n",
    "print(Foo.num, f.num) # prints 0 1\n",
    "f.num = \"hello\"       # not okay\n",
    "Foo.num = \"world\"     # not okay"
   ]
  },
  {
   "cell_type": "code",
   "execution_count": null,
   "id": "10ef974f",
   "metadata": {},
   "outputs": [],
   "source": []
  }
 ],
 "metadata": {
  "kernelspec": {
   "display_name": "Python 3 (ipykernel)",
   "language": "python",
   "name": "python3"
  },
  "language_info": {
   "codemirror_mode": {
    "name": "ipython",
    "version": 3
   },
   "file_extension": ".py",
   "mimetype": "text/x-python",
   "name": "python",
   "nbconvert_exporter": "python",
   "pygments_lexer": "ipython3",
   "version": "3.9.7"
  }
 },
 "nbformat": 4,
 "nbformat_minor": 5
}
