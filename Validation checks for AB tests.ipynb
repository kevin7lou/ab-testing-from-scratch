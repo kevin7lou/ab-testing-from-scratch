{
 "cells": [
  {
   "cell_type": "code",
   "execution_count": 20,
   "metadata": {},
   "outputs": [],
   "source": [
    "from collections import Counter\n",
    "from scipy.stats import chisquare, norm, uniform, ks_2samp\n",
    "import numpy as np"
   ]
  },
  {
   "cell_type": "code",
   "execution_count": 10,
   "metadata": {},
   "outputs": [],
   "source": [
    "p_crit = 0.001"
   ]
  },
  {
   "cell_type": "code",
   "execution_count": 15,
   "metadata": {},
   "outputs": [
    {
     "name": "stdout",
     "output_type": "stream",
     "text": [
      "Low p value (0.000000). Probably indicated badly configured test, or bad logs!\n"
     ]
    }
   ],
   "source": [
    "N=10*1000\n",
    "traffic_split = [0.8, 0.2]\n",
    "user_counts = [1987, 8013] # bad\n",
    "#user_counts = [8013, 1987] # good\n",
    "# simulates a case where we accidentally switched A and B\n",
    "# so the test would return a very low ~0 p value, indicating\n",
    "# that it's very unlikely that the observed counts are coming from\n",
    "# the indicated traffic_split\n",
    "p = chisquare(user_counts, f_exp=[N*s for s in traffic_split])[1]\n",
    "if p < p_crit:\n",
    "    print('Low p value (%f). Probably indicated badly configured test, or bad logs!' % p)\n",
    "else:\n",
    "    print('Everything seems good.')"
   ]
  },
  {
   "cell_type": "code",
   "execution_count": 16,
   "metadata": {},
   "outputs": [
    {
     "name": "stdout",
     "output_type": "stream",
     "text": [
      "Everything seems good.\n"
     ]
    }
   ],
   "source": [
    "MAX_USER_ID=1000*1000\n",
    "N=10*1000\n",
    "traffic_split = [0.8, 0.2]\n",
    "digits_to_test = 1\n",
    "\n",
    "users_in_experiment = np.random.choice(MAX_USER_ID, N, replace=False)\n",
    "start = 0\n",
    "users_in_funnels = []\n",
    "for s in traffic_split:\n",
    "    end = start + int(s*N)\n",
    "    users_in_funnels.append(users_in_experiment[start:end])\n",
    "    start = end\n",
    "\n",
    "p_min = 1\n",
    "expected_split = [10**(-1*digits_to_test)] * 10**digits_to_test\n",
    "for id_list in users_in_funnels:\n",
    "    digit_counts = list(Counter([x % 10 for x in id_list]).values())\n",
    "    expected_counts = [e * len(id_list) for e in expected_split]\n",
    "    p = chisquare(digit_counts, f_exp=expected_counts)[1]\n",
    "    p_min = min(p, p_min)\n",
    "if p_min < p_crit:\n",
    "    print('Low p value (%f). Probably indicated badly configured test, or bad logs!' % p)\n",
    "else:\n",
    "    print('Everything seems good.')"
   ]
  },
  {
   "cell_type": "code",
   "execution_count": 24,
   "metadata": {},
   "outputs": [
    {
     "name": "stdout",
     "output_type": "stream",
     "text": [
      "Low p value (0.000000). Its very unlikely the two samples are coming from the same distribution.\n"
     ]
    }
   ],
   "source": [
    "N=10*1000\n",
    "rvs1 = norm.rvs(size=N, loc=0, scale=1)\n",
    "rvs2 = uniform.rvs(size=N, loc=-1, scale=2)\n",
    "p = ks_2samp(rvs1, rvs2)[1]\n",
    "if p < p_crit:\n",
    "    print('Low p value (%f). It''s very unlikely the two samples are coming from the same distribution.' % p)\n",
    "else:\n",
    "    print('Everything seems good.')"
   ]
  },
  {
   "cell_type": "code",
   "execution_count": null,
   "metadata": {},
   "outputs": [],
   "source": []
  }
 ],
 "metadata": {
  "kernelspec": {
   "display_name": "Python 3",
   "language": "python",
   "name": "python3"
  },
  "language_info": {
   "codemirror_mode": {
    "name": "ipython",
    "version": 3
   },
   "file_extension": ".py",
   "mimetype": "text/x-python",
   "name": "python",
   "nbconvert_exporter": "python",
   "pygments_lexer": "ipython3",
   "version": "3.6.10"
  }
 },
 "nbformat": 4,
 "nbformat_minor": 4
}
