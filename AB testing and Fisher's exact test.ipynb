{
 "cells": [
  {
   "cell_type": "code",
   "execution_count": 83,
   "metadata": {},
   "outputs": [],
   "source": [
    "import numpy as np\n",
    "from math import floor, ceil\n",
    "from statsmodels.stats.weightstats import ztest, ttest_ind\n",
    "from scipy.stats import chi2_contingency, fisher_exact, binom_test, hypergeom, norm, expon, t\n",
    "from scipy import mean, std\n",
    "from scipy.special import binom\n",
    "import matplotlib.pyplot as plt\n",
    "from itertools import chain"
   ]
  },
  {
   "cell_type": "code",
   "execution_count": 3,
   "metadata": {},
   "outputs": [
    {
     "name": "stdout",
     "output_type": "stream",
     "text": [
      "0.023\n"
     ]
    }
   ],
   "source": [
    "p = binom_test(18, 24, 0.5)\n",
    "print('%.3f' % p)"
   ]
  },
  {
   "cell_type": "code",
   "execution_count": 78,
   "metadata": {},
   "outputs": [
    {
     "name": "stdout",
     "output_type": "stream",
     "text": [
      "Scipy p: 0.023\n",
      "Our   p: 0.023\n"
     ]
    }
   ],
   "source": [
    "def binomial_test(k, n, p):\n",
    "    delta = abs(n/2.0 - k)\n",
    "    lo = floor(n/2.0 - delta)\n",
    "    hi = ceil(n/2.0 + delta)\n",
    "    p_value = 0\n",
    "    for i in chain(range(0, lo + 1), range(hi, n + 1)):\n",
    "        p_value += binom(n, i) * p**i * (1.0 - p)**(n-i)\n",
    "    return p_value\n",
    "\n",
    "def binomial_test_elegant(k, n, p):\n",
    "    delta = abs(n/2.0 - k)\n",
    "    lo = floor(n/2.0 - delta)\n",
    "    hi = ceil(n/2.0 + delta)\n",
    "    return sum([binom(n, i) * p**i * (1.0 - p)**(n-i) for i in chain(range(0, lo + 1), range(hi, n + 1))])\n",
    "\n",
    "N = 24\n",
    "H = 18\n",
    "p = 0.5 # the null hypothesis\n",
    "print('Scipy p: %.3f' % binomial_test(H, N, p))\n",
    "print('Our   p: %.3f' % binom_test(H, N, p))"
   ]
  },
  {
   "cell_type": "code",
   "execution_count": 57,
   "metadata": {},
   "outputs": [
    {
     "name": "stdout",
     "output_type": "stream",
     "text": [
      "Binom test p: 0.047\n",
      "Z-test p:     0.045\n"
     ]
    }
   ],
   "source": [
    "N = 10*1000\n",
    "H = 5100\n",
    "p = 0.5 # the null hypothesis\n",
    "raw_data = H * [1] + (N-H) * [0]\n",
    "print('Binom test p: %.3f' % binom_test(H, N, p))\n",
    "print('Z-test p:     %.3f' % ztest(x1=raw_data, value=p)[1])"
   ]
  },
  {
   "cell_type": "code",
   "execution_count": 133,
   "metadata": {},
   "outputs": [
    {
     "data": {
      "image/png": "[encoded data removed]",
      "text/plain": [
       "<Figure size 720x360 with 1 Axes>"
      ]
     },
     "metadata": {
      "needs_background": "light"
     },
     "output_type": "display_data"
    }
   ],
   "source": [
    "p = 0.5 # the null hypothesis\n",
    "actual_lift = 0.01\n",
    "results = []\n",
    "for N in range(100, 10*1000, 10):\n",
    "    H = int((p + actual_lift) * N)\n",
    "    raw_data = H * [1] + (N-H) * [0]\n",
    "    p_binom = binom_test(H, N, p)\n",
    "    p_z = ztest(x1=raw_data, value=p)[1]\n",
    "    p_diff = abs(p_binom - p_z)\n",
    "    results.append((N, p_diff))\n",
    "\n",
    "plt.figure(figsize=(10,5))\n",
    "plt.xlabel('sample size')\n",
    "plt.ylabel('|p z-test - p exact binomial|')\n",
    "plt.plot([x[0] for x in results], [x[1] for x in results])\n",
    "plt.show()"
   ]
  },
  {
   "cell_type": "code",
   "execution_count": 79,
   "metadata": {},
   "outputs": [],
   "source": [
    "def hypergeom_probability(observations):\n",
    "    row_marginals = np.sum(observations, axis=1)\n",
    "    col_marginals = np.sum(observations, axis=0)\n",
    "    N = np.sum(observations)\n",
    "    p = 1\n",
    "    for i in range(len(observations) - 1):\n",
    "        for j in range(len(observations[i]) - 1):\n",
    "            p *= hypergeom.pmf(observations[i][j], np.sum(col_marginals[j:]), col_marginals[j], row_marginals[i])\n",
    "            row_marginals[i] -= observations[i][j]\n",
    "        col_marginals -= observations[i]\n",
    "    return p"
   ]
  },
  {
   "cell_type": "code",
   "execution_count": 80,
   "metadata": {},
   "outputs": [],
   "source": [
    "def choice(ps):\n",
    "    return np.random.choice(len(ps), p=ps)\n",
    "\n",
    "def simulate_abtest(funnels, N):\n",
    "    traffic_split = [x[1] for x in funnels]\n",
    "    observations = np.zeros([len(funnels), len(funnels[0][0])])\n",
    "    for _ in range(N):\n",
    "        which_funnel = choice(traffic_split)\n",
    "        funnel_outcome = choice(funnels[which_funnel][0])\n",
    "        observations[which_funnel][funnel_outcome] += 1\n",
    "    return observations"
   ]
  },
  {
   "cell_type": "code",
   "execution_count": 84,
   "metadata": {},
   "outputs": [
    {
     "data": {
      "text/plain": [
       "5.986548312759344e-11"
      ]
     },
     "execution_count": 84,
     "metadata": {},
     "output_type": "execute_result"
    }
   ],
   "source": [
    "funnels = [\n",
    "    [[0.80, 0.10, 0.10], 0.6], # the first vector is the actual outcomes, the second is the traffic split\n",
    "    [[0.80, 0.10, 0.10], 0.2],\n",
    "    [[0.80, 0.10, 0.10], 0.2],\n",
    "]\n",
    "N = 50*1000\n",
    "\n",
    "observations = simulate_abtest(funnels, N)\n",
    "hypergeom_probability(observations)"
   ]
  },
  {
   "cell_type": "code",
   "execution_count": 128,
   "metadata": {},
   "outputs": [],
   "source": [
    "def multi_hypergeom_sample(m, colors):\n",
    "    remaining = np.cumsum(colors[::-1])[::-1]\n",
    "    result = np.zeros(len(colors), dtype=np.int)\n",
    "    for i in range(len(colors)-1):\n",
    "        if m < 1:\n",
    "            break\n",
    "        result[i] = np.random.hypergeometric(colors[i], remaining[i+1], m)\n",
    "        m -= result[i]\n",
    "    result[-1] = m\n",
    "    return result\n",
    "\n",
    "def sample_once(observations):\n",
    "    row_marginals = np.sum(observations, axis=1)\n",
    "    col_marginals = np.sum(observations, axis=0)\n",
    "    sample = np.copy(observations)\n",
    "    for i in range(len(row_marginals) - 1):\n",
    "        sample[i] = multi_hypergeom_sample(row_marginals[i], col_marginals)\n",
    "        col_marginals -= sample[i]\n",
    "    sample[len(sample) - 1] = col_marginals\n",
    "    return sample\n",
    "\n",
    "def fisher_monte_carlo(observations, num_simulations=10*1000):\n",
    "    p_obs = hypergeom_probability(observations)\n",
    "    hits = 0\n",
    "    for _ in range(num_simulations):\n",
    "        sample = sample_once(observations)\n",
    "        p_sample = hypergeom_probability(sample)\n",
    "        if p_sample <= p_obs:\n",
    "            hits += 1\n",
    "    return hits/num_simulations"
   ]
  },
  {
   "cell_type": "code",
   "execution_count": 129,
   "metadata": {},
   "outputs": [
    {
     "name": "stdout",
     "output_type": "stream",
     "text": [
      "[[37. 16.]\n",
      " [31. 16.]]\n",
      "chi-squared p = 0.680\n",
      "fisher's exact p = 0.830\n",
      "monte carlo p = 0.831\n"
     ]
    }
   ],
   "source": [
    "funnels = [\n",
    "    [[0.60, 0.40], 0.5], # the first vector is the actual outcomes,\n",
    "    [[0.60, 0.40], 0.5], # the second is the traffic split\n",
    "]\n",
    "N = 100\n",
    "\n",
    "observations = simulate_abtest(funnels, N)\n",
    "print(observations)\n",
    "ch = chi2_contingency(observations, correction=False)\n",
    "print('chi-squared p = %.3f' % ch[1])\n",
    "fs = fisher_exact(observations)\n",
    "print(\"\"\"fisher's exact p = %.3f\"\"\" % fs[1])\n",
    "fmc = fisher_monte_carlo(observations)\n",
    "print(\"\"\"monte carlo p = %.3f\"\"\" % fmc)"
   ]
  },
  {
   "cell_type": "code",
   "execution_count": 132,
   "metadata": {},
   "outputs": [
    {
     "data": {
      "image/png": "[encoded data removed]",
      "text/plain": [
       "<Figure size 720x360 with 1 Axes>"
      ]
     },
     "metadata": {
      "needs_background": "light"
     },
     "output_type": "display_data"
    }
   ],
   "source": [
    "base_conversion = 0.5\n",
    "traffic_split = 0.5\n",
    "actual_lift = 0.01\n",
    "\n",
    "results = []\n",
    "for N in range(100, 20*1000, 200):\n",
    "    observations = [\n",
    "        [int(base_conversion * traffic_split * N), int((1-base_conversion) * traffic_split * N)],\n",
    "        [int((base_conversion+actual_lift) * (1-traffic_split) * N), int((1-(base_conversion+actual_lift)) * (1-traffic_split) * N)],\n",
    "    ]\n",
    "    p_chi2 = chi2_contingency(observations, correction=False)[1]\n",
    "    p_fish = fisher_exact(observations)[1]\n",
    "    p_fmc = fisher_monte_carlo(observations, num_simulations=100*1000)\n",
    "    p_diff_chi2_fish = abs(p_chi2 - p_fish)\n",
    "    p_diff_chi2_fmc = abs(p_chi2 - p_fmc)\n",
    "    p_diff_fish_fmc = abs(p_fish - p_fmc)\n",
    "    results.append((N, p_diff_chi2_fish, p_diff_chi2_fmc, p_diff_fish_fmc))\n",
    "\n",
    "plt.figure(figsize=(10,5))\n",
    "plt.xlabel('sample size')\n",
    "plt.ylabel(\"\"\"p diff\"\"\")\n",
    "plt.plot([x[0] for x in results], [x[1] for x in results])\n",
    "plt.plot([x[0] for x in results], [x[2] for x in results])\n",
    "plt.plot([x[0] for x in results], [x[3] for x in results])\n",
    "plt.legend(['| chi^2 - fisher exact |', '| chi^2 - fisher mc |', '| fisher exact - fisher mc |'], loc='upper right')\n",
    "plt.show()"
   ]
  },
  {
   "cell_type": "code",
   "execution_count": 127,
   "metadata": {},
   "outputs": [
    {
     "name": "stdout",
     "output_type": "stream",
     "text": [
      "[[368. 113. 112.]\n",
      " [126.  45.  55.]\n",
      " [125.  26.  30.]]\n",
      "chi-squared p = 0.076\n",
      "monte carlo p = 0.078\n"
     ]
    }
   ],
   "source": [
    "funnels = [\n",
    "    [[0.60, 0.20, 0.20], 0.6], # the first vector is the actual outcomes, the second is the traffic split\n",
    "    [[0.60, 0.20, 0.20], 0.2],\n",
    "    [[0.70, 0.15, 0.15], 0.2],\n",
    "]\n",
    "N = 1000\n",
    "\n",
    "observations = simulate_abtest(funnels, N)\n",
    "print(observations)\n",
    "ch = chi2_contingency(observations, correction=False)\n",
    "print('chi-squared p = %.3f' % ch[1])\n",
    "mcp = fisher_monte_carlo(observations, num_simulations=100*1000)\n",
    "print(\"\"\"monte carlo p = %.3f\"\"\" % mcp)"
   ]
  },
  {
   "cell_type": "code",
   "execution_count": null,
   "metadata": {},
   "outputs": [],
   "source": []
  }
 ],
 "metadata": {
  "kernelspec": {
   "display_name": "Python 3",
   "language": "python",
   "name": "python3"
  },
  "language_info": {
   "codemirror_mode": {
    "name": "ipython",
    "version": 3
   },
   "file_extension": ".py",
   "mimetype": "text/x-python",
   "name": "python",
   "nbconvert_exporter": "python",
   "pygments_lexer": "ipython3",
   "version": "3.6.6"
  }
 },
 "nbformat": 4,
 "nbformat_minor": 2
}
