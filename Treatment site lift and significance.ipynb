{
 "cells": [
  {
   "cell_type": "code",
   "execution_count": 1,
   "metadata": {},
   "outputs": [],
   "source": [
    "from scipy.stats import chi2_contingency, beta\n",
    "import matplotlib.pyplot as plt\n",
    "from copy import deepcopy\n",
    "import numpy as np"
   ]
  },
  {
   "cell_type": "code",
   "execution_count": 56,
   "metadata": {},
   "outputs": [
    {
     "name": "stdout",
     "output_type": "stream",
     "text": [
      "conversion at control site before = 0.50\n",
      "conversion at control site after  = 0.52\n",
      "relative conversion lift at control = 0.040 (assumed to be seasonality)\n",
      "\n",
      "conversion at treatment site before = 0.51\n",
      "conversion at treatment site after  = 0.56\n",
      "relative conversion lift at treatment = 0.112 (including assumed seasonality)\n",
      "\n",
      "relative conversion lift at treatment with correction (seasonality subtracted out) = 0.072\n"
     ]
    }
   ],
   "source": [
    "# control_site = [\n",
    "#     [99.6, 100.4],\n",
    "#     [99.7, 108.9],\n",
    "# ]\n",
    "\n",
    "control_site = [\n",
    "    [996, 1004],\n",
    "    [997, 1089],\n",
    "]\n",
    "\n",
    "treatment_site = [\n",
    "    [888,  844],\n",
    "    [911, 1088],\n",
    "]\n",
    "\n",
    "conv_control_before = control_site[1][0] / (control_site[0][0] + control_site[1][0])\n",
    "conv_control_after  = control_site[1][1] / (control_site[0][1] + control_site[1][1])\n",
    "conv_control_lift = conv_control_after / conv_control_before - 1.0\n",
    "print('conversion at control site before = %.2f' % conv_control_before)\n",
    "print('conversion at control site after  = %.2f' % conv_control_after)\n",
    "print('relative conversion lift at control = %.3f (assumed to be seasonality)' % conv_control_lift)\n",
    "print()\n",
    "\n",
    "conv_treatment_before = treatment_site[1][0] / (treatment_site[0][0] + treatment_site[1][0])\n",
    "conv_treatment_after  = treatment_site[1][1] / (treatment_site[0][1] + treatment_site[1][1])\n",
    "conv_treatment_lift = conv_treatment_after / conv_treatment_before - 1.0\n",
    "conv_treatment_lift_corr = conv_treatment_lift - conv_control_lift\n",
    "print('conversion at treatment site before = %.2f' % conv_treatment_before)\n",
    "print('conversion at treatment site after  = %.2f' % conv_treatment_after)\n",
    "print('relative conversion lift at treatment = %.3f (including assumed seasonality)' % conv_treatment_lift)\n",
    "print()\n",
    "\n",
    "print('relative conversion lift at treatment with correction (seasonality subtracted out) = %.3f' % conv_treatment_lift_corr)"
   ]
  },
  {
   "cell_type": "code",
   "execution_count": 21,
   "metadata": {},
   "outputs": [
    {
     "name": "stdout",
     "output_type": "stream",
     "text": [
      "p-value of original treatment site contingency matrix = 0.001\n"
     ]
    }
   ],
   "source": [
    "print('p-value of original treatment site contingency matrix = %.3f' % chi2_contingency(treatment_site)[1])"
   ]
  },
  {
   "cell_type": "code",
   "execution_count": 25,
   "metadata": {},
   "outputs": [
    {
     "name": "stdout",
     "output_type": "stream",
     "text": [
      "Original treatment site contingency matrix:\n",
      "[[ 888  844]\n",
      " [ 911 1088]]\n",
      "Corrected treatment site contingency matrix:\n",
      "[[ 888  883]\n",
      " [ 911 1049]]\n"
     ]
    }
   ],
   "source": [
    "def correct_treatment_contingency_matrix(treatment_site, conv_control_lift):\n",
    "    conv_treatment_before = treatment_site[1][0] / (treatment_site[0][0] + treatment_site[1][0])\n",
    "    conv_treatment_after  = treatment_site[1][1] / (treatment_site[0][1] + treatment_site[1][1])\n",
    "    conv_treatment_lift = conv_treatment_after / conv_treatment_before - 1.0\n",
    "    conv_treatment_lift_corr = conv_treatment_lift - conv_control_lift\n",
    "    conv_treatment_after_corr = conv_treatment_before * (1 + conv_treatment_lift_corr)\n",
    "    treatment_site_corr = deepcopy(treatment_site)\n",
    "    N = treatment_site_corr[0][1] + treatment_site_corr[1][1]\n",
    "    treatment_site_corr[0][1] = round((1 - conv_treatment_after_corr) * N)\n",
    "    treatment_site_corr[1][1] = N - treatment_site_corr[0][1]\n",
    "    return treatment_site_corr\n",
    "\n",
    "treatment_site_corr = correct_treatment_contingency_matrix(treatment_site, conv_control_lift)\n",
    "\n",
    "print('Original treatment site contingency matrix:')\n",
    "print(np.array(treatment_site))\n",
    "print('Corrected treatment site contingency matrix:')\n",
    "print(np.array(treatment_site_corr))"
   ]
  },
  {
   "cell_type": "code",
   "execution_count": 23,
   "metadata": {},
   "outputs": [
    {
     "name": "stdout",
     "output_type": "stream",
     "text": [
      "p-value of corrected treatment site contingency matrix = 0.222\n"
     ]
    }
   ],
   "source": [
    "print('p-value of corrected treatment site contingency matrix = %.3f' % chi2_contingency(treatment_site_corr)[1])"
   ]
  },
  {
   "cell_type": "code",
   "execution_count": 28,
   "metadata": {},
   "outputs": [
    {
     "name": "stdout",
     "output_type": "stream",
     "text": [
      "P(conv_after > conv_before | treatment_site     ): 0.9999\n",
      "P(conv_after > conv_before | treatment_site_corr): 0.9894\n"
     ]
    }
   ],
   "source": [
    "def sample_conversion_lifts(site_contingency, num_samples = 10*1000):\n",
    "    beta_before = beta(site_contingency[1][0], site_contingency[0][0])\n",
    "    beta_after  = beta(site_contingency[1][1], site_contingency[0][1])\n",
    "    samples_before = beta_before.rvs(size=num_samples)\n",
    "    samples_after  = beta_after.rvs(size=num_samples)\n",
    "    return samples_before, samples_after\n",
    "\n",
    "def bayesian_prob_after_gt_before(site_contingency, num_samples = 10*1000):\n",
    "    samples_before, samples_after = sample_conversion_lifts(site_contingency, num_samples)\n",
    "    hits = sum([after > before for before, after in zip(samples_before, samples_after)])\n",
    "    return hits/num_samples\n",
    "\n",
    "print('P(conv_after > conv_before | treatment_site     ): %.4f' % bayesian_prob_after_gt_before(treatment_site))\n",
    "print('P(conv_after > conv_before | treatment_site_corr): %.4f' % bayesian_prob_after_gt_before(treatment_site_corr))"
   ]
  },
  {
   "cell_type": "code",
   "execution_count": 34,
   "metadata": {},
   "outputs": [
    {
     "data": {
      "image/png": "[encoded data removed]",
      "text/plain": [
       "<Figure size 432x288 with 1 Axes>"
      ]
     },
     "metadata": {
      "needs_background": "light"
     },
     "output_type": "display_data"
    },
    {
     "name": "stdout",
     "output_type": "stream",
     "text": [
      "mean relative conversion lift at control = 0.041 (assumed to be seasonality)\n"
     ]
    }
   ],
   "source": [
    "num_samples = 100*1000\n",
    "samples_conv_control_before, samples_conv_control_after = sample_conversion_lifts(control_site, num_samples)\n",
    "samples_conv_control_lift = [after/before-1 for before, after in zip(samples_conv_control_before, samples_conv_control_after)]\n",
    "plt.hist(samples_conv_control_lift, bins=100, density=True, alpha=0.5)\n",
    "plt.show()\n",
    "print('mean relative conversion lift at control = %.3f (assumed to be seasonality)' % np.mean(samples_conv_control_lift))"
   ]
  },
  {
   "cell_type": "code",
   "execution_count": 30,
   "metadata": {},
   "outputs": [
    {
     "data": {
      "image/png": "[encoded data removed]",
      "text/plain": [
       "<Figure size 432x288 with 1 Axes>"
      ]
     },
     "metadata": {
      "needs_background": "light"
     },
     "output_type": "display_data"
    },
    {
     "name": "stdout",
     "output_type": "stream",
     "text": [
      "p-value of corrected treatment site contingency matrix (taking into account control site uncertainty) = 0.115\n"
     ]
    }
   ],
   "source": [
    "def p_value_corr(treatment_site, conv_control_lift):\n",
    "    treatment_site_corr = correct_treatment_contingency_matrix(treatment_site, conv_control_lift)\n",
    "    return chi2_contingency(treatment_site_corr)[1]\n",
    "\n",
    "num_samples = 100*1000\n",
    "samples_conv_control_before, samples_conv_control_after = sample_conversion_lifts(control_site, num_samples)\n",
    "samples_conv_control_lift = [after/before-1 for before, after in zip(samples_conv_control_before, samples_conv_control_after)]\n",
    "ps = [p_value_corr(treatment_site, lift) for lift in samples_conv_control_lift]\n",
    "plt.hist(ps, bins=100, density=True, alpha=0.5)\n",
    "plt.show()\n",
    "print('p-value of corrected treatment site contingency matrix (taking into account control site uncertainty) = %.3f' % np.mean(ps))"
   ]
  },
  {
   "cell_type": "code",
   "execution_count": 33,
   "metadata": {},
   "outputs": [
    {
     "data": {
      "image/png": "[encoded data removed]",
      "text/plain": [
       "<Figure size 432x288 with 1 Axes>"
      ]
     },
     "metadata": {
      "needs_background": "light"
     },
     "output_type": "display_data"
    },
    {
     "name": "stdout",
     "output_type": "stream",
     "text": [
      "P(conv_after > conv_before | treatment_site_corr) (taking into account control site uncertainty) = 0.942\n"
     ]
    }
   ],
   "source": [
    "def bayesian_prob_corr(treatment_site, conv_control_lift):\n",
    "    treatment_site_corr = correct_treatment_contingency_matrix(treatment_site, conv_control_lift)\n",
    "    return bayesian_prob_after_gt_before(treatment_site_corr)\n",
    "\n",
    "num_samples = 10*1000\n",
    "samples_conv_control_before, samples_conv_control_after = sample_conversion_lifts(control_site, num_samples)\n",
    "samples_conv_control_lift = [after/before-1 for before, after in zip(samples_conv_control_before, samples_conv_control_after)]\n",
    "bs = [bayesian_prob_corr(treatment_site, lift) for lift in samples_conv_control_lift]\n",
    "plt.hist(bs, bins=100, density=True, alpha=0.5)\n",
    "plt.show()\n",
    "print('P(conv_after > conv_before | treatment_site_corr) (taking into account control site uncertainty) = %.3f' % np.mean(bs))"
   ]
  },
  {
   "cell_type": "code",
   "execution_count": 61,
   "metadata": {},
   "outputs": [
    {
     "data": {
      "image/png": "[encoded data removed]",
      "text/plain": [
       "<Figure size 432x288 with 1 Axes>"
      ]
     },
     "metadata": {
      "needs_background": "light"
     },
     "output_type": "display_data"
    },
    {
     "name": "stdout",
     "output_type": "stream",
     "text": [
      "MC mean relative conversion lift at treatment with correction (seasonality subtracted out) = 0.072\n",
      "P(corrected conversion lift > 0 at treatment site | control_site, treatment_site) = 0.938\n"
     ]
    }
   ],
   "source": [
    "def sample_conversion_lifts(site_contingency, num_samples = 100*1000):\n",
    "    beta_before = beta(site_contingency[1][0], site_contingency[0][0])\n",
    "    beta_after  = beta(site_contingency[1][1], site_contingency[0][1])\n",
    "    samples_before = beta_before.rvs(size=num_samples)\n",
    "    samples_after  = beta_after.rvs(size=num_samples)\n",
    "    return samples_before, samples_after\n",
    "\n",
    "samples_control_before, samples_control_after = sample_conversion_lifts(control_site)\n",
    "samples_treatment_before, samples_treatment_after = sample_conversion_lifts(treatment_site)\n",
    "\n",
    "def calculate_conv_treatment_lift_corr(conv_control_before, conv_control_after, conv_treatment_before, conv_treatment_after):\n",
    "    conv_control_lift = conv_control_after / conv_control_before - 1.0\n",
    "    conv_treatment_lift = conv_treatment_after / conv_treatment_before - 1.0\n",
    "    conv_treatment_lift_corr = conv_treatment_lift - conv_control_lift\n",
    "    return conv_treatment_lift_corr\n",
    "\n",
    "lift_corrs = [calculate_conv_treatment_lift_corr(conv_control_before, conv_control_after, conv_treatment_before, conv_treatment_after)\n",
    "     for conv_control_before, conv_control_after, conv_treatment_before, conv_treatment_after\n",
    "         in zip(samples_control_before, samples_control_after, samples_treatment_before, samples_treatment_after)]\n",
    "\n",
    "plt.hist(lift_corrs, bins=100, density=True, alpha=0.5)\n",
    "plt.show()\n",
    "\n",
    "p = sum([lift_corr > 0 for lift_corr in lift_corrs])/len(lift_corrs)\n",
    "\n",
    "print('MC mean relative conversion lift at treatment with correction (seasonality subtracted out) = %.3f' % np.mean(lift_corrs))\n",
    "print('P(corrected conversion lift > 0 at treatment site | control_site, treatment_site) = %.3f' % p)"
   ]
  },
  {
   "cell_type": "code",
   "execution_count": null,
   "metadata": {},
   "outputs": [],
   "source": []
  }
 ],
 "metadata": {
  "kernelspec": {
   "display_name": "Python 3",
   "language": "python",
   "name": "python3"
  },
  "language_info": {
   "codemirror_mode": {
    "name": "ipython",
    "version": 3
   },
   "file_extension": ".py",
   "mimetype": "text/x-python",
   "name": "python",
   "nbconvert_exporter": "python",
   "pygments_lexer": "ipython3",
   "version": "3.7.6"
  }
 },
 "nbformat": 4,
 "nbformat_minor": 4
}
