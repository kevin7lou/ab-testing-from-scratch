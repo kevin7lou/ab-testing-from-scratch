{
 "cells": [
  {
   "cell_type": "code",
   "execution_count": 1,
   "id": "81a97703",
   "metadata": {
    "ExecuteTime": {
     "end_time": "2022-04-08T11:26:07.562940Z",
     "start_time": "2022-04-08T11:26:06.082605Z"
    }
   },
   "outputs": [
    {
     "name": "stdout",
     "output_type": "stream",
     "text": [
      "Requirement already satisfied: nb_mypy in c:\\users\\mtrencseni\\anaconda3\\lib\\site-packages (1.0.2)\n",
      "Requirement already satisfied: ipython<8,>=7.0 in c:\\users\\mtrencseni\\anaconda3\\lib\\site-packages (from nb_mypy) (7.29.0)\n",
      "Requirement already satisfied: astor<1,>=0.8 in c:\\users\\mtrencseni\\anaconda3\\lib\\site-packages (from nb_mypy) (0.8.1)\n",
      "Requirement already satisfied: mypy<1,>=0.7 in c:\\users\\mtrencseni\\anaconda3\\lib\\site-packages (from nb_mypy) (0.942)\n",
      "Requirement already satisfied: pygments in c:\\users\\mtrencseni\\anaconda3\\lib\\site-packages (from ipython<8,>=7.0->nb_mypy) (2.10.0)\n",
      "Requirement already satisfied: pickleshare in c:\\users\\mtrencseni\\anaconda3\\lib\\site-packages (from ipython<8,>=7.0->nb_mypy) (0.7.5)\n",
      "Requirement already satisfied: matplotlib-inline in c:\\users\\mtrencseni\\anaconda3\\lib\\site-packages (from ipython<8,>=7.0->nb_mypy) (0.1.2)\n",
      "Requirement already satisfied: setuptools>=18.5 in c:\\users\\mtrencseni\\anaconda3\\lib\\site-packages (from ipython<8,>=7.0->nb_mypy) (58.0.4)\n",
      "Requirement already satisfied: traitlets>=4.2 in c:\\users\\mtrencseni\\anaconda3\\lib\\site-packages (from ipython<8,>=7.0->nb_mypy) (5.1.0)\n",
      "Requirement already satisfied: backcall in c:\\users\\mtrencseni\\anaconda3\\lib\\site-packages (from ipython<8,>=7.0->nb_mypy) (0.2.0)\n",
      "Requirement already satisfied: colorama in c:\\users\\mtrencseni\\anaconda3\\lib\\site-packages (from ipython<8,>=7.0->nb_mypy) (0.4.4)\n",
      "Requirement already satisfied: prompt-toolkit!=3.0.0,!=3.0.1,<3.1.0,>=2.0.0 in c:\\users\\mtrencseni\\anaconda3\\lib\\site-packages (from ipython<8,>=7.0->nb_mypy) (3.0.20)\n",
      "Requirement already satisfied: decorator in c:\\users\\mtrencseni\\anaconda3\\lib\\site-packages (from ipython<8,>=7.0->nb_mypy) (5.1.0)\n",
      "Requirement already satisfied: jedi>=0.16 in c:\\users\\mtrencseni\\anaconda3\\lib\\site-packages (from ipython<8,>=7.0->nb_mypy) (0.18.0)\n",
      "Requirement already satisfied: parso<0.9.0,>=0.8.0 in c:\\users\\mtrencseni\\anaconda3\\lib\\site-packages (from jedi>=0.16->ipython<8,>=7.0->nb_mypy) (0.8.2)\n",
      "Requirement already satisfied: mypy-extensions>=0.4.3 in c:\\users\\mtrencseni\\anaconda3\\lib\\site-packages (from mypy<1,>=0.7->nb_mypy) (0.4.3)\n",
      "Requirement already satisfied: typing-extensions>=3.10 in c:\\users\\mtrencseni\\anaconda3\\lib\\site-packages (from mypy<1,>=0.7->nb_mypy) (3.10.0.2)\n",
      "Requirement already satisfied: tomli>=1.1.0 in c:\\users\\mtrencseni\\anaconda3\\lib\\site-packages (from mypy<1,>=0.7->nb_mypy) (2.0.1)\n",
      "Requirement already satisfied: wcwidth in c:\\users\\mtrencseni\\anaconda3\\lib\\site-packages (from prompt-toolkit!=3.0.0,!=3.0.1,<3.1.0,>=2.0.0->ipython<8,>=7.0->nb_mypy) (0.2.5)\n"
     ]
    }
   ],
   "source": [
    "!pip install nb_mypy"
   ]
  },
  {
   "cell_type": "code",
   "execution_count": 2,
   "id": "5b5d786b",
   "metadata": {
    "ExecuteTime": {
     "end_time": "2022-04-08T11:26:07.578945Z",
     "start_time": "2022-04-08T11:26:07.564941Z"
    }
   },
   "outputs": [
    {
     "name": "stderr",
     "output_type": "stream",
     "text": [
      "Version 1.0.2\n"
     ]
    }
   ],
   "source": [
    "%load_ext nb_mypy"
   ]
  },
  {
   "cell_type": "code",
   "execution_count": 3,
   "id": "6836e9a9",
   "metadata": {
    "ExecuteTime": {
     "end_time": "2022-04-08T11:26:07.745982Z",
     "start_time": "2022-04-08T11:26:07.578945Z"
    }
   },
   "outputs": [
    {
     "data": {
      "text/plain": [
       "(int, int, str, list, dict, set, NoneType)"
      ]
     },
     "execution_count": 3,
     "metadata": {},
     "output_type": "execute_result"
    }
   ],
   "source": [
    "type(42), type(int('42')), type('hello'), type([]), type({}), type({1, 2, 3}), type(None)"
   ]
  },
  {
   "cell_type": "code",
   "execution_count": 4,
   "id": "8d48f1f9",
   "metadata": {
    "ExecuteTime": {
     "end_time": "2022-04-08T11:26:07.886014Z",
     "start_time": "2022-04-08T11:26:07.746982Z"
    }
   },
   "outputs": [
    {
     "data": {
      "text/plain": [
       "(type, type, type, False, True)"
      ]
     },
     "execution_count": 4,
     "metadata": {},
     "output_type": "execute_result"
    }
   ],
   "source": [
    "type(int), type(type(42)), type(str), type(42) == type(int), type(int) == type(str)"
   ]
  },
  {
   "cell_type": "code",
   "execution_count": 5,
   "id": "b8eaac28",
   "metadata": {
    "ExecuteTime": {
     "end_time": "2022-04-08T11:26:08.005040Z",
     "start_time": "2022-04-08T11:26:07.887014Z"
    }
   },
   "outputs": [],
   "source": [
    "%nb_mypy Off"
   ]
  },
  {
   "cell_type": "code",
   "execution_count": 6,
   "id": "5d484669",
   "metadata": {
    "ExecuteTime": {
     "end_time": "2022-04-08T11:26:08.010041Z",
     "start_time": "2022-04-08T11:26:08.006041Z"
    }
   },
   "outputs": [],
   "source": [
    "age: int = 42\n",
    "age = 'hello'       # no problem since type checking is off\n",
    "age = [42, 'hello'] # no problem since type checking is off\n",
    "age = None          # no problem since type checking is off"
   ]
  },
  {
   "cell_type": "code",
   "execution_count": 7,
   "id": "661076d2",
   "metadata": {
    "ExecuteTime": {
     "end_time": "2022-04-08T11:26:08.017043Z",
     "start_time": "2022-04-08T11:26:08.011042Z"
    }
   },
   "outputs": [],
   "source": [
    "%nb_mypy On"
   ]
  },
  {
   "cell_type": "code",
   "execution_count": 8,
   "id": "played-newport",
   "metadata": {
    "ExecuteTime": {
     "end_time": "2022-04-08T11:26:08.167077Z",
     "start_time": "2022-04-08T11:26:08.018043Z"
    }
   },
   "outputs": [
    {
     "name": "stderr",
     "output_type": "stream",
     "text": [
      "<cell>3: error: Incompatible types in assignment (expression has type \"str\", variable has type \"int\")\n",
      "<cell>4: error: Incompatible types in assignment (expression has type \"List[object]\", variable has type \"int\")\n",
      "<cell>5: error: Incompatible types in assignment (expression has type \"None\", variable has type \"int\")\n"
     ]
    }
   ],
   "source": [
    "age:int\n",
    "age = 42            # okay\n",
    "age = 'hello'       # not okay\n",
    "age = [42, 'hello'] # not okay\n",
    "age = None          # not okay"
   ]
  },
  {
   "cell_type": "code",
   "execution_count": 9,
   "id": "40830b0b",
   "metadata": {
    "ExecuteTime": {
     "end_time": "2022-04-08T11:26:08.316111Z",
     "start_time": "2022-04-08T11:26:08.168078Z"
    }
   },
   "outputs": [
    {
     "name": "stderr",
     "output_type": "stream",
     "text": [
      "<cell>3: error: Incompatible types in assignment (expression has type \"int\", variable has type \"List[int]\")\n",
      "<cell>4: error: List item 1 has incompatible type \"str\"; expected \"int\"\n"
     ]
    }
   ],
   "source": [
    "l: list[int]\n",
    "l = [1, 2, 3]    # okay\n",
    "l = 1            # not okay!\n",
    "l = [1, \"hello\"] # not okay!"
   ]
  },
  {
   "cell_type": "code",
   "execution_count": 10,
   "id": "d2f36eae",
   "metadata": {
    "ExecuteTime": {
     "end_time": "2022-04-08T11:26:08.436138Z",
     "start_time": "2022-04-08T11:26:08.317111Z"
    }
   },
   "outputs": [
    {
     "name": "stderr",
     "output_type": "stream",
     "text": [
      "<cell>3: error: Argument 1 to \"append\" of \"list\" has incompatible type \"str\"; expected \"int\"\n"
     ]
    }
   ],
   "source": [
    "l: list[int] = []\n",
    "l.append(1)       # okay\n",
    "l.append(\"hello\") # not okay!"
   ]
  },
  {
   "cell_type": "code",
   "execution_count": 11,
   "id": "87d06f93",
   "metadata": {
    "ExecuteTime": {
     "end_time": "2022-04-08T11:26:08.585172Z",
     "start_time": "2022-04-08T11:26:08.437139Z"
    }
   },
   "outputs": [
    {
     "name": "stderr",
     "output_type": "stream",
     "text": [
      "<cell>5: error: Argument 1 to \"f\" has incompatible type \"str\"; expected \"int\"\n",
      "<cell>6: error: Incompatible types in assignment (expression has type \"List[str]\", variable has type \"int\")\n"
     ]
    }
   ],
   "source": [
    "def f(i:int) -> list[str]:\n",
    "    return ['hello']\n",
    "\n",
    "f(42)          # okay\n",
    "f('hello')     # not okay\n",
    "r: int = f(42) # not okay"
   ]
  },
  {
   "cell_type": "code",
   "execution_count": 12,
   "id": "a1809ec5",
   "metadata": {
    "ExecuteTime": {
     "end_time": "2022-04-08T11:26:08.732205Z",
     "start_time": "2022-04-08T11:26:08.586172Z"
    }
   },
   "outputs": [],
   "source": [
    "class A:\n",
    "    memberVariable: int\n",
    "    def __init__(self, i:int) -> None:\n",
    "        self.memberVariable = i\n",
    "    def increase(self) -> int:\n",
    "        self.memberVariable += 1\n",
    "        return self.memberVariable"
   ]
  },
  {
   "cell_type": "code",
   "execution_count": 13,
   "id": "b234aab2",
   "metadata": {
    "ExecuteTime": {
     "end_time": "2022-04-08T11:26:08.972260Z",
     "start_time": "2022-04-08T11:26:08.733205Z"
    }
   },
   "outputs": [
    {
     "name": "stderr",
     "output_type": "stream",
     "text": [
      "<cell>3: error: Argument 1 to \"A\" has incompatible type \"str\"; expected \"int\"\n",
      "<cell>4: error: Unsupported operand types for + (\"None\" and \"int\")\n"
     ]
    },
    {
     "ename": "TypeError",
     "evalue": "can only concatenate str (not \"int\") to str",
     "output_type": "error",
     "traceback": [
      "\u001b[1;31m---------------------------------------------------------------------------\u001b[0m",
      "\u001b[1;31mTypeError\u001b[0m                                 Traceback (most recent call last)",
      "\u001b[1;32mC:\\Users\\MTRENC~1\\AppData\\Local\\Temp/ipykernel_20212/2124699660.py\u001b[0m in \u001b[0;36m<module>\u001b[1;34m\u001b[0m\n\u001b[0;32m      2\u001b[0m \u001b[0ma\u001b[0m\u001b[1;33m.\u001b[0m\u001b[0mincrease\u001b[0m\u001b[1;33m(\u001b[0m\u001b[1;33m)\u001b[0m        \u001b[1;31m# okay\u001b[0m\u001b[1;33m\u001b[0m\u001b[1;33m\u001b[0m\u001b[0m\n\u001b[0;32m      3\u001b[0m \u001b[0ma\u001b[0m \u001b[1;33m=\u001b[0m \u001b[0mA\u001b[0m\u001b[1;33m(\u001b[0m\u001b[1;34m'hello'\u001b[0m\u001b[1;33m)\u001b[0m      \u001b[1;31m# not okay\u001b[0m\u001b[1;33m\u001b[0m\u001b[1;33m\u001b[0m\u001b[0m\n\u001b[1;32m----> 4\u001b[1;33m \u001b[1;32mNone\u001b[0m \u001b[1;33m+\u001b[0m \u001b[0ma\u001b[0m\u001b[1;33m.\u001b[0m\u001b[0mincrease\u001b[0m\u001b[1;33m(\u001b[0m\u001b[1;33m)\u001b[0m \u001b[1;31m# not okay\u001b[0m\u001b[1;33m\u001b[0m\u001b[1;33m\u001b[0m\u001b[0m\n\u001b[0m",
      "\u001b[1;32mC:\\Users\\MTRENC~1\\AppData\\Local\\Temp/ipykernel_20212/3435012141.py\u001b[0m in \u001b[0;36mincrease\u001b[1;34m(self)\u001b[0m\n\u001b[0;32m      4\u001b[0m         \u001b[0mself\u001b[0m\u001b[1;33m.\u001b[0m\u001b[0mmemberVariable\u001b[0m \u001b[1;33m=\u001b[0m \u001b[0mi\u001b[0m\u001b[1;33m\u001b[0m\u001b[1;33m\u001b[0m\u001b[0m\n\u001b[0;32m      5\u001b[0m     \u001b[1;32mdef\u001b[0m \u001b[0mincrease\u001b[0m\u001b[1;33m(\u001b[0m\u001b[0mself\u001b[0m\u001b[1;33m)\u001b[0m \u001b[1;33m->\u001b[0m \u001b[0mint\u001b[0m\u001b[1;33m:\u001b[0m\u001b[1;33m\u001b[0m\u001b[1;33m\u001b[0m\u001b[0m\n\u001b[1;32m----> 6\u001b[1;33m         \u001b[0mself\u001b[0m\u001b[1;33m.\u001b[0m\u001b[0mmemberVariable\u001b[0m \u001b[1;33m+=\u001b[0m \u001b[1;36m1\u001b[0m\u001b[1;33m\u001b[0m\u001b[1;33m\u001b[0m\u001b[0m\n\u001b[0m\u001b[0;32m      7\u001b[0m         \u001b[1;32mreturn\u001b[0m \u001b[0mself\u001b[0m\u001b[1;33m.\u001b[0m\u001b[0mmemberVariable\u001b[0m\u001b[1;33m\u001b[0m\u001b[1;33m\u001b[0m\u001b[0m\n",
      "\u001b[1;31mTypeError\u001b[0m: can only concatenate str (not \"int\") to str"
     ]
    }
   ],
   "source": [
    "a = A(42)           # okay\n",
    "a.increase()        # okay\n",
    "a = A('hello')      # not okay\n",
    "None + a.increase() # not okay"
   ]
  },
  {
   "cell_type": "code",
   "execution_count": null,
   "id": "b77b7e05",
   "metadata": {},
   "outputs": [],
   "source": []
  }
 ],
 "metadata": {
  "kernelspec": {
   "display_name": "Python 3 (ipykernel)",
   "language": "python",
   "name": "python3"
  },
  "language_info": {
   "codemirror_mode": {
    "name": "ipython",
    "version": 3
   },
   "file_extension": ".py",
   "mimetype": "text/x-python",
   "name": "python",
   "nbconvert_exporter": "python",
   "pygments_lexer": "ipython3",
   "version": "3.9.7"
  }
 },
 "nbformat": 4,
 "nbformat_minor": 5
}
