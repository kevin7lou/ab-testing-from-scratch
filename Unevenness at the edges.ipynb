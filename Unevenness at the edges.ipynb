{
 "cells": [
  {
   "cell_type": "code",
   "execution_count": 5,
   "metadata": {},
   "outputs": [],
   "source": [
    "import numpy as np\n",
    "import scipy.stats as stats\n",
    "import matplotlib.pyplot as plt"
   ]
  },
  {
   "cell_type": "code",
   "execution_count": 6,
   "metadata": {},
   "outputs": [
    {
     "data": {
      "image/png": "[encoded data removed]",
      "text/plain": [
       "<Figure size 432x288 with 1 Axes>"
      ]
     },
     "metadata": {
      "needs_background": "light"
     },
     "output_type": "display_data"
    }
   ],
   "source": [
    "mean_A = 0.0\n",
    "mean_B = 0.2\n",
    "stdev = 1\n",
    "x = np.linspace(mean_A - 5, mean_A + 5, 100)\n",
    "plt.plot(x, stats.norm.pdf(x, mean_A, stdev))\n",
    "plt.plot(x, stats.norm.pdf(x, mean_B, stdev))\n",
    "plt.show()"
   ]
  },
  {
   "cell_type": "code",
   "execution_count": 7,
   "metadata": {},
   "outputs": [
    {
     "name": "stdout",
     "output_type": "stream",
     "text": [
      "0.6\n"
     ]
    }
   ],
   "source": [
    "B_taller_A = stats.norm.cdf(0, loc=mean_A-mean_B, scale=stdev)\n",
    "print('%.1f' % B_taller_A)"
   ]
  },
  {
   "cell_type": "code",
   "execution_count": 9,
   "metadata": {},
   "outputs": [
    {
     "name": "stdout",
     "output_type": "stream",
     "text": [
      "1 in 10035700\n",
      "1 in 3488555\n",
      "2.9 to 1\n"
     ]
    }
   ],
   "source": [
    "z_cut = 5.2\n",
    "area_A = stats.norm.sf(z_cut, loc=mean_A, scale=stdev)\n",
    "area_B = stats.norm.sf(z_cut, loc=mean_B, scale=stdev)\n",
    "print('1 in %d' % (1/area_A))\n",
    "print('1 in %d' % (1/area_B))\n",
    "print('%.1f to 1' % (area_B/area_A))"
   ]
  },
  {
   "cell_type": "code",
   "execution_count": 10,
   "metadata": {},
   "outputs": [
    {
     "name": "stdout",
     "output_type": "stream",
     "text": [
      "1 in 470\n",
      "1 in 5\n",
      "90.7 to 1\n"
     ]
    }
   ],
   "source": [
    "mean_A = 164.7\n",
    "mean_B = 178.4\n",
    "stdev_A = 7.1\n",
    "stdev_B = 7.6\n",
    "z_cut = 185\n",
    "area_A = stats.norm.sf(z_cut, loc=mean_A, scale=stdev_A)\n",
    "area_B = stats.norm.sf(z_cut, loc=mean_B, scale=stdev_B)\n",
    "print('1 in %d' % (1/area_A))\n",
    "print('1 in %d' % (1/area_B))\n",
    "print('%.1f to 1' % (area_B/area_A))"
   ]
  },
  {
   "cell_type": "code",
   "execution_count": 12,
   "metadata": {},
   "outputs": [
    {
     "name": "stdout",
     "output_type": "stream",
     "text": [
      "1 in 8886110\n",
      "1 in 5956538\n",
      "1.5 to 1\n"
     ]
    }
   ],
   "source": [
    "mean_A = 1.0\n",
    "mean_B = 1.2\n",
    "stdev = 0.5\n",
    "z_cut = 9\n",
    "area_A = stats.expon.sf(z_cut, loc=mean_A, scale=stdev)\n",
    "area_B = stats.expon.sf(z_cut, loc=mean_B, scale=stdev)\n",
    "print('1 in %d' % (1/area_A))\n",
    "print('1 in %d' % (1/area_B))\n",
    "print('%.1f to 1' % (area_B/area_A))"
   ]
  },
  {
   "cell_type": "code",
   "execution_count": null,
   "metadata": {},
   "outputs": [],
   "source": []
  }
 ],
 "metadata": {
  "kernelspec": {
   "display_name": "Python 3",
   "language": "python",
   "name": "python3"
  },
  "language_info": {
   "codemirror_mode": {
    "name": "ipython",
    "version": 3
   },
   "file_extension": ".py",
   "mimetype": "text/x-python",
   "name": "python",
   "nbconvert_exporter": "python",
   "pygments_lexer": "ipython3",
   "version": "3.7.6"
  }
 },
 "nbformat": 4,
 "nbformat_minor": 4
}
