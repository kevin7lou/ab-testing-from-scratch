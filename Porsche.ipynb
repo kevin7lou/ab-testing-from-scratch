{
 "cells": [
  {
   "cell_type": "code",
   "execution_count": 1,
   "id": "9ee4b960",
   "metadata": {
    "ExecuteTime": {
     "end_time": "2022-04-30T12:28:16.409565Z",
     "start_time": "2022-04-30T12:28:16.392561Z"
    }
   },
   "outputs": [
    {
     "name": "stderr",
     "output_type": "stream",
     "text": [
      "Version 1.0.2\n"
     ]
    }
   ],
   "source": [
    "%load_ext nb_mypy"
   ]
  },
  {
   "cell_type": "code",
   "execution_count": 2,
   "id": "6c3a36e6",
   "metadata": {
    "ExecuteTime": {
     "end_time": "2022-04-30T12:28:17.239752Z",
     "start_time": "2022-04-30T12:28:16.410566Z"
    }
   },
   "outputs": [
    {
     "data": {
      "text/plain": [
       "'3.9.7 (default, Sep 16 2021, 16:59:28) [MSC v.1916 64 bit (AMD64)]'"
      ]
     },
     "execution_count": 2,
     "metadata": {},
     "output_type": "execute_result"
    }
   ],
   "source": [
    "import sys\n",
    "from typing import *\n",
    "import matplotlib.pyplot as plt\n",
    "from numpy.random import normal\n",
    "sys.version"
   ]
  },
  {
   "cell_type": "code",
   "execution_count": 3,
   "id": "bae0462e",
   "metadata": {
    "ExecuteTime": {
     "end_time": "2022-04-30T12:28:17.688854Z",
     "start_time": "2022-04-30T12:28:17.240752Z"
    }
   },
   "outputs": [],
   "source": [
    "produced = [\n",
    "    (1947, 0),\n",
    "    (1948, 52),\n",
    "    (1963, 11000),\n",
    "    (1969, 14000),\n",
    "    # from here on we have the number for every year...\n",
    "    (1998, 43982),\n",
    "    (1999, 48797),\n",
    "    (2000, 54586),\n",
    "    (2001, 54234),\n",
    "    (2002, 66803),\n",
    "    (2003, 76827),\n",
    "    (2004, 88379),\n",
    "    (2005, 96794),\n",
    "    (2006, 97515),\n",
    "    (2007, 98652),\n",
    "    (2008, 76739),\n",
    "    (2009, 81850),\n",
    "    (2010, 96473),\n",
    "    (2011, 116978),\n",
    "    (2012, 143096),\n",
    "    (2013, 162145),\n",
    "    (2014, 189849),\n",
    "    (2015, 225121),\n",
    "    (2016, 237778),\n",
    "    (2017, 246375),\n",
    "    (2018, 256255),\n",
    "    (2019, 280800),\n",
    "    (2020, 272162),\n",
    "    (2021, 301915),\n",
    "]\n",
    "cumulative = [\n",
    "    (1956, 10000),\n",
    "    (1977, 300000),\n",
    "    (1996, 1000000),\n",
    "]"
   ]
  },
  {
   "cell_type": "code",
   "execution_count": 4,
   "id": "9a818ff0",
   "metadata": {
    "ExecuteTime": {
     "end_time": "2022-04-30T12:28:18.174963Z",
     "start_time": "2022-04-30T12:28:17.689854Z"
    }
   },
   "outputs": [
    {
     "name": "stdout",
     "output_type": "stream",
     "text": [
      "Produced\n",
      "--------\n",
      "1947 -> 0\n",
      "1948 -> 52\n",
      "1949 -> 316\n",
      "1950 -> 581\n",
      "1951 -> 846\n",
      "1952 -> 1111\n",
      "1953 -> 1375\n",
      "1954 -> 1640\n",
      "1955 -> 1905\n",
      "1956 -> 2170\n",
      "1957 -> 3431\n",
      "1958 -> 4693\n",
      "1959 -> 5954\n",
      "1960 -> 7215\n",
      "1961 -> 8477\n",
      "1962 -> 9738\n",
      "1963 -> 11000\n",
      "1964 -> 11500\n",
      "1965 -> 12000\n",
      "1966 -> 12500\n",
      "1967 -> 13000\n",
      "1968 -> 13500\n",
      "1969 -> 14000\n",
      "1970 -> 15416\n",
      "1971 -> 16832\n",
      "1972 -> 18249\n",
      "1973 -> 19665\n",
      "1974 -> 21081\n",
      "1975 -> 22498\n",
      "1976 -> 23914\n",
      "1977 -> 25330\n",
      "1978 -> 26482\n",
      "1979 -> 27633\n",
      "1980 -> 28784\n",
      "1981 -> 29935\n",
      "1982 -> 31086\n",
      "1983 -> 32237\n",
      "1984 -> 33388\n",
      "1985 -> 34539\n",
      "1986 -> 35690\n",
      "1987 -> 36842\n",
      "1988 -> 37993\n",
      "1989 -> 39144\n",
      "1990 -> 40295\n",
      "1991 -> 41446\n",
      "1992 -> 42597\n",
      "1993 -> 43748\n",
      "1994 -> 44899\n",
      "1995 -> 46051\n",
      "1996 -> 47202\n",
      "1997 -> 45592\n",
      "1998 -> 43982\n",
      "1999 -> 48797\n",
      "2000 -> 54586\n",
      "2001 -> 54234\n",
      "2002 -> 66803\n",
      "2003 -> 76827\n",
      "2004 -> 88379\n",
      "2005 -> 96794\n",
      "2006 -> 97515\n",
      "2007 -> 98652\n",
      "2008 -> 76739\n",
      "2009 -> 81850\n",
      "2010 -> 96473\n",
      "2011 -> 116978\n",
      "2012 -> 143096\n",
      "2013 -> 162145\n",
      "2014 -> 189849\n",
      "2015 -> 225121\n",
      "2016 -> 237778\n",
      "2017 -> 246375\n",
      "2018 -> 256255\n",
      "2019 -> 280800\n",
      "2020 -> 272162\n",
      "2021 -> 301915\n",
      "Cumulative\n",
      "----------\n",
      "1947 -> 0\n",
      "1948 -> 52\n",
      "1949 -> 368\n",
      "1950 -> 950\n",
      "1951 -> 1796\n",
      "1952 -> 2907\n",
      "1953 -> 4283\n",
      "1954 -> 5924\n",
      "1955 -> 7829\n",
      "1956 -> 9999\n",
      "1957 -> 13431\n",
      "1958 -> 18124\n",
      "1959 -> 24079\n",
      "1960 -> 31294\n",
      "1961 -> 39772\n",
      "1962 -> 49510\n",
      "1963 -> 60510\n",
      "1964 -> 72010\n",
      "1965 -> 84010\n",
      "1966 -> 96510\n",
      "1967 -> 109510\n",
      "1968 -> 123010\n",
      "1969 -> 137010\n",
      "1970 -> 152427\n",
      "1971 -> 169259\n",
      "1972 -> 187508\n",
      "1973 -> 207174\n",
      "1974 -> 228256\n",
      "1975 -> 250754\n",
      "1976 -> 274669\n",
      "1977 -> 300000\n",
      "1978 -> 326482\n",
      "1979 -> 354115\n",
      "1980 -> 382899\n",
      "1981 -> 412834\n",
      "1982 -> 443921\n",
      "1983 -> 476159\n",
      "1984 -> 509547\n",
      "1985 -> 544087\n",
      "1986 -> 579778\n",
      "1987 -> 616620\n",
      "1988 -> 654614\n",
      "1989 -> 693758\n",
      "1990 -> 734053\n",
      "1991 -> 775500\n",
      "1992 -> 818098\n",
      "1993 -> 861846\n",
      "1994 -> 906746\n",
      "1995 -> 952797\n",
      "1996 -> 999999\n",
      "1997 -> 1045592\n",
      "1998 -> 1089574\n",
      "1999 -> 1138371\n",
      "2000 -> 1192957\n",
      "2001 -> 1247191\n",
      "2002 -> 1313994\n",
      "2003 -> 1390821\n",
      "2004 -> 1479200\n",
      "2005 -> 1575994\n",
      "2006 -> 1673509\n",
      "2007 -> 1772161\n",
      "2008 -> 1848900\n",
      "2009 -> 1930750\n",
      "2010 -> 2027223\n",
      "2011 -> 2144201\n",
      "2012 -> 2287297\n",
      "2013 -> 2449442\n",
      "2014 -> 2639291\n",
      "2015 -> 2864412\n",
      "2016 -> 3102190\n",
      "2017 -> 3348565\n",
      "2018 -> 3604820\n",
      "2019 -> 3885620\n",
      "2020 -> 4157782\n",
      "2021 -> 4459697\n"
     ]
    }
   ],
   "source": [
    "Number = Union[float, int]\n",
    "TimeSeries = Sequence[tuple[int, Number]] # type alias\n",
    "\n",
    "def piecewise_linear_fit(f: TimeSeries, c: TimeSeries) -> TimeSeries:\n",
    "    r = [f[0]]\n",
    "    fi, ci = 1, 0\n",
    "    while True:\n",
    "        if ci >= len(c) and fi >= len(f):\n",
    "            break\n",
    "        elif ci >= len(c) or f[fi][0] <= c[ci][0]:\n",
    "            # the next closest data point is in f, use that to get the slope\n",
    "            slope = (f[fi][1] - r[-1][1]) / (f[fi][0] - r[-1][0])\n",
    "            to = f[fi][0]\n",
    "            fi += 1\n",
    "        elif fi >= len(f) or f[fi][0] > c[ci][0]:\n",
    "            # the next closest data point is in c, use that to get the slope\n",
    "            ts = range(1, c[ci][0] - r[-1][0] + 1)\n",
    "            slope = (c[ci][1] - sum([t[1] for t in r]) - r[-1][1]*len(ts)) / sum(ts)\n",
    "            to = c[ci][0]\n",
    "            ci += 1\n",
    "        (x_0, y_0) = r[-1]\n",
    "        for x in range(r[-1][0]+1, to+1):\n",
    "            r.append((x, y_0 + slope * (x - x_0)))\n",
    "    return r\n",
    "\n",
    "f = piecewise_linear_fit(produced, cumulative)\n",
    "\n",
    "print('Produced')\n",
    "print('--------')\n",
    "for (t, p) in f:\n",
    "    print(f'{t} -> {int(p)}')\n",
    "\n",
    "print('Cumulative')\n",
    "print('----------')\n",
    "for i in range(len(f)):\n",
    "    print(f'{f[i][0]} -> {int(sum([x[1] for x in f[:i+1]]))}')"
   ]
  },
  {
   "cell_type": "code",
   "execution_count": 5,
   "id": "728481d6",
   "metadata": {
    "ExecuteTime": {
     "end_time": "2022-04-30T12:28:19.136179Z",
     "start_time": "2022-04-30T12:28:18.175963Z"
    }
   },
   "outputs": [
    {
     "data": {
      "image/png": "[encoded data removed]",
      "text/plain": [
       "<Figure size 1080x360 with 1 Axes>"
      ]
     },
     "metadata": {
      "needs_background": "light"
     },
     "output_type": "display_data"
    }
   ],
   "source": [
    "plt.figure(figsize=(15,5))\n",
    "plt.xlabel('year')\n",
    "plt.ylabel('# produced')\n",
    "plt.bar(\n",
    "    [x[0] for x in f],\n",
    "    [x[1] for x in f],\n",
    ")\n",
    "plt.gca().yaxis.set_major_formatter(plt.matplotlib.ticker.StrMethodFormatter('{x:,.0f}'))"
   ]
  },
  {
   "cell_type": "code",
   "execution_count": 6,
   "id": "15b5cb2f",
   "metadata": {
    "ExecuteTime": {
     "end_time": "2022-04-30T12:28:19.831336Z",
     "start_time": "2022-04-30T12:28:19.137179Z"
    }
   },
   "outputs": [
    {
     "data": {
      "image/png": "[encoded data removed]",
      "text/plain": [
       "<Figure size 1080x360 with 1 Axes>"
      ]
     },
     "metadata": {
      "needs_background": "light"
     },
     "output_type": "display_data"
    }
   ],
   "source": [
    "plt.figure(figsize=(15,5))\n",
    "plt.xlabel('year')\n",
    "plt.ylabel('cumulative produced')\n",
    "plt.bar(\n",
    "    [x[0] for x in f],\n",
    "    [sum([x[1] for x in f][:i]) for i in range(len(f))],\n",
    ")\n",
    "plt.gca().yaxis.set_major_formatter(plt.matplotlib.ticker.StrMethodFormatter('{x:,.0f}'))"
   ]
  },
  {
   "cell_type": "code",
   "execution_count": 7,
   "id": "c06f1a3d",
   "metadata": {
    "ExecuteTime": {
     "end_time": "2022-04-30T12:28:20.310444Z",
     "start_time": "2022-04-30T12:28:19.832337Z"
    }
   },
   "outputs": [
    {
     "name": "stdout",
     "output_type": "stream",
     "text": [
      "10 -> 0.519\n",
      "11 -> 0.545\n",
      "12 -> 0.567\n",
      "13 -> 0.585\n",
      "14 -> 0.603\n",
      "15 -> 0.625\n",
      "16 -> 0.647\n",
      "17 -> 0.668\n",
      "18 -> 0.688\n",
      "19 -> 0.705\n",
      "20 -> 0.720\n",
      "21 -> 0.733\n",
      "22 -> 0.745\n",
      "23 -> 0.756\n",
      "24 -> 0.766\n"
     ]
    }
   ],
   "source": [
    "def ratio_alive(f: list, lifespan: int) -> float:\n",
    "    total = sum(f)\n",
    "    alive = sum(f[-lifespan:])\n",
    "    return alive/total\n",
    "\n",
    "ds = []\n",
    "for lifespan in range(10, 25):\n",
    "    r = ratio_alive([x[1] for x in f], lifespan)\n",
    "    ds.append((lifespan, r))\n",
    "    print(f'{lifespan} -> {r:.3f}')"
   ]
  },
  {
   "cell_type": "code",
   "execution_count": 8,
   "id": "74b91ee4",
   "metadata": {
    "ExecuteTime": {
     "end_time": "2022-04-30T12:28:21.058613Z",
     "start_time": "2022-04-30T12:28:20.311444Z"
    }
   },
   "outputs": [
    {
     "data": {
      "text/plain": [
       "[<matplotlib.lines.Line2D at 0x27c326b03d0>]"
      ]
     },
     "execution_count": 8,
     "metadata": {},
     "output_type": "execute_result"
    },
    {
     "data": {
      "image/png": "[encoded data removed]",
      "text/plain": [
       "<Figure size 1080x360 with 1 Axes>"
      ]
     },
     "metadata": {
      "needs_background": "light"
     },
     "output_type": "display_data"
    }
   ],
   "source": [
    "plt.figure(figsize=(15,5))\n",
    "plt.xlabel('lifespan (years)')\n",
    "plt.ylabel('ratio alive')\n",
    "plt.plot(\n",
    "    [x[0] for x in ds],\n",
    "    [x[1] for x in ds],\n",
    "    marker=\"o\",\n",
    ")"
   ]
  },
  {
   "cell_type": "code",
   "execution_count": 9,
   "id": "8647771c",
   "metadata": {
    "ExecuteTime": {
     "end_time": "2022-04-30T12:28:34.044537Z",
     "start_time": "2022-04-30T12:28:21.059613Z"
    }
   },
   "outputs": [
    {
     "name": "stdout",
     "output_type": "stream",
     "text": [
      "Assuming avg_lifespan = 20 years and sigma = 5 years, survival % = 70.4\n"
     ]
    }
   ],
   "source": [
    "avg_lifespan, sigma = 20, 5 # years\n",
    "total, num_alive = 0, 0\n",
    "for (year, num_produced) in f:\n",
    "    for _ in range(round(num_produced)):\n",
    "        expiry_year = round(year + max(0, normal(avg_lifespan, sigma)))\n",
    "        total += 1\n",
    "        if expiry_year >= 2022:\n",
    "            num_alive += 1\n",
    "survival_ratio = num_alive/total\n",
    "print(f'Assuming avg_lifespan = {avg_lifespan} years and sigma = {sigma} years, survival % = {survival_ratio*100:.1f}')"
   ]
  },
  {
   "cell_type": "code",
   "execution_count": 10,
   "id": "636bb863",
   "metadata": {
    "ExecuteTime": {
     "end_time": "2022-04-30T12:28:47.339532Z",
     "start_time": "2022-04-30T12:28:34.046538Z"
    }
   },
   "outputs": [
    {
     "name": "stdout",
     "output_type": "stream",
     "text": [
      "Assuming avg_lifespan_classics = 25 years and sigma_classics = 10 years\n",
      "Assuming avg_lifespan_massprod = 17 years and sigma_massprod = 5 years\n",
      "Survival % = 70.4\n"
     ]
    }
   ],
   "source": [
    "# avg_lifespan_classics, sigma_classics = 33, 10 # years\n",
    "# avg_lifespan_massprod, sigma_massprod = 15, 5  # years\n",
    "avg_lifespan_classics, sigma_classics = 25, 10 # years\n",
    "avg_lifespan_massprod, sigma_massprod = 17, 5  # years\n",
    "classics_year_end = 1999\n",
    "total, num_alive = 0, 0\n",
    "for (year, num_produced) in f:\n",
    "    for _ in range(round(num_produced)):\n",
    "        if year < classics_year_end:\n",
    "            expiry_year = round(year + max(0, normal(avg_lifespan_classics, sigma_classics)))\n",
    "        else:\n",
    "            expiry_year = round(year + max(0, normal(avg_lifespan_massprod, sigma_massprod)))\n",
    "        total += 1\n",
    "        if expiry_year >= 2022:\n",
    "            num_alive += 1\n",
    "print(f'Assuming avg_lifespan_classics = {avg_lifespan_classics} years and sigma_classics = {sigma_classics} years')\n",
    "print(f'Assuming avg_lifespan_massprod = {avg_lifespan_massprod} years and sigma_massprod = {sigma_massprod} years')\n",
    "print(f'Survival % = {survival_ratio*100:.1f}')"
   ]
  }
 ],
 "metadata": {
  "kernelspec": {
   "display_name": "Python 3 (ipykernel)",
   "language": "python",
   "name": "python3"
  },
  "language_info": {
   "codemirror_mode": {
    "name": "ipython",
    "version": 3
   },
   "file_extension": ".py",
   "mimetype": "text/x-python",
   "name": "python",
   "nbconvert_exporter": "python",
   "pygments_lexer": "ipython3",
   "version": "3.9.7"
  }
 },
 "nbformat": 4,
 "nbformat_minor": 5
}
